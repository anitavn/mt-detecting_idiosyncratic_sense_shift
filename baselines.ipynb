{
  "nbformat": 4,
  "nbformat_minor": 0,
  "metadata": {
    "colab": {
      "provenance": [],
      "collapsed_sections": [
        "8NiUEF0pVeSq"
      ],
      "toc_visible": true
    },
    "kernelspec": {
      "name": "python3",
      "display_name": "Python 3"
    },
    "language_info": {
      "name": "python"
    }
  },
  "cells": [
    {
      "cell_type": "markdown",
      "source": [
        "# Drive mount"
      ],
      "metadata": {
        "id": "XYG_vJtGMzut"
      }
    },
    {
      "cell_type": "code",
      "execution_count": null,
      "metadata": {
        "colab": {
          "base_uri": "https://localhost:8080/"
        },
        "id": "Cz7EY-AYMr6Y",
        "outputId": "4ffe427b-9d13-4ca5-a31a-e85cad72f538"
      },
      "outputs": [
        {
          "output_type": "stream",
          "name": "stdout",
          "text": [
            "Mounted at /content/drive\n",
            "diachronic.xlsx\n",
            "speaker1.xlsx\n",
            "speaker2.xlsx\n",
            "speaker3.xlsx\n",
            "speaker4.xlsx\n"
          ]
        }
      ],
      "source": [
        "from google.colab import drive\n",
        "import os\n",
        "\n",
        "\n",
        "drive.mount('/content/drive', force_remount=True)\n",
        "folder_path = '/content/drive/My Drive/MSc Computer Science/Master Thesis/trial_data/'\n",
        "\n",
        "for f in os.listdir(folder_path):\n",
        "    print(f)"
      ]
    },
    {
      "cell_type": "markdown",
      "source": [
        "# Helpers"
      ],
      "metadata": {
        "id": "CbsoHMn6oKYy"
      }
    },
    {
      "cell_type": "code",
      "source": [
        "target_word = [\"bærekraft\"]"
      ],
      "metadata": {
        "id": "vllfKZD8oftx"
      },
      "execution_count": null,
      "outputs": []
    },
    {
      "cell_type": "code",
      "source": [
        "import re\n",
        "\n",
        "def get_word_forms_by_stem(usages_a, usages_b, stem):\n",
        "    all_usages = usages_a + usages_b\n",
        "    word_forms = set()\n",
        "\n",
        "    for text in all_usages:\n",
        "        tokens = re.findall(r'\\b\\w+\\b', text.lower())\n",
        "        for token in tokens:\n",
        "            if token.startswith(stem):\n",
        "                word_forms.add(token)\n",
        "\n",
        "    return sorted(word_forms)\n"
      ],
      "metadata": {
        "id": "aoZjog6c6INT"
      },
      "execution_count": null,
      "outputs": []
    },
    {
      "source": [
        "import re\n",
        "\n",
        "def count_target_word_frequency(usages, target_word):\n",
        "  total_count = 0\n",
        "  for text in usages:\n",
        "    for target_word in target_word:\n",
        "        total_count += len(re.findall(target_word, text, re.IGNORECASE))\n",
        "  return total_count"
      ],
      "cell_type": "code",
      "metadata": {
        "id": "yIfAy2mOTlV0"
      },
      "execution_count": null,
      "outputs": []
    },
    {
      "cell_type": "code",
      "source": [
        "def count_total_words(text_list):\n",
        "    return sum(len(s.split()) for s in text_list)"
      ],
      "metadata": {
        "id": "VIYkJtUxUFwO"
      },
      "execution_count": null,
      "outputs": []
    },
    {
      "cell_type": "markdown",
      "source": [
        "# Freq. Baseline"
      ],
      "metadata": {
        "id": "xcN4DEpkoSCs"
      }
    },
    {
      "cell_type": "markdown",
      "source": [
        "## Diachronic"
      ],
      "metadata": {
        "id": "8NiUEF0pVeSq"
      }
    },
    {
      "cell_type": "code",
      "source": [
        "import pandas as pd\n",
        "\n",
        "d_df = pd.read_excel(folder_path + 'diachronic.xlsx')\n",
        "d_df"
      ],
      "metadata": {
        "colab": {
          "base_uri": "https://localhost:8080/",
          "height": 1000
        },
        "collapsed": true,
        "id": "2EaNqT-2NBIb",
        "outputId": "6999f299-b1e9-4e31-c421-0879976276b2"
      },
      "execution_count": null,
      "outputs": [
        {
          "output_type": "execute_result",
          "data": {
            "text/plain": [
              "     usage_id                                               text\n",
              "0   u2619_tg1  Men vi har en finansminister som ønsker å gjør...\n",
              "1    u456_tg1  Møtet vil sette fokus på nordisk bærekraftig u...\n",
              "2    u102_tg1  51 for 1997-98, Perspektiver på utvikling av n...\n",
              "3   u3037_tg1  Klarer vi ikke å få bukt med det, blir på en m...\n",
              "4   u1126_tg1  Jeg vil også understreke at det å nå de ambisi...\n",
              "5   u1003_tg1  Ingen kan etter toppmøtet i Johannesburg om bæ...\n",
              "6    u914_tg1  Når det gjelder miljø og det som stikkordmessi...\n",
              "7    u571_tg1  Det skal legge opp til en økonomisk politikk s...\n",
              "8   u3016_tg1  Regjeringen har som mål: Forvaltningen av Bare...\n",
              "9    u419_tg1  Derfor må vi forvalte fiskeressursene med sikt...\n",
              "10  u2771_tg1  En samlet komite mener at Regjeringen også må ...\n",
              "11  u3033_tg1  Innspillet om at man også skal forske på dette...\n",
              "12  u2233_tg1  Over tid vil konkurranseutsetting, valgfrihet ...\n",
              "13   u356_tg1  Statsråd Kosmos redegjørelse om Nordisk Minist...\n",
              "14  u2418_tg1  Sett i lys av dette mener jeg at den nye avtal...\n",
              "15  u1728_tg1                      Da vil det bli mer bærekraft.\n",
              "16   u130_tg1  Selvfølgelig er det mulig å gjøre det meste be...\n",
              "17   u122_tg1  En rekke viktige miljøpolitiske forutsetninger...\n",
              "18   u383_tg1  Regjeringens målsetting er å sikre rammebeting...\n",
              "19   u895_tg1  Et sentralt område er bærekraftig forvaltning ...\n",
              "20   u952_tg1  Så litt i forhold til bærekraftig utvikling – ...\n",
              "21  u2069_tg1  Bærekraftutfordringene er nå langt mer synlige...\n",
              "22  u2465_tg1  Løsningen må finnes globalt ved at verdenssamf...\n",
              "23   u108_tg1  En bærekraftig ressursforvaltning er en foruts...\n",
              "24  u2298_tg1  elefanter, støtter Norge kontrollert utnyttels...\n",
              "25   u814_tg1  Det er en stor fordel for Norge ikke å være me...\n",
              "26  u2932_tg1  Målet vårt er at vi skal klare å forvalte jord...\n",
              "27  u2661_tg1  Økologisk bærekraft forutsetter at det legges ...\n",
              "28  u2872_tg1  I utgangspunktet må FNs målsetting om et mer ø...\n",
              "29  u2232_tg1  Regjeringspartiene og Fremskrittspartiet mener...\n",
              "30  u5238_tg2  Jenters og gutters rett til utdanning er et vi...\n",
              "31   u912_tg2  klima, bærekraft og utvikling av samfunn og ve...\n",
              "32   u204_tg2  Jeg mener at det som nå ligger der, føyer seg ...\n",
              "33  u6074_tg2  Men jeg skal ikke begrense meg helt, jeg skal ...\n",
              "34  u2253_tg2  Det er utfordrende, og når det nå utformes nye...\n",
              "35  u2006_tg2  Vi har hele tiden vært opptatt av at det er øk...\n",
              "36  u1828_tg2  Regjeringen vil skape et økonomisk bærekraftig...\n",
              "37  u1143_tg2  I tillegg skal man gjøre den grønne dagsorden ...\n",
              "38  u6033_tg2  Bærekraftig bruk av naturlige økosystemer er e...\n",
              "39   u839_tg2  En fossil økonomi er i ferd med å bli erstatte...\n",
              "40  u5543_tg2  På grunn av de globale dimensjonene er det vel...\n",
              "41  u6067_tg2  Ja, det er vel det samme, at man kan sikkert f...\n",
              "42  u7308_tg2  Unntak for alle fiskefartøy ble dessuten vurde...\n",
              "43  u4467_tg2  Dette er en aktivitet som vi vil se gode tall ...\n",
              "44   u712_tg2  Nullutslipp, sirkulærøkonomi, bærekraft, biolo...\n",
              "45  u4837_tg2  Vi tar sikte på å kvittere ut dette spørsmålet...\n",
              "46  u3456_tg2  Avslutningsvis vil jeg gjerne dra fram, som je...\n",
              "47   u260_tg2  I fjor, omtrent på denne tiden, diskuterte vi ...\n",
              "48   u244_tg2  Dette skal skje gjennom effektiv bruk av samfu...\n",
              "49   u767_tg2  Bare gjennom å se alle viktige næringer for no...\n",
              "50  u1791_tg2  Vi må gjøre bærekraft til business og vise det...\n",
              "51  u1905_tg2  Regjeringens mål er å skape et bærekraftig vel...\n",
              "52  u4139_tg2  Regjeringens mål er at det velferdssamfunnet v...\n",
              "53  u4931_tg2  Det var et godt forsvar for hvorfor kommunene ...\n",
              "54   u217_tg2  Det skal lanseres en bærekraftig innvandringsp...\n",
              "55  u4597_tg2  For å kunne fortsette å utnytte dette potensia...\n",
              "56  u1628_tg2  I dag behandler vi langtidsplanen for forsknin...\n",
              "57  u5865_tg2  Jeg tror at med den forutsigbarheten vi legger...\n",
              "58  u5323_tg2  kr, eller om en skal gjøre noen begrensninger ...\n",
              "59  u5745_tg2  Norge og Palau har mange felles interesser opp..."
            ],
            "text/html": [
              "\n",
              "  <div id=\"df-09d3a298-4ff1-4c3d-841f-56c1876104d9\" class=\"colab-df-container\">\n",
              "    <div>\n",
              "<style scoped>\n",
              "    .dataframe tbody tr th:only-of-type {\n",
              "        vertical-align: middle;\n",
              "    }\n",
              "\n",
              "    .dataframe tbody tr th {\n",
              "        vertical-align: top;\n",
              "    }\n",
              "\n",
              "    .dataframe thead th {\n",
              "        text-align: right;\n",
              "    }\n",
              "</style>\n",
              "<table border=\"1\" class=\"dataframe\">\n",
              "  <thead>\n",
              "    <tr style=\"text-align: right;\">\n",
              "      <th></th>\n",
              "      <th>usage_id</th>\n",
              "      <th>text</th>\n",
              "    </tr>\n",
              "  </thead>\n",
              "  <tbody>\n",
              "    <tr>\n",
              "      <th>0</th>\n",
              "      <td>u2619_tg1</td>\n",
              "      <td>Men vi har en finansminister som ønsker å gjør...</td>\n",
              "    </tr>\n",
              "    <tr>\n",
              "      <th>1</th>\n",
              "      <td>u456_tg1</td>\n",
              "      <td>Møtet vil sette fokus på nordisk bærekraftig u...</td>\n",
              "    </tr>\n",
              "    <tr>\n",
              "      <th>2</th>\n",
              "      <td>u102_tg1</td>\n",
              "      <td>51 for 1997-98, Perspektiver på utvikling av n...</td>\n",
              "    </tr>\n",
              "    <tr>\n",
              "      <th>3</th>\n",
              "      <td>u3037_tg1</td>\n",
              "      <td>Klarer vi ikke å få bukt med det, blir på en m...</td>\n",
              "    </tr>\n",
              "    <tr>\n",
              "      <th>4</th>\n",
              "      <td>u1126_tg1</td>\n",
              "      <td>Jeg vil også understreke at det å nå de ambisi...</td>\n",
              "    </tr>\n",
              "    <tr>\n",
              "      <th>5</th>\n",
              "      <td>u1003_tg1</td>\n",
              "      <td>Ingen kan etter toppmøtet i Johannesburg om bæ...</td>\n",
              "    </tr>\n",
              "    <tr>\n",
              "      <th>6</th>\n",
              "      <td>u914_tg1</td>\n",
              "      <td>Når det gjelder miljø og det som stikkordmessi...</td>\n",
              "    </tr>\n",
              "    <tr>\n",
              "      <th>7</th>\n",
              "      <td>u571_tg1</td>\n",
              "      <td>Det skal legge opp til en økonomisk politikk s...</td>\n",
              "    </tr>\n",
              "    <tr>\n",
              "      <th>8</th>\n",
              "      <td>u3016_tg1</td>\n",
              "      <td>Regjeringen har som mål: Forvaltningen av Bare...</td>\n",
              "    </tr>\n",
              "    <tr>\n",
              "      <th>9</th>\n",
              "      <td>u419_tg1</td>\n",
              "      <td>Derfor må vi forvalte fiskeressursene med sikt...</td>\n",
              "    </tr>\n",
              "    <tr>\n",
              "      <th>10</th>\n",
              "      <td>u2771_tg1</td>\n",
              "      <td>En samlet komite mener at Regjeringen også må ...</td>\n",
              "    </tr>\n",
              "    <tr>\n",
              "      <th>11</th>\n",
              "      <td>u3033_tg1</td>\n",
              "      <td>Innspillet om at man også skal forske på dette...</td>\n",
              "    </tr>\n",
              "    <tr>\n",
              "      <th>12</th>\n",
              "      <td>u2233_tg1</td>\n",
              "      <td>Over tid vil konkurranseutsetting, valgfrihet ...</td>\n",
              "    </tr>\n",
              "    <tr>\n",
              "      <th>13</th>\n",
              "      <td>u356_tg1</td>\n",
              "      <td>Statsråd Kosmos redegjørelse om Nordisk Minist...</td>\n",
              "    </tr>\n",
              "    <tr>\n",
              "      <th>14</th>\n",
              "      <td>u2418_tg1</td>\n",
              "      <td>Sett i lys av dette mener jeg at den nye avtal...</td>\n",
              "    </tr>\n",
              "    <tr>\n",
              "      <th>15</th>\n",
              "      <td>u1728_tg1</td>\n",
              "      <td>Da vil det bli mer bærekraft.</td>\n",
              "    </tr>\n",
              "    <tr>\n",
              "      <th>16</th>\n",
              "      <td>u130_tg1</td>\n",
              "      <td>Selvfølgelig er det mulig å gjøre det meste be...</td>\n",
              "    </tr>\n",
              "    <tr>\n",
              "      <th>17</th>\n",
              "      <td>u122_tg1</td>\n",
              "      <td>En rekke viktige miljøpolitiske forutsetninger...</td>\n",
              "    </tr>\n",
              "    <tr>\n",
              "      <th>18</th>\n",
              "      <td>u383_tg1</td>\n",
              "      <td>Regjeringens målsetting er å sikre rammebeting...</td>\n",
              "    </tr>\n",
              "    <tr>\n",
              "      <th>19</th>\n",
              "      <td>u895_tg1</td>\n",
              "      <td>Et sentralt område er bærekraftig forvaltning ...</td>\n",
              "    </tr>\n",
              "    <tr>\n",
              "      <th>20</th>\n",
              "      <td>u952_tg1</td>\n",
              "      <td>Så litt i forhold til bærekraftig utvikling – ...</td>\n",
              "    </tr>\n",
              "    <tr>\n",
              "      <th>21</th>\n",
              "      <td>u2069_tg1</td>\n",
              "      <td>Bærekraftutfordringene er nå langt mer synlige...</td>\n",
              "    </tr>\n",
              "    <tr>\n",
              "      <th>22</th>\n",
              "      <td>u2465_tg1</td>\n",
              "      <td>Løsningen må finnes globalt ved at verdenssamf...</td>\n",
              "    </tr>\n",
              "    <tr>\n",
              "      <th>23</th>\n",
              "      <td>u108_tg1</td>\n",
              "      <td>En bærekraftig ressursforvaltning er en foruts...</td>\n",
              "    </tr>\n",
              "    <tr>\n",
              "      <th>24</th>\n",
              "      <td>u2298_tg1</td>\n",
              "      <td>elefanter, støtter Norge kontrollert utnyttels...</td>\n",
              "    </tr>\n",
              "    <tr>\n",
              "      <th>25</th>\n",
              "      <td>u814_tg1</td>\n",
              "      <td>Det er en stor fordel for Norge ikke å være me...</td>\n",
              "    </tr>\n",
              "    <tr>\n",
              "      <th>26</th>\n",
              "      <td>u2932_tg1</td>\n",
              "      <td>Målet vårt er at vi skal klare å forvalte jord...</td>\n",
              "    </tr>\n",
              "    <tr>\n",
              "      <th>27</th>\n",
              "      <td>u2661_tg1</td>\n",
              "      <td>Økologisk bærekraft forutsetter at det legges ...</td>\n",
              "    </tr>\n",
              "    <tr>\n",
              "      <th>28</th>\n",
              "      <td>u2872_tg1</td>\n",
              "      <td>I utgangspunktet må FNs målsetting om et mer ø...</td>\n",
              "    </tr>\n",
              "    <tr>\n",
              "      <th>29</th>\n",
              "      <td>u2232_tg1</td>\n",
              "      <td>Regjeringspartiene og Fremskrittspartiet mener...</td>\n",
              "    </tr>\n",
              "    <tr>\n",
              "      <th>30</th>\n",
              "      <td>u5238_tg2</td>\n",
              "      <td>Jenters og gutters rett til utdanning er et vi...</td>\n",
              "    </tr>\n",
              "    <tr>\n",
              "      <th>31</th>\n",
              "      <td>u912_tg2</td>\n",
              "      <td>klima, bærekraft og utvikling av samfunn og ve...</td>\n",
              "    </tr>\n",
              "    <tr>\n",
              "      <th>32</th>\n",
              "      <td>u204_tg2</td>\n",
              "      <td>Jeg mener at det som nå ligger der, føyer seg ...</td>\n",
              "    </tr>\n",
              "    <tr>\n",
              "      <th>33</th>\n",
              "      <td>u6074_tg2</td>\n",
              "      <td>Men jeg skal ikke begrense meg helt, jeg skal ...</td>\n",
              "    </tr>\n",
              "    <tr>\n",
              "      <th>34</th>\n",
              "      <td>u2253_tg2</td>\n",
              "      <td>Det er utfordrende, og når det nå utformes nye...</td>\n",
              "    </tr>\n",
              "    <tr>\n",
              "      <th>35</th>\n",
              "      <td>u2006_tg2</td>\n",
              "      <td>Vi har hele tiden vært opptatt av at det er øk...</td>\n",
              "    </tr>\n",
              "    <tr>\n",
              "      <th>36</th>\n",
              "      <td>u1828_tg2</td>\n",
              "      <td>Regjeringen vil skape et økonomisk bærekraftig...</td>\n",
              "    </tr>\n",
              "    <tr>\n",
              "      <th>37</th>\n",
              "      <td>u1143_tg2</td>\n",
              "      <td>I tillegg skal man gjøre den grønne dagsorden ...</td>\n",
              "    </tr>\n",
              "    <tr>\n",
              "      <th>38</th>\n",
              "      <td>u6033_tg2</td>\n",
              "      <td>Bærekraftig bruk av naturlige økosystemer er e...</td>\n",
              "    </tr>\n",
              "    <tr>\n",
              "      <th>39</th>\n",
              "      <td>u839_tg2</td>\n",
              "      <td>En fossil økonomi er i ferd med å bli erstatte...</td>\n",
              "    </tr>\n",
              "    <tr>\n",
              "      <th>40</th>\n",
              "      <td>u5543_tg2</td>\n",
              "      <td>På grunn av de globale dimensjonene er det vel...</td>\n",
              "    </tr>\n",
              "    <tr>\n",
              "      <th>41</th>\n",
              "      <td>u6067_tg2</td>\n",
              "      <td>Ja, det er vel det samme, at man kan sikkert f...</td>\n",
              "    </tr>\n",
              "    <tr>\n",
              "      <th>42</th>\n",
              "      <td>u7308_tg2</td>\n",
              "      <td>Unntak for alle fiskefartøy ble dessuten vurde...</td>\n",
              "    </tr>\n",
              "    <tr>\n",
              "      <th>43</th>\n",
              "      <td>u4467_tg2</td>\n",
              "      <td>Dette er en aktivitet som vi vil se gode tall ...</td>\n",
              "    </tr>\n",
              "    <tr>\n",
              "      <th>44</th>\n",
              "      <td>u712_tg2</td>\n",
              "      <td>Nullutslipp, sirkulærøkonomi, bærekraft, biolo...</td>\n",
              "    </tr>\n",
              "    <tr>\n",
              "      <th>45</th>\n",
              "      <td>u4837_tg2</td>\n",
              "      <td>Vi tar sikte på å kvittere ut dette spørsmålet...</td>\n",
              "    </tr>\n",
              "    <tr>\n",
              "      <th>46</th>\n",
              "      <td>u3456_tg2</td>\n",
              "      <td>Avslutningsvis vil jeg gjerne dra fram, som je...</td>\n",
              "    </tr>\n",
              "    <tr>\n",
              "      <th>47</th>\n",
              "      <td>u260_tg2</td>\n",
              "      <td>I fjor, omtrent på denne tiden, diskuterte vi ...</td>\n",
              "    </tr>\n",
              "    <tr>\n",
              "      <th>48</th>\n",
              "      <td>u244_tg2</td>\n",
              "      <td>Dette skal skje gjennom effektiv bruk av samfu...</td>\n",
              "    </tr>\n",
              "    <tr>\n",
              "      <th>49</th>\n",
              "      <td>u767_tg2</td>\n",
              "      <td>Bare gjennom å se alle viktige næringer for no...</td>\n",
              "    </tr>\n",
              "    <tr>\n",
              "      <th>50</th>\n",
              "      <td>u1791_tg2</td>\n",
              "      <td>Vi må gjøre bærekraft til business og vise det...</td>\n",
              "    </tr>\n",
              "    <tr>\n",
              "      <th>51</th>\n",
              "      <td>u1905_tg2</td>\n",
              "      <td>Regjeringens mål er å skape et bærekraftig vel...</td>\n",
              "    </tr>\n",
              "    <tr>\n",
              "      <th>52</th>\n",
              "      <td>u4139_tg2</td>\n",
              "      <td>Regjeringens mål er at det velferdssamfunnet v...</td>\n",
              "    </tr>\n",
              "    <tr>\n",
              "      <th>53</th>\n",
              "      <td>u4931_tg2</td>\n",
              "      <td>Det var et godt forsvar for hvorfor kommunene ...</td>\n",
              "    </tr>\n",
              "    <tr>\n",
              "      <th>54</th>\n",
              "      <td>u217_tg2</td>\n",
              "      <td>Det skal lanseres en bærekraftig innvandringsp...</td>\n",
              "    </tr>\n",
              "    <tr>\n",
              "      <th>55</th>\n",
              "      <td>u4597_tg2</td>\n",
              "      <td>For å kunne fortsette å utnytte dette potensia...</td>\n",
              "    </tr>\n",
              "    <tr>\n",
              "      <th>56</th>\n",
              "      <td>u1628_tg2</td>\n",
              "      <td>I dag behandler vi langtidsplanen for forsknin...</td>\n",
              "    </tr>\n",
              "    <tr>\n",
              "      <th>57</th>\n",
              "      <td>u5865_tg2</td>\n",
              "      <td>Jeg tror at med den forutsigbarheten vi legger...</td>\n",
              "    </tr>\n",
              "    <tr>\n",
              "      <th>58</th>\n",
              "      <td>u5323_tg2</td>\n",
              "      <td>kr, eller om en skal gjøre noen begrensninger ...</td>\n",
              "    </tr>\n",
              "    <tr>\n",
              "      <th>59</th>\n",
              "      <td>u5745_tg2</td>\n",
              "      <td>Norge og Palau har mange felles interesser opp...</td>\n",
              "    </tr>\n",
              "  </tbody>\n",
              "</table>\n",
              "</div>\n",
              "    <div class=\"colab-df-buttons\">\n",
              "\n",
              "  <div class=\"colab-df-container\">\n",
              "    <button class=\"colab-df-convert\" onclick=\"convertToInteractive('df-09d3a298-4ff1-4c3d-841f-56c1876104d9')\"\n",
              "            title=\"Convert this dataframe to an interactive table.\"\n",
              "            style=\"display:none;\">\n",
              "\n",
              "  <svg xmlns=\"http://www.w3.org/2000/svg\" height=\"24px\" viewBox=\"0 -960 960 960\">\n",
              "    <path d=\"M120-120v-720h720v720H120Zm60-500h600v-160H180v160Zm220 220h160v-160H400v160Zm0 220h160v-160H400v160ZM180-400h160v-160H180v160Zm440 0h160v-160H620v160ZM180-180h160v-160H180v160Zm440 0h160v-160H620v160Z\"/>\n",
              "  </svg>\n",
              "    </button>\n",
              "\n",
              "  <style>\n",
              "    .colab-df-container {\n",
              "      display:flex;\n",
              "      gap: 12px;\n",
              "    }\n",
              "\n",
              "    .colab-df-convert {\n",
              "      background-color: #E8F0FE;\n",
              "      border: none;\n",
              "      border-radius: 50%;\n",
              "      cursor: pointer;\n",
              "      display: none;\n",
              "      fill: #1967D2;\n",
              "      height: 32px;\n",
              "      padding: 0 0 0 0;\n",
              "      width: 32px;\n",
              "    }\n",
              "\n",
              "    .colab-df-convert:hover {\n",
              "      background-color: #E2EBFA;\n",
              "      box-shadow: 0px 1px 2px rgba(60, 64, 67, 0.3), 0px 1px 3px 1px rgba(60, 64, 67, 0.15);\n",
              "      fill: #174EA6;\n",
              "    }\n",
              "\n",
              "    .colab-df-buttons div {\n",
              "      margin-bottom: 4px;\n",
              "    }\n",
              "\n",
              "    [theme=dark] .colab-df-convert {\n",
              "      background-color: #3B4455;\n",
              "      fill: #D2E3FC;\n",
              "    }\n",
              "\n",
              "    [theme=dark] .colab-df-convert:hover {\n",
              "      background-color: #434B5C;\n",
              "      box-shadow: 0px 1px 3px 1px rgba(0, 0, 0, 0.15);\n",
              "      filter: drop-shadow(0px 1px 2px rgba(0, 0, 0, 0.3));\n",
              "      fill: #FFFFFF;\n",
              "    }\n",
              "  </style>\n",
              "\n",
              "    <script>\n",
              "      const buttonEl =\n",
              "        document.querySelector('#df-09d3a298-4ff1-4c3d-841f-56c1876104d9 button.colab-df-convert');\n",
              "      buttonEl.style.display =\n",
              "        google.colab.kernel.accessAllowed ? 'block' : 'none';\n",
              "\n",
              "      async function convertToInteractive(key) {\n",
              "        const element = document.querySelector('#df-09d3a298-4ff1-4c3d-841f-56c1876104d9');\n",
              "        const dataTable =\n",
              "          await google.colab.kernel.invokeFunction('convertToInteractive',\n",
              "                                                    [key], {});\n",
              "        if (!dataTable) return;\n",
              "\n",
              "        const docLinkHtml = 'Like what you see? Visit the ' +\n",
              "          '<a target=\"_blank\" href=https://colab.research.google.com/notebooks/data_table.ipynb>data table notebook</a>'\n",
              "          + ' to learn more about interactive tables.';\n",
              "        element.innerHTML = '';\n",
              "        dataTable['output_type'] = 'display_data';\n",
              "        await google.colab.output.renderOutput(dataTable, element);\n",
              "        const docLink = document.createElement('div');\n",
              "        docLink.innerHTML = docLinkHtml;\n",
              "        element.appendChild(docLink);\n",
              "      }\n",
              "    </script>\n",
              "  </div>\n",
              "\n",
              "\n",
              "    <div id=\"df-0879c75b-a607-4ae5-a371-f67762b112aa\">\n",
              "      <button class=\"colab-df-quickchart\" onclick=\"quickchart('df-0879c75b-a607-4ae5-a371-f67762b112aa')\"\n",
              "                title=\"Suggest charts\"\n",
              "                style=\"display:none;\">\n",
              "\n",
              "<svg xmlns=\"http://www.w3.org/2000/svg\" height=\"24px\"viewBox=\"0 0 24 24\"\n",
              "     width=\"24px\">\n",
              "    <g>\n",
              "        <path d=\"M19 3H5c-1.1 0-2 .9-2 2v14c0 1.1.9 2 2 2h14c1.1 0 2-.9 2-2V5c0-1.1-.9-2-2-2zM9 17H7v-7h2v7zm4 0h-2V7h2v10zm4 0h-2v-4h2v4z\"/>\n",
              "    </g>\n",
              "</svg>\n",
              "      </button>\n",
              "\n",
              "<style>\n",
              "  .colab-df-quickchart {\n",
              "      --bg-color: #E8F0FE;\n",
              "      --fill-color: #1967D2;\n",
              "      --hover-bg-color: #E2EBFA;\n",
              "      --hover-fill-color: #174EA6;\n",
              "      --disabled-fill-color: #AAA;\n",
              "      --disabled-bg-color: #DDD;\n",
              "  }\n",
              "\n",
              "  [theme=dark] .colab-df-quickchart {\n",
              "      --bg-color: #3B4455;\n",
              "      --fill-color: #D2E3FC;\n",
              "      --hover-bg-color: #434B5C;\n",
              "      --hover-fill-color: #FFFFFF;\n",
              "      --disabled-bg-color: #3B4455;\n",
              "      --disabled-fill-color: #666;\n",
              "  }\n",
              "\n",
              "  .colab-df-quickchart {\n",
              "    background-color: var(--bg-color);\n",
              "    border: none;\n",
              "    border-radius: 50%;\n",
              "    cursor: pointer;\n",
              "    display: none;\n",
              "    fill: var(--fill-color);\n",
              "    height: 32px;\n",
              "    padding: 0;\n",
              "    width: 32px;\n",
              "  }\n",
              "\n",
              "  .colab-df-quickchart:hover {\n",
              "    background-color: var(--hover-bg-color);\n",
              "    box-shadow: 0 1px 2px rgba(60, 64, 67, 0.3), 0 1px 3px 1px rgba(60, 64, 67, 0.15);\n",
              "    fill: var(--button-hover-fill-color);\n",
              "  }\n",
              "\n",
              "  .colab-df-quickchart-complete:disabled,\n",
              "  .colab-df-quickchart-complete:disabled:hover {\n",
              "    background-color: var(--disabled-bg-color);\n",
              "    fill: var(--disabled-fill-color);\n",
              "    box-shadow: none;\n",
              "  }\n",
              "\n",
              "  .colab-df-spinner {\n",
              "    border: 2px solid var(--fill-color);\n",
              "    border-color: transparent;\n",
              "    border-bottom-color: var(--fill-color);\n",
              "    animation:\n",
              "      spin 1s steps(1) infinite;\n",
              "  }\n",
              "\n",
              "  @keyframes spin {\n",
              "    0% {\n",
              "      border-color: transparent;\n",
              "      border-bottom-color: var(--fill-color);\n",
              "      border-left-color: var(--fill-color);\n",
              "    }\n",
              "    20% {\n",
              "      border-color: transparent;\n",
              "      border-left-color: var(--fill-color);\n",
              "      border-top-color: var(--fill-color);\n",
              "    }\n",
              "    30% {\n",
              "      border-color: transparent;\n",
              "      border-left-color: var(--fill-color);\n",
              "      border-top-color: var(--fill-color);\n",
              "      border-right-color: var(--fill-color);\n",
              "    }\n",
              "    40% {\n",
              "      border-color: transparent;\n",
              "      border-right-color: var(--fill-color);\n",
              "      border-top-color: var(--fill-color);\n",
              "    }\n",
              "    60% {\n",
              "      border-color: transparent;\n",
              "      border-right-color: var(--fill-color);\n",
              "    }\n",
              "    80% {\n",
              "      border-color: transparent;\n",
              "      border-right-color: var(--fill-color);\n",
              "      border-bottom-color: var(--fill-color);\n",
              "    }\n",
              "    90% {\n",
              "      border-color: transparent;\n",
              "      border-bottom-color: var(--fill-color);\n",
              "    }\n",
              "  }\n",
              "</style>\n",
              "\n",
              "      <script>\n",
              "        async function quickchart(key) {\n",
              "          const quickchartButtonEl =\n",
              "            document.querySelector('#' + key + ' button');\n",
              "          quickchartButtonEl.disabled = true;  // To prevent multiple clicks.\n",
              "          quickchartButtonEl.classList.add('colab-df-spinner');\n",
              "          try {\n",
              "            const charts = await google.colab.kernel.invokeFunction(\n",
              "                'suggestCharts', [key], {});\n",
              "          } catch (error) {\n",
              "            console.error('Error during call to suggestCharts:', error);\n",
              "          }\n",
              "          quickchartButtonEl.classList.remove('colab-df-spinner');\n",
              "          quickchartButtonEl.classList.add('colab-df-quickchart-complete');\n",
              "        }\n",
              "        (() => {\n",
              "          let quickchartButtonEl =\n",
              "            document.querySelector('#df-0879c75b-a607-4ae5-a371-f67762b112aa button');\n",
              "          quickchartButtonEl.style.display =\n",
              "            google.colab.kernel.accessAllowed ? 'block' : 'none';\n",
              "        })();\n",
              "      </script>\n",
              "    </div>\n",
              "\n",
              "  <div id=\"id_5f791ef0-a387-4ae9-b3cb-4a0025f750cc\">\n",
              "    <style>\n",
              "      .colab-df-generate {\n",
              "        background-color: #E8F0FE;\n",
              "        border: none;\n",
              "        border-radius: 50%;\n",
              "        cursor: pointer;\n",
              "        display: none;\n",
              "        fill: #1967D2;\n",
              "        height: 32px;\n",
              "        padding: 0 0 0 0;\n",
              "        width: 32px;\n",
              "      }\n",
              "\n",
              "      .colab-df-generate:hover {\n",
              "        background-color: #E2EBFA;\n",
              "        box-shadow: 0px 1px 2px rgba(60, 64, 67, 0.3), 0px 1px 3px 1px rgba(60, 64, 67, 0.15);\n",
              "        fill: #174EA6;\n",
              "      }\n",
              "\n",
              "      [theme=dark] .colab-df-generate {\n",
              "        background-color: #3B4455;\n",
              "        fill: #D2E3FC;\n",
              "      }\n",
              "\n",
              "      [theme=dark] .colab-df-generate:hover {\n",
              "        background-color: #434B5C;\n",
              "        box-shadow: 0px 1px 3px 1px rgba(0, 0, 0, 0.15);\n",
              "        filter: drop-shadow(0px 1px 2px rgba(0, 0, 0, 0.3));\n",
              "        fill: #FFFFFF;\n",
              "      }\n",
              "    </style>\n",
              "    <button class=\"colab-df-generate\" onclick=\"generateWithVariable('d_df')\"\n",
              "            title=\"Generate code using this dataframe.\"\n",
              "            style=\"display:none;\">\n",
              "\n",
              "  <svg xmlns=\"http://www.w3.org/2000/svg\" height=\"24px\"viewBox=\"0 0 24 24\"\n",
              "       width=\"24px\">\n",
              "    <path d=\"M7,19H8.4L18.45,9,17,7.55,7,17.6ZM5,21V16.75L18.45,3.32a2,2,0,0,1,2.83,0l1.4,1.43a1.91,1.91,0,0,1,.58,1.4,1.91,1.91,0,0,1-.58,1.4L9.25,21ZM18.45,9,17,7.55Zm-12,3A5.31,5.31,0,0,0,4.9,8.1,5.31,5.31,0,0,0,1,6.5,5.31,5.31,0,0,0,4.9,4.9,5.31,5.31,0,0,0,6.5,1,5.31,5.31,0,0,0,8.1,4.9,5.31,5.31,0,0,0,12,6.5,5.46,5.46,0,0,0,6.5,12Z\"/>\n",
              "  </svg>\n",
              "    </button>\n",
              "    <script>\n",
              "      (() => {\n",
              "      const buttonEl =\n",
              "        document.querySelector('#id_5f791ef0-a387-4ae9-b3cb-4a0025f750cc button.colab-df-generate');\n",
              "      buttonEl.style.display =\n",
              "        google.colab.kernel.accessAllowed ? 'block' : 'none';\n",
              "\n",
              "      buttonEl.onclick = () => {\n",
              "        google.colab.notebook.generateWithVariable('d_df');\n",
              "      }\n",
              "      })();\n",
              "    </script>\n",
              "  </div>\n",
              "\n",
              "    </div>\n",
              "  </div>\n"
            ],
            "application/vnd.google.colaboratory.intrinsic+json": {
              "type": "dataframe",
              "variable_name": "d_df",
              "summary": "{\n  \"name\": \"d_df\",\n  \"rows\": 60,\n  \"fields\": [\n    {\n      \"column\": \"usage_id\",\n      \"properties\": {\n        \"dtype\": \"string\",\n        \"num_unique_values\": 60,\n        \"samples\": [\n          \"u2619_tg1\",\n          \"u1003_tg1\",\n          \"u1828_tg2\"\n        ],\n        \"semantic_type\": \"\",\n        \"description\": \"\"\n      }\n    },\n    {\n      \"column\": \"text\",\n      \"properties\": {\n        \"dtype\": \"string\",\n        \"num_unique_values\": 60,\n        \"samples\": [\n          \"Men vi har en finansminister som \\u00f8nsker \\u00e5 gj\\u00f8re noe med det, og som vil bringe den problemstillingen som er reist i denne interpellasjonen, inn i h\\u00f8ringen om indikatorer for en b\\u00e6rekraftig utvikling og i det arbeidet som skal f\\u00f8lge videre etter det, fram mot framtidige nasjonalbudsjetter.\",\n          \"Ingen kan etter toppm\\u00f8tet i Johannesburg om b\\u00e6rekraftig utvikling si at vi er uvitende om verdens enorme utfordringer.\",\n          \"Regjeringen vil skape et \\u00f8konomisk b\\u00e6rekraftig velferdssamfunn gjennom \\u00e5 omstille norsk \\u00f8konomi, skape vekst og flere jobber, bygge infrastruktur i hele landet, fremme det gr\\u00f8nne skiftet og sikre at norsk \\u00f8konomi f\\u00e5r flere ben \\u00e5 st\\u00e5 p\\u00e5.\"\n        ],\n        \"semantic_type\": \"\",\n        \"description\": \"\"\n      }\n    }\n  ]\n}"
            }
          },
          "metadata": {},
          "execution_count": 3
        }
      ]
    },
    {
      "cell_type": "code",
      "source": [
        "tg1_usages = d_df[d_df['usage_id'].str.contains(\"tg1\", na=False)]['text'].tolist()\n",
        "tg2_usages = d_df[d_df['usage_id'].str.contains(\"tg2\", na=False)]['text'].tolist()\n",
        "\n",
        "len(tg1_usages), len(tg2_usages)"
      ],
      "metadata": {
        "colab": {
          "base_uri": "https://localhost:8080/"
        },
        "id": "qdeyZ2p_T2D4",
        "outputId": "edde1a21-f61e-46b9-ed6b-8f247776112c"
      },
      "execution_count": null,
      "outputs": [
        {
          "output_type": "execute_result",
          "data": {
            "text/plain": [
              "(30, 30)"
            ]
          },
          "metadata": {},
          "execution_count": 15
        }
      ]
    },
    {
      "cell_type": "code",
      "source": [
        "tg1_freq = count_target_word_frequency(tg1_usages, target_word)\n",
        "tg2_freq = count_target_word_frequency(tg2_usages, target_word)\n",
        "total = count_total_words(d_df['text'].tolist())\n",
        "\n",
        "tg1_freq, tg2_freq, total"
      ],
      "metadata": {
        "colab": {
          "base_uri": "https://localhost:8080/"
        },
        "id": "iauKPbHyUx4F",
        "outputId": "56510ceb-df86-4df1-c182-ecf0cc1cc506"
      },
      "execution_count": null,
      "outputs": [
        {
          "output_type": "execute_result",
          "data": {
            "text/plain": [
              "(31, 30, 1637)"
            ]
          },
          "metadata": {},
          "execution_count": 16
        }
      ]
    },
    {
      "cell_type": "code",
      "source": [
        "tg1_nor = tg1_freq / total\n",
        "tg2_nor = tg2_freq / total\n",
        "\n",
        "tg1_nor, tg2_nor"
      ],
      "metadata": {
        "colab": {
          "base_uri": "https://localhost:8080/"
        },
        "id": "mZC7aVbpUntv",
        "outputId": "32e309c5-4574-4300-a23b-3ea0044066a8"
      },
      "execution_count": null,
      "outputs": [
        {
          "output_type": "execute_result",
          "data": {
            "text/plain": [
              "(0.018937080024434942, 0.01832620647525962)"
            ]
          },
          "metadata": {},
          "execution_count": 37
        }
      ]
    },
    {
      "cell_type": "code",
      "source": [
        "d_change = abs(tg1_nor - tg2_nor)\n",
        "d_change"
      ],
      "metadata": {
        "colab": {
          "base_uri": "https://localhost:8080/"
        },
        "id": "fTl83Bd5VMNS",
        "outputId": "d3334182-653f-466f-a5ea-5355a7a11e59"
      },
      "execution_count": null,
      "outputs": [
        {
          "output_type": "execute_result",
          "data": {
            "text/plain": [
              "0.0006108735491753212"
            ]
          },
          "metadata": {},
          "execution_count": 38
        }
      ]
    },
    {
      "cell_type": "markdown",
      "source": [
        "## Speaker 1"
      ],
      "metadata": {
        "id": "KAS1VndsVgQV"
      }
    },
    {
      "cell_type": "code",
      "source": [
        "import pandas as pd\n",
        "\n",
        "df_s1 = pd.read_excel(folder_path + 'speaker1.xlsx')\n",
        "df_s1"
      ],
      "metadata": {
        "colab": {
          "base_uri": "https://localhost:8080/",
          "height": 1000
        },
        "collapsed": true,
        "id": "8FjLjj7BVfzz",
        "outputId": "f07e29d8-2e1c-43bf-bd5e-5c0f25dc1499"
      },
      "execution_count": null,
      "outputs": [
        {
          "output_type": "execute_result",
          "data": {
            "text/plain": [
              "         usage_id                                               text\n",
              "0   u5543_general  Dette er ikke bare et spørsmål om rydding, det...\n",
              "1     u35_speaker  Målet med omstillingen har vært økt operativ e...\n",
              "2     u28_speaker  Altså: Når statsråden er så klar på at han ikk...\n",
              "3    u244_general  Kristelig Folkeparti støtter de målene som kom...\n",
              "4     u23_speaker  Økonomisk bærekraft er ganske enkelt – vi kan ...\n",
              "5    u163_speaker  Av hensyn til økologisk bærekraft, andre arter...\n",
              "6    u189_speaker  I en globalisert økonomi er denne typen avtale...\n",
              "7    u188_speaker  Det må jo være et eller annet mangelfullt ved ...\n",
              "8    u173_speaker  Det Sjømat Norge slakter, er Stortingets innst...\n",
              "9    u139_speaker  Hovedmålet for reindriftsavtalen 2014/2015 er ...\n",
              "10    u22_speaker        Det sier noe om den økologiske bærekraften.\n",
              "11   u151_speaker  Jeg er glad for at meldingen balanserer godt m...\n",
              "12   u108_speaker  Det eneste vi har sagt, er at denne produksjon...\n",
              "13    u59_speaker  Reindriftsloven sier at reindrifta pålegges å ...\n",
              "14   u129_speaker  Nå er det kommet en oppbyggingsplan for kystto...\n",
              "15   u154_speaker  Økt kampkraft og langsiktig økonomisk bærekraf...\n",
              "16   u195_speaker  Det siste kravet til næringen er at den skal v...\n",
              "17   u143_speaker  En moderne reindriftsnæring forutsetter at nær...\n",
              "18    u50_speaker   Derfor har man valgt lus som bærekraftindikator.\n",
              "19   u166_speaker  Vårt mål om bærekraftig beskatning avhenger fa...\n",
              "20   u186_speaker  Vi skal tenke bærekraftig framtidsrettet – og ...\n",
              "21   u107_speaker  Riksrevisjonen ber om at målet om kulturell og...\n",
              "22    u56_speaker  Men det er et viktig poeng i saken at det er v...\n",
              "23   u114_speaker  Dette begrunner de med at Norge bedre forstår ...\n",
              "24     u8_speaker  Når det gjelder havbruksnæringen, har man over...\n",
              "25   u204_general  Det skal lanseres en bærekraftig innvandringsp...\n",
              "26  u2253_general  Forutsetningen for at Norge skal lykkes der vi...\n",
              "27  u2006_general  Det er bred enighet om at den nåværende avtale...\n",
              "28  u1828_general  Stortinget satte som forutsetning for videre v...\n",
              "29  u1143_general  Om vi spiser mindre kjøtt, men betaler mer for...\n",
              "30   u712_general  Vi synes det er positivt at norsk industri skr...\n",
              "31  u3456_general  Det er ikke bærekraftig over tid, og det komme...\n",
              "32   u260_general  Den er kåret til en av verdens mest bærekrafti...\n",
              "33  u1791_general  Et bærekraftig velferdssamfunn vil gi rom for ...\n",
              "34  u1905_general  Disse er: Et grønt Norden: Det er et ønske om ...\n",
              "35   u217_general  En slik utvikling og endringstakt er ikke bære...\n",
              "36  u1628_general  Vi er i front når det gjelder helseteknologi, ...\n",
              "37  u5323_general  Mitt spørsmål til finansministeren lyder: «Kap...\n",
              "38  u4464_general  Det er viktig dersom vi skal nå målet om et bæ...\n",
              "39  u4139_general  Regjeringen vil arbeide for at våre forhandlin...\n",
              "40  u6074_general  Disse små og sårbare håndverksfagene er særlig...\n",
              "41  u4597_general  Arbeidslivskriminaliteten svekker velferdssamf...\n",
              "42    u26_speaker  Men hvis kulturell bærekraft skal være at bare...\n",
              "43  u4931_general  I det ligger ikke at en er imot å sette i gang...\n",
              "44     u6_speaker  Dette virker etter vår mening mer preventivt, ...\n",
              "45    u70_speaker  Det har man bedt om at det ryddes opp i. Derfo...\n",
              "46    u62_speaker  Når SV løfter opp antallet aktører som en indi...\n",
              "47    u57_speaker  I forkant av meldingen er problemene rundt rei...\n",
              "48     u7_speaker  I et bærekraftperspektiv snakker man om økonom...\n",
              "49    u55_speaker  En reell vektlegging av det økologiske bærekra...\n",
              "50  u5238_general  Jeg må lov til å sitere litt fra innstillingen...\n",
              "51   u912_general  Jeg skal oppsummere.For det første: Et grønt N...\n",
              "52  u6033_general  Med meldingen ønsker regjeringen å stake ut ku...\n",
              "53   u839_general  I årets finansmarkedsmelding omtales også init...\n",
              "54  u6067_general  Det å kvalifisere en større andel av folk med ...\n",
              "55  u4467_general  Markedsaktører og andre lands myndigheter stil...\n",
              "56  u4837_general  Det handler om både den økonomiske og den sosi...\n",
              "57   u767_general  Regjeringen er i dialog med EU om den nye migr...\n",
              "58  u5865_general  Gitt at vi vet nok: Hva vet miljøministeren om...\n",
              "59  u5745_general  Det er bred enighet i dag om at næringslivet s..."
            ],
            "text/html": [
              "\n",
              "  <div id=\"df-a265137c-2ddd-481e-b198-928ac80d6ee1\" class=\"colab-df-container\">\n",
              "    <div>\n",
              "<style scoped>\n",
              "    .dataframe tbody tr th:only-of-type {\n",
              "        vertical-align: middle;\n",
              "    }\n",
              "\n",
              "    .dataframe tbody tr th {\n",
              "        vertical-align: top;\n",
              "    }\n",
              "\n",
              "    .dataframe thead th {\n",
              "        text-align: right;\n",
              "    }\n",
              "</style>\n",
              "<table border=\"1\" class=\"dataframe\">\n",
              "  <thead>\n",
              "    <tr style=\"text-align: right;\">\n",
              "      <th></th>\n",
              "      <th>usage_id</th>\n",
              "      <th>text</th>\n",
              "    </tr>\n",
              "  </thead>\n",
              "  <tbody>\n",
              "    <tr>\n",
              "      <th>0</th>\n",
              "      <td>u5543_general</td>\n",
              "      <td>Dette er ikke bare et spørsmål om rydding, det...</td>\n",
              "    </tr>\n",
              "    <tr>\n",
              "      <th>1</th>\n",
              "      <td>u35_speaker</td>\n",
              "      <td>Målet med omstillingen har vært økt operativ e...</td>\n",
              "    </tr>\n",
              "    <tr>\n",
              "      <th>2</th>\n",
              "      <td>u28_speaker</td>\n",
              "      <td>Altså: Når statsråden er så klar på at han ikk...</td>\n",
              "    </tr>\n",
              "    <tr>\n",
              "      <th>3</th>\n",
              "      <td>u244_general</td>\n",
              "      <td>Kristelig Folkeparti støtter de målene som kom...</td>\n",
              "    </tr>\n",
              "    <tr>\n",
              "      <th>4</th>\n",
              "      <td>u23_speaker</td>\n",
              "      <td>Økonomisk bærekraft er ganske enkelt – vi kan ...</td>\n",
              "    </tr>\n",
              "    <tr>\n",
              "      <th>5</th>\n",
              "      <td>u163_speaker</td>\n",
              "      <td>Av hensyn til økologisk bærekraft, andre arter...</td>\n",
              "    </tr>\n",
              "    <tr>\n",
              "      <th>6</th>\n",
              "      <td>u189_speaker</td>\n",
              "      <td>I en globalisert økonomi er denne typen avtale...</td>\n",
              "    </tr>\n",
              "    <tr>\n",
              "      <th>7</th>\n",
              "      <td>u188_speaker</td>\n",
              "      <td>Det må jo være et eller annet mangelfullt ved ...</td>\n",
              "    </tr>\n",
              "    <tr>\n",
              "      <th>8</th>\n",
              "      <td>u173_speaker</td>\n",
              "      <td>Det Sjømat Norge slakter, er Stortingets innst...</td>\n",
              "    </tr>\n",
              "    <tr>\n",
              "      <th>9</th>\n",
              "      <td>u139_speaker</td>\n",
              "      <td>Hovedmålet for reindriftsavtalen 2014/2015 er ...</td>\n",
              "    </tr>\n",
              "    <tr>\n",
              "      <th>10</th>\n",
              "      <td>u22_speaker</td>\n",
              "      <td>Det sier noe om den økologiske bærekraften.</td>\n",
              "    </tr>\n",
              "    <tr>\n",
              "      <th>11</th>\n",
              "      <td>u151_speaker</td>\n",
              "      <td>Jeg er glad for at meldingen balanserer godt m...</td>\n",
              "    </tr>\n",
              "    <tr>\n",
              "      <th>12</th>\n",
              "      <td>u108_speaker</td>\n",
              "      <td>Det eneste vi har sagt, er at denne produksjon...</td>\n",
              "    </tr>\n",
              "    <tr>\n",
              "      <th>13</th>\n",
              "      <td>u59_speaker</td>\n",
              "      <td>Reindriftsloven sier at reindrifta pålegges å ...</td>\n",
              "    </tr>\n",
              "    <tr>\n",
              "      <th>14</th>\n",
              "      <td>u129_speaker</td>\n",
              "      <td>Nå er det kommet en oppbyggingsplan for kystto...</td>\n",
              "    </tr>\n",
              "    <tr>\n",
              "      <th>15</th>\n",
              "      <td>u154_speaker</td>\n",
              "      <td>Økt kampkraft og langsiktig økonomisk bærekraf...</td>\n",
              "    </tr>\n",
              "    <tr>\n",
              "      <th>16</th>\n",
              "      <td>u195_speaker</td>\n",
              "      <td>Det siste kravet til næringen er at den skal v...</td>\n",
              "    </tr>\n",
              "    <tr>\n",
              "      <th>17</th>\n",
              "      <td>u143_speaker</td>\n",
              "      <td>En moderne reindriftsnæring forutsetter at nær...</td>\n",
              "    </tr>\n",
              "    <tr>\n",
              "      <th>18</th>\n",
              "      <td>u50_speaker</td>\n",
              "      <td>Derfor har man valgt lus som bærekraftindikator.</td>\n",
              "    </tr>\n",
              "    <tr>\n",
              "      <th>19</th>\n",
              "      <td>u166_speaker</td>\n",
              "      <td>Vårt mål om bærekraftig beskatning avhenger fa...</td>\n",
              "    </tr>\n",
              "    <tr>\n",
              "      <th>20</th>\n",
              "      <td>u186_speaker</td>\n",
              "      <td>Vi skal tenke bærekraftig framtidsrettet – og ...</td>\n",
              "    </tr>\n",
              "    <tr>\n",
              "      <th>21</th>\n",
              "      <td>u107_speaker</td>\n",
              "      <td>Riksrevisjonen ber om at målet om kulturell og...</td>\n",
              "    </tr>\n",
              "    <tr>\n",
              "      <th>22</th>\n",
              "      <td>u56_speaker</td>\n",
              "      <td>Men det er et viktig poeng i saken at det er v...</td>\n",
              "    </tr>\n",
              "    <tr>\n",
              "      <th>23</th>\n",
              "      <td>u114_speaker</td>\n",
              "      <td>Dette begrunner de med at Norge bedre forstår ...</td>\n",
              "    </tr>\n",
              "    <tr>\n",
              "      <th>24</th>\n",
              "      <td>u8_speaker</td>\n",
              "      <td>Når det gjelder havbruksnæringen, har man over...</td>\n",
              "    </tr>\n",
              "    <tr>\n",
              "      <th>25</th>\n",
              "      <td>u204_general</td>\n",
              "      <td>Det skal lanseres en bærekraftig innvandringsp...</td>\n",
              "    </tr>\n",
              "    <tr>\n",
              "      <th>26</th>\n",
              "      <td>u2253_general</td>\n",
              "      <td>Forutsetningen for at Norge skal lykkes der vi...</td>\n",
              "    </tr>\n",
              "    <tr>\n",
              "      <th>27</th>\n",
              "      <td>u2006_general</td>\n",
              "      <td>Det er bred enighet om at den nåværende avtale...</td>\n",
              "    </tr>\n",
              "    <tr>\n",
              "      <th>28</th>\n",
              "      <td>u1828_general</td>\n",
              "      <td>Stortinget satte som forutsetning for videre v...</td>\n",
              "    </tr>\n",
              "    <tr>\n",
              "      <th>29</th>\n",
              "      <td>u1143_general</td>\n",
              "      <td>Om vi spiser mindre kjøtt, men betaler mer for...</td>\n",
              "    </tr>\n",
              "    <tr>\n",
              "      <th>30</th>\n",
              "      <td>u712_general</td>\n",
              "      <td>Vi synes det er positivt at norsk industri skr...</td>\n",
              "    </tr>\n",
              "    <tr>\n",
              "      <th>31</th>\n",
              "      <td>u3456_general</td>\n",
              "      <td>Det er ikke bærekraftig over tid, og det komme...</td>\n",
              "    </tr>\n",
              "    <tr>\n",
              "      <th>32</th>\n",
              "      <td>u260_general</td>\n",
              "      <td>Den er kåret til en av verdens mest bærekrafti...</td>\n",
              "    </tr>\n",
              "    <tr>\n",
              "      <th>33</th>\n",
              "      <td>u1791_general</td>\n",
              "      <td>Et bærekraftig velferdssamfunn vil gi rom for ...</td>\n",
              "    </tr>\n",
              "    <tr>\n",
              "      <th>34</th>\n",
              "      <td>u1905_general</td>\n",
              "      <td>Disse er: Et grønt Norden: Det er et ønske om ...</td>\n",
              "    </tr>\n",
              "    <tr>\n",
              "      <th>35</th>\n",
              "      <td>u217_general</td>\n",
              "      <td>En slik utvikling og endringstakt er ikke bære...</td>\n",
              "    </tr>\n",
              "    <tr>\n",
              "      <th>36</th>\n",
              "      <td>u1628_general</td>\n",
              "      <td>Vi er i front når det gjelder helseteknologi, ...</td>\n",
              "    </tr>\n",
              "    <tr>\n",
              "      <th>37</th>\n",
              "      <td>u5323_general</td>\n",
              "      <td>Mitt spørsmål til finansministeren lyder: «Kap...</td>\n",
              "    </tr>\n",
              "    <tr>\n",
              "      <th>38</th>\n",
              "      <td>u4464_general</td>\n",
              "      <td>Det er viktig dersom vi skal nå målet om et bæ...</td>\n",
              "    </tr>\n",
              "    <tr>\n",
              "      <th>39</th>\n",
              "      <td>u4139_general</td>\n",
              "      <td>Regjeringen vil arbeide for at våre forhandlin...</td>\n",
              "    </tr>\n",
              "    <tr>\n",
              "      <th>40</th>\n",
              "      <td>u6074_general</td>\n",
              "      <td>Disse små og sårbare håndverksfagene er særlig...</td>\n",
              "    </tr>\n",
              "    <tr>\n",
              "      <th>41</th>\n",
              "      <td>u4597_general</td>\n",
              "      <td>Arbeidslivskriminaliteten svekker velferdssamf...</td>\n",
              "    </tr>\n",
              "    <tr>\n",
              "      <th>42</th>\n",
              "      <td>u26_speaker</td>\n",
              "      <td>Men hvis kulturell bærekraft skal være at bare...</td>\n",
              "    </tr>\n",
              "    <tr>\n",
              "      <th>43</th>\n",
              "      <td>u4931_general</td>\n",
              "      <td>I det ligger ikke at en er imot å sette i gang...</td>\n",
              "    </tr>\n",
              "    <tr>\n",
              "      <th>44</th>\n",
              "      <td>u6_speaker</td>\n",
              "      <td>Dette virker etter vår mening mer preventivt, ...</td>\n",
              "    </tr>\n",
              "    <tr>\n",
              "      <th>45</th>\n",
              "      <td>u70_speaker</td>\n",
              "      <td>Det har man bedt om at det ryddes opp i. Derfo...</td>\n",
              "    </tr>\n",
              "    <tr>\n",
              "      <th>46</th>\n",
              "      <td>u62_speaker</td>\n",
              "      <td>Når SV løfter opp antallet aktører som en indi...</td>\n",
              "    </tr>\n",
              "    <tr>\n",
              "      <th>47</th>\n",
              "      <td>u57_speaker</td>\n",
              "      <td>I forkant av meldingen er problemene rundt rei...</td>\n",
              "    </tr>\n",
              "    <tr>\n",
              "      <th>48</th>\n",
              "      <td>u7_speaker</td>\n",
              "      <td>I et bærekraftperspektiv snakker man om økonom...</td>\n",
              "    </tr>\n",
              "    <tr>\n",
              "      <th>49</th>\n",
              "      <td>u55_speaker</td>\n",
              "      <td>En reell vektlegging av det økologiske bærekra...</td>\n",
              "    </tr>\n",
              "    <tr>\n",
              "      <th>50</th>\n",
              "      <td>u5238_general</td>\n",
              "      <td>Jeg må lov til å sitere litt fra innstillingen...</td>\n",
              "    </tr>\n",
              "    <tr>\n",
              "      <th>51</th>\n",
              "      <td>u912_general</td>\n",
              "      <td>Jeg skal oppsummere.For det første: Et grønt N...</td>\n",
              "    </tr>\n",
              "    <tr>\n",
              "      <th>52</th>\n",
              "      <td>u6033_general</td>\n",
              "      <td>Med meldingen ønsker regjeringen å stake ut ku...</td>\n",
              "    </tr>\n",
              "    <tr>\n",
              "      <th>53</th>\n",
              "      <td>u839_general</td>\n",
              "      <td>I årets finansmarkedsmelding omtales også init...</td>\n",
              "    </tr>\n",
              "    <tr>\n",
              "      <th>54</th>\n",
              "      <td>u6067_general</td>\n",
              "      <td>Det å kvalifisere en større andel av folk med ...</td>\n",
              "    </tr>\n",
              "    <tr>\n",
              "      <th>55</th>\n",
              "      <td>u4467_general</td>\n",
              "      <td>Markedsaktører og andre lands myndigheter stil...</td>\n",
              "    </tr>\n",
              "    <tr>\n",
              "      <th>56</th>\n",
              "      <td>u4837_general</td>\n",
              "      <td>Det handler om både den økonomiske og den sosi...</td>\n",
              "    </tr>\n",
              "    <tr>\n",
              "      <th>57</th>\n",
              "      <td>u767_general</td>\n",
              "      <td>Regjeringen er i dialog med EU om den nye migr...</td>\n",
              "    </tr>\n",
              "    <tr>\n",
              "      <th>58</th>\n",
              "      <td>u5865_general</td>\n",
              "      <td>Gitt at vi vet nok: Hva vet miljøministeren om...</td>\n",
              "    </tr>\n",
              "    <tr>\n",
              "      <th>59</th>\n",
              "      <td>u5745_general</td>\n",
              "      <td>Det er bred enighet i dag om at næringslivet s...</td>\n",
              "    </tr>\n",
              "  </tbody>\n",
              "</table>\n",
              "</div>\n",
              "    <div class=\"colab-df-buttons\">\n",
              "\n",
              "  <div class=\"colab-df-container\">\n",
              "    <button class=\"colab-df-convert\" onclick=\"convertToInteractive('df-a265137c-2ddd-481e-b198-928ac80d6ee1')\"\n",
              "            title=\"Convert this dataframe to an interactive table.\"\n",
              "            style=\"display:none;\">\n",
              "\n",
              "  <svg xmlns=\"http://www.w3.org/2000/svg\" height=\"24px\" viewBox=\"0 -960 960 960\">\n",
              "    <path d=\"M120-120v-720h720v720H120Zm60-500h600v-160H180v160Zm220 220h160v-160H400v160Zm0 220h160v-160H400v160ZM180-400h160v-160H180v160Zm440 0h160v-160H620v160ZM180-180h160v-160H180v160Zm440 0h160v-160H620v160Z\"/>\n",
              "  </svg>\n",
              "    </button>\n",
              "\n",
              "  <style>\n",
              "    .colab-df-container {\n",
              "      display:flex;\n",
              "      gap: 12px;\n",
              "    }\n",
              "\n",
              "    .colab-df-convert {\n",
              "      background-color: #E8F0FE;\n",
              "      border: none;\n",
              "      border-radius: 50%;\n",
              "      cursor: pointer;\n",
              "      display: none;\n",
              "      fill: #1967D2;\n",
              "      height: 32px;\n",
              "      padding: 0 0 0 0;\n",
              "      width: 32px;\n",
              "    }\n",
              "\n",
              "    .colab-df-convert:hover {\n",
              "      background-color: #E2EBFA;\n",
              "      box-shadow: 0px 1px 2px rgba(60, 64, 67, 0.3), 0px 1px 3px 1px rgba(60, 64, 67, 0.15);\n",
              "      fill: #174EA6;\n",
              "    }\n",
              "\n",
              "    .colab-df-buttons div {\n",
              "      margin-bottom: 4px;\n",
              "    }\n",
              "\n",
              "    [theme=dark] .colab-df-convert {\n",
              "      background-color: #3B4455;\n",
              "      fill: #D2E3FC;\n",
              "    }\n",
              "\n",
              "    [theme=dark] .colab-df-convert:hover {\n",
              "      background-color: #434B5C;\n",
              "      box-shadow: 0px 1px 3px 1px rgba(0, 0, 0, 0.15);\n",
              "      filter: drop-shadow(0px 1px 2px rgba(0, 0, 0, 0.3));\n",
              "      fill: #FFFFFF;\n",
              "    }\n",
              "  </style>\n",
              "\n",
              "    <script>\n",
              "      const buttonEl =\n",
              "        document.querySelector('#df-a265137c-2ddd-481e-b198-928ac80d6ee1 button.colab-df-convert');\n",
              "      buttonEl.style.display =\n",
              "        google.colab.kernel.accessAllowed ? 'block' : 'none';\n",
              "\n",
              "      async function convertToInteractive(key) {\n",
              "        const element = document.querySelector('#df-a265137c-2ddd-481e-b198-928ac80d6ee1');\n",
              "        const dataTable =\n",
              "          await google.colab.kernel.invokeFunction('convertToInteractive',\n",
              "                                                    [key], {});\n",
              "        if (!dataTable) return;\n",
              "\n",
              "        const docLinkHtml = 'Like what you see? Visit the ' +\n",
              "          '<a target=\"_blank\" href=https://colab.research.google.com/notebooks/data_table.ipynb>data table notebook</a>'\n",
              "          + ' to learn more about interactive tables.';\n",
              "        element.innerHTML = '';\n",
              "        dataTable['output_type'] = 'display_data';\n",
              "        await google.colab.output.renderOutput(dataTable, element);\n",
              "        const docLink = document.createElement('div');\n",
              "        docLink.innerHTML = docLinkHtml;\n",
              "        element.appendChild(docLink);\n",
              "      }\n",
              "    </script>\n",
              "  </div>\n",
              "\n",
              "\n",
              "    <div id=\"df-92ba9052-195b-4061-a331-b40687e5ce7d\">\n",
              "      <button class=\"colab-df-quickchart\" onclick=\"quickchart('df-92ba9052-195b-4061-a331-b40687e5ce7d')\"\n",
              "                title=\"Suggest charts\"\n",
              "                style=\"display:none;\">\n",
              "\n",
              "<svg xmlns=\"http://www.w3.org/2000/svg\" height=\"24px\"viewBox=\"0 0 24 24\"\n",
              "     width=\"24px\">\n",
              "    <g>\n",
              "        <path d=\"M19 3H5c-1.1 0-2 .9-2 2v14c0 1.1.9 2 2 2h14c1.1 0 2-.9 2-2V5c0-1.1-.9-2-2-2zM9 17H7v-7h2v7zm4 0h-2V7h2v10zm4 0h-2v-4h2v4z\"/>\n",
              "    </g>\n",
              "</svg>\n",
              "      </button>\n",
              "\n",
              "<style>\n",
              "  .colab-df-quickchart {\n",
              "      --bg-color: #E8F0FE;\n",
              "      --fill-color: #1967D2;\n",
              "      --hover-bg-color: #E2EBFA;\n",
              "      --hover-fill-color: #174EA6;\n",
              "      --disabled-fill-color: #AAA;\n",
              "      --disabled-bg-color: #DDD;\n",
              "  }\n",
              "\n",
              "  [theme=dark] .colab-df-quickchart {\n",
              "      --bg-color: #3B4455;\n",
              "      --fill-color: #D2E3FC;\n",
              "      --hover-bg-color: #434B5C;\n",
              "      --hover-fill-color: #FFFFFF;\n",
              "      --disabled-bg-color: #3B4455;\n",
              "      --disabled-fill-color: #666;\n",
              "  }\n",
              "\n",
              "  .colab-df-quickchart {\n",
              "    background-color: var(--bg-color);\n",
              "    border: none;\n",
              "    border-radius: 50%;\n",
              "    cursor: pointer;\n",
              "    display: none;\n",
              "    fill: var(--fill-color);\n",
              "    height: 32px;\n",
              "    padding: 0;\n",
              "    width: 32px;\n",
              "  }\n",
              "\n",
              "  .colab-df-quickchart:hover {\n",
              "    background-color: var(--hover-bg-color);\n",
              "    box-shadow: 0 1px 2px rgba(60, 64, 67, 0.3), 0 1px 3px 1px rgba(60, 64, 67, 0.15);\n",
              "    fill: var(--button-hover-fill-color);\n",
              "  }\n",
              "\n",
              "  .colab-df-quickchart-complete:disabled,\n",
              "  .colab-df-quickchart-complete:disabled:hover {\n",
              "    background-color: var(--disabled-bg-color);\n",
              "    fill: var(--disabled-fill-color);\n",
              "    box-shadow: none;\n",
              "  }\n",
              "\n",
              "  .colab-df-spinner {\n",
              "    border: 2px solid var(--fill-color);\n",
              "    border-color: transparent;\n",
              "    border-bottom-color: var(--fill-color);\n",
              "    animation:\n",
              "      spin 1s steps(1) infinite;\n",
              "  }\n",
              "\n",
              "  @keyframes spin {\n",
              "    0% {\n",
              "      border-color: transparent;\n",
              "      border-bottom-color: var(--fill-color);\n",
              "      border-left-color: var(--fill-color);\n",
              "    }\n",
              "    20% {\n",
              "      border-color: transparent;\n",
              "      border-left-color: var(--fill-color);\n",
              "      border-top-color: var(--fill-color);\n",
              "    }\n",
              "    30% {\n",
              "      border-color: transparent;\n",
              "      border-left-color: var(--fill-color);\n",
              "      border-top-color: var(--fill-color);\n",
              "      border-right-color: var(--fill-color);\n",
              "    }\n",
              "    40% {\n",
              "      border-color: transparent;\n",
              "      border-right-color: var(--fill-color);\n",
              "      border-top-color: var(--fill-color);\n",
              "    }\n",
              "    60% {\n",
              "      border-color: transparent;\n",
              "      border-right-color: var(--fill-color);\n",
              "    }\n",
              "    80% {\n",
              "      border-color: transparent;\n",
              "      border-right-color: var(--fill-color);\n",
              "      border-bottom-color: var(--fill-color);\n",
              "    }\n",
              "    90% {\n",
              "      border-color: transparent;\n",
              "      border-bottom-color: var(--fill-color);\n",
              "    }\n",
              "  }\n",
              "</style>\n",
              "\n",
              "      <script>\n",
              "        async function quickchart(key) {\n",
              "          const quickchartButtonEl =\n",
              "            document.querySelector('#' + key + ' button');\n",
              "          quickchartButtonEl.disabled = true;  // To prevent multiple clicks.\n",
              "          quickchartButtonEl.classList.add('colab-df-spinner');\n",
              "          try {\n",
              "            const charts = await google.colab.kernel.invokeFunction(\n",
              "                'suggestCharts', [key], {});\n",
              "          } catch (error) {\n",
              "            console.error('Error during call to suggestCharts:', error);\n",
              "          }\n",
              "          quickchartButtonEl.classList.remove('colab-df-spinner');\n",
              "          quickchartButtonEl.classList.add('colab-df-quickchart-complete');\n",
              "        }\n",
              "        (() => {\n",
              "          let quickchartButtonEl =\n",
              "            document.querySelector('#df-92ba9052-195b-4061-a331-b40687e5ce7d button');\n",
              "          quickchartButtonEl.style.display =\n",
              "            google.colab.kernel.accessAllowed ? 'block' : 'none';\n",
              "        })();\n",
              "      </script>\n",
              "    </div>\n",
              "\n",
              "  <div id=\"id_6950e83c-1e3d-4293-9a54-f79e59ea83ef\">\n",
              "    <style>\n",
              "      .colab-df-generate {\n",
              "        background-color: #E8F0FE;\n",
              "        border: none;\n",
              "        border-radius: 50%;\n",
              "        cursor: pointer;\n",
              "        display: none;\n",
              "        fill: #1967D2;\n",
              "        height: 32px;\n",
              "        padding: 0 0 0 0;\n",
              "        width: 32px;\n",
              "      }\n",
              "\n",
              "      .colab-df-generate:hover {\n",
              "        background-color: #E2EBFA;\n",
              "        box-shadow: 0px 1px 2px rgba(60, 64, 67, 0.3), 0px 1px 3px 1px rgba(60, 64, 67, 0.15);\n",
              "        fill: #174EA6;\n",
              "      }\n",
              "\n",
              "      [theme=dark] .colab-df-generate {\n",
              "        background-color: #3B4455;\n",
              "        fill: #D2E3FC;\n",
              "      }\n",
              "\n",
              "      [theme=dark] .colab-df-generate:hover {\n",
              "        background-color: #434B5C;\n",
              "        box-shadow: 0px 1px 3px 1px rgba(0, 0, 0, 0.15);\n",
              "        filter: drop-shadow(0px 1px 2px rgba(0, 0, 0, 0.3));\n",
              "        fill: #FFFFFF;\n",
              "      }\n",
              "    </style>\n",
              "    <button class=\"colab-df-generate\" onclick=\"generateWithVariable('df_s1')\"\n",
              "            title=\"Generate code using this dataframe.\"\n",
              "            style=\"display:none;\">\n",
              "\n",
              "  <svg xmlns=\"http://www.w3.org/2000/svg\" height=\"24px\"viewBox=\"0 0 24 24\"\n",
              "       width=\"24px\">\n",
              "    <path d=\"M7,19H8.4L18.45,9,17,7.55,7,17.6ZM5,21V16.75L18.45,3.32a2,2,0,0,1,2.83,0l1.4,1.43a1.91,1.91,0,0,1,.58,1.4,1.91,1.91,0,0,1-.58,1.4L9.25,21ZM18.45,9,17,7.55Zm-12,3A5.31,5.31,0,0,0,4.9,8.1,5.31,5.31,0,0,0,1,6.5,5.31,5.31,0,0,0,4.9,4.9,5.31,5.31,0,0,0,6.5,1,5.31,5.31,0,0,0,8.1,4.9,5.31,5.31,0,0,0,12,6.5,5.46,5.46,0,0,0,6.5,12Z\"/>\n",
              "  </svg>\n",
              "    </button>\n",
              "    <script>\n",
              "      (() => {\n",
              "      const buttonEl =\n",
              "        document.querySelector('#id_6950e83c-1e3d-4293-9a54-f79e59ea83ef button.colab-df-generate');\n",
              "      buttonEl.style.display =\n",
              "        google.colab.kernel.accessAllowed ? 'block' : 'none';\n",
              "\n",
              "      buttonEl.onclick = () => {\n",
              "        google.colab.notebook.generateWithVariable('df_s1');\n",
              "      }\n",
              "      })();\n",
              "    </script>\n",
              "  </div>\n",
              "\n",
              "    </div>\n",
              "  </div>\n"
            ],
            "application/vnd.google.colaboratory.intrinsic+json": {
              "type": "dataframe",
              "variable_name": "df_s1",
              "summary": "{\n  \"name\": \"df_s1\",\n  \"rows\": 60,\n  \"fields\": [\n    {\n      \"column\": \"usage_id\",\n      \"properties\": {\n        \"dtype\": \"string\",\n        \"num_unique_values\": 60,\n        \"samples\": [\n          \"u5543_general\",\n          \"u163_speaker\",\n          \"u1628_general\"\n        ],\n        \"semantic_type\": \"\",\n        \"description\": \"\"\n      }\n    },\n    {\n      \"column\": \"text\",\n      \"properties\": {\n        \"dtype\": \"string\",\n        \"num_unique_values\": 60,\n        \"samples\": [\n          \"Dette er ikke bare et sp\\u00f8rsm\\u00e5l om rydding, det er ikke bare et sp\\u00f8rsm\\u00e5l om forbud; det er ogs\\u00e5 et sp\\u00f8rsm\\u00e5l om hvordan man kan s\\u00f8rge for at den plasten som produseres, er bedre og mer b\\u00e6rekraftig, at man har gjenbruksmuligheter som er gode, og at vi legger plaststrategien inn i en sirkul\\u00e6r\\u00f8konomitiln\\u00e6rming.\",\n          \"Av hensyn til \\u00f8kologisk b\\u00e6rekraft, andre arter, n\\u00e6ringens omd\\u00f8mme og \\u00f8konomi er det viktig at man klarer \\u00e5 kommunisere virkeligheten.\",\n          \"Vi er i front n\\u00e5r det gjelder helseteknologi, oppdrettsn\\u00e6ringen er teknologisk og milj\\u00f8vennlig, og vi er i front n\\u00e5r det gjelder b\\u00e6rekraft.\"\n        ],\n        \"semantic_type\": \"\",\n        \"description\": \"\"\n      }\n    }\n  ]\n}"
            }
          },
          "metadata": {},
          "execution_count": 41
        }
      ]
    },
    {
      "cell_type": "code",
      "source": [
        "gs1_usages = df_s1[df_s1['usage_id'].str.contains(\"general\", na=False)]['text'].tolist()\n",
        "s1_usages = df_s1[df_s1['usage_id'].str.contains(\"speaker\", na=False)]['text'].tolist()\n",
        "\n",
        "len(gs1_usages), len(s1_usages)"
      ],
      "metadata": {
        "colab": {
          "base_uri": "https://localhost:8080/"
        },
        "id": "p4QIh8kzVpZ8",
        "outputId": "83d71144-53cb-49cb-dad4-67cb4df9d36d"
      },
      "execution_count": null,
      "outputs": [
        {
          "output_type": "execute_result",
          "data": {
            "text/plain": [
              "(30, 30)"
            ]
          },
          "metadata": {},
          "execution_count": 43
        }
      ]
    },
    {
      "cell_type": "code",
      "source": [
        "gs1_freq = count_target_word_frequency(gs1_usages, target_word)\n",
        "sc1_freq = count_target_word_frequency(s1_usages, target_word)\n",
        "s1_total = count_total_words(df_s1['text'].tolist())\n",
        "\n",
        "gs1_freq, sc1_freq, s1_total"
      ],
      "metadata": {
        "colab": {
          "base_uri": "https://localhost:8080/"
        },
        "id": "LPKrrBWfV9R_",
        "outputId": "f5291c1e-700f-4a76-ee12-216359aa3b69"
      },
      "execution_count": null,
      "outputs": [
        {
          "output_type": "execute_result",
          "data": {
            "text/plain": [
              "(34, 37, 1340)"
            ]
          },
          "metadata": {},
          "execution_count": 48
        }
      ]
    },
    {
      "cell_type": "code",
      "source": [
        "gs1_nor = gs1_freq / s1_total\n",
        "sc1_nor = sc1_freq / s1_total\n",
        "\n",
        "gs1_nor, sc1_nor"
      ],
      "metadata": {
        "colab": {
          "base_uri": "https://localhost:8080/"
        },
        "id": "TtwJuHO2WGdC",
        "outputId": "e7dd82b6-04fd-4795-c44b-7ccf98596d7d"
      },
      "execution_count": null,
      "outputs": [
        {
          "output_type": "execute_result",
          "data": {
            "text/plain": [
              "(0.025373134328358207, 0.027611940298507463)"
            ]
          },
          "metadata": {},
          "execution_count": 49
        }
      ]
    },
    {
      "cell_type": "code",
      "source": [
        "change_s1 = abs(gs1_nor - sc1_nor)\n",
        "change_s1"
      ],
      "metadata": {
        "colab": {
          "base_uri": "https://localhost:8080/"
        },
        "id": "YB0Q6qz4WzQA",
        "outputId": "02c70f33-c98d-4b5b-978b-33a2846689e7"
      },
      "execution_count": null,
      "outputs": [
        {
          "output_type": "execute_result",
          "data": {
            "text/plain": [
              "0.002238805970149256"
            ]
          },
          "metadata": {},
          "execution_count": 50
        }
      ]
    },
    {
      "cell_type": "markdown",
      "source": [
        "## Speaker 2"
      ],
      "metadata": {
        "id": "EVPvQLDtXGYq"
      }
    },
    {
      "cell_type": "code",
      "source": [
        "import pandas as pd\n",
        "\n",
        "df_s2 = pd.read_excel(folder_path + 'speaker2.xlsx')\n",
        "df_s2.shape"
      ],
      "metadata": {
        "colab": {
          "base_uri": "https://localhost:8080/"
        },
        "id": "DEPrHzacXF9I",
        "outputId": "a2bb0a01-db02-4e87-ed2d-d02865f59cb9"
      },
      "execution_count": null,
      "outputs": [
        {
          "output_type": "execute_result",
          "data": {
            "text/plain": [
              "(60, 2)"
            ]
          },
          "metadata": {},
          "execution_count": 53
        }
      ]
    },
    {
      "cell_type": "code",
      "source": [
        "gs2_usages = df_s2[df_s2['usage_id'].str.contains(\"general\", na=False)]['text'].tolist()\n",
        "s2_usages = df_s2[df_s2['usage_id'].str.contains(\"speaker\", na=False)]['text'].tolist()\n",
        "\n",
        "print('len usage list', len(gs2_usages), len(s2_usages))\n",
        "\n",
        "gs2_freq = count_target_word_frequency(gs2_usages, target_word)\n",
        "sc2_freq = count_target_word_frequency(s2_usages, target_word)\n",
        "s2_total = count_total_words(df_s2['text'].tolist())\n",
        "\n",
        "print('freq and total', gs2_freq, sc2_freq, s2_total)\n",
        "\n",
        "gs2_norm = gs2_freq / s2_total\n",
        "sc2_norm = sc2_freq / s2_total\n",
        "\n",
        "print('norm', gs2_norm, sc2_norm)\n",
        "\n",
        "change_s2 = abs(gs2_norm - sc2_norm)\n",
        "change_s2"
      ],
      "metadata": {
        "colab": {
          "base_uri": "https://localhost:8080/"
        },
        "id": "EXCb44X1W64W",
        "outputId": "cb06a1c1-0392-469c-c040-f4240a9d0069"
      },
      "execution_count": null,
      "outputs": [
        {
          "output_type": "stream",
          "name": "stdout",
          "text": [
            "len usage list 30 30\n",
            "freq and total 30 31 1432\n",
            "norm 0.02094972067039106 0.02164804469273743\n"
          ]
        },
        {
          "output_type": "execute_result",
          "data": {
            "text/plain": [
              "0.0006983240223463714"
            ]
          },
          "metadata": {},
          "execution_count": 56
        }
      ]
    },
    {
      "cell_type": "markdown",
      "source": [
        "## Speaker 3"
      ],
      "metadata": {
        "id": "CIbxIDGlX6Rc"
      }
    },
    {
      "cell_type": "code",
      "source": [
        "import pandas as pd\n",
        "\n",
        "df_s3 = pd.read_excel(folder_path + 'speaker3.xlsx')\n",
        "df_s3.shape"
      ],
      "metadata": {
        "colab": {
          "base_uri": "https://localhost:8080/"
        },
        "id": "T3p3apXyX7Rw",
        "outputId": "52942e09-f416-47cc-f627-b5480370e998"
      },
      "execution_count": null,
      "outputs": [
        {
          "output_type": "execute_result",
          "data": {
            "text/plain": [
              "(60, 2)"
            ]
          },
          "metadata": {},
          "execution_count": 57
        }
      ]
    },
    {
      "cell_type": "code",
      "source": [
        "gs3_usages = df_s3[df_s3['usage_id'].str.contains(\"general\", na=False)]['text'].tolist()\n",
        "s3_usages = df_s3[df_s3['usage_id'].str.contains(\"speaker\", na=False)]['text'].tolist()\n",
        "\n",
        "print('len usage list', len(gs3_usages), len(s3_usages))\n",
        "\n",
        "gs3_freq = count_target_word_frequency(gs3_usages, target_word)\n",
        "sc3_freq = count_target_word_frequency(s3_usages, target_word)\n",
        "s3_total = count_total_words(df_s3['text'].tolist())\n",
        "\n",
        "print('freq and total', gs3_freq, sc3_freq, s3_total)\n",
        "\n",
        "gs3_norm = gs3_freq / s3_total\n",
        "sc3_norm = sc3_freq / s3_total\n",
        "\n",
        "print('norm', gs3_norm, sc3_norm)\n",
        "\n",
        "change_s3 = abs(gs3_norm - sc3_norm)\n",
        "change_s3\n"
      ],
      "metadata": {
        "colab": {
          "base_uri": "https://localhost:8080/"
        },
        "id": "LbltejyFX8sl",
        "outputId": "d151e222-24b7-43a4-aac0-79999ec83886"
      },
      "execution_count": null,
      "outputs": [
        {
          "output_type": "stream",
          "name": "stdout",
          "text": [
            "len usage list 30 30\n",
            "freq and total 31 32 1700\n",
            "norm 0.018235294117647058 0.018823529411764704\n"
          ]
        },
        {
          "output_type": "execute_result",
          "data": {
            "text/plain": [
              "0.0005882352941176464"
            ]
          },
          "metadata": {},
          "execution_count": 58
        }
      ]
    },
    {
      "cell_type": "markdown",
      "source": [
        "## Speaker 4"
      ],
      "metadata": {
        "id": "_WFZvAU3YCn1"
      }
    },
    {
      "cell_type": "code",
      "source": [
        "import pandas as pd\n",
        "\n",
        "df_s4 = pd.read_excel(folder_path + 'speaker4.xlsx')\n",
        "df_s4.shape"
      ],
      "metadata": {
        "colab": {
          "base_uri": "https://localhost:8080/"
        },
        "id": "sGb0P62uYDYK",
        "outputId": "3f48717a-4e9e-4e1e-d409-44b5ee0cedd5"
      },
      "execution_count": null,
      "outputs": [
        {
          "output_type": "execute_result",
          "data": {
            "text/plain": [
              "(60, 2)"
            ]
          },
          "metadata": {},
          "execution_count": 60
        }
      ]
    },
    {
      "cell_type": "code",
      "source": [
        "gs4_usages = df_s4[df_s4['usage_id'].str.contains(\"general\", na=False)]['text'].tolist()\n",
        "s4_usages = df_s4[df_s4['usage_id'].str.contains(\"speaker\", na=False)]['text'].tolist()\n",
        "\n",
        "print('len usage list', len(gs4_usages), len(s4_usages))\n",
        "\n",
        "gs4_freq = count_target_word_frequency(gs4_usages, target_word)\n",
        "sc4_freq = count_target_word_frequency(s4_usages, target_word)\n",
        "s4_total = count_total_words(df_s4['text'].tolist())\n",
        "\n",
        "print('freq and total', gs4_freq, sc4_freq, s4_total)\n",
        "\n",
        "gs4_norm = gs4_freq / s4_total\n",
        "sc4_norm = sc4_freq / s4_total\n",
        "\n",
        "print('norm', gs4_norm, sc4_norm)\n",
        "\n",
        "change_s4 = abs(gs4_norm - sc4_norm)\n",
        "change_s4\n"
      ],
      "metadata": {
        "colab": {
          "base_uri": "https://localhost:8080/"
        },
        "id": "vp_TVojyYAJJ",
        "outputId": "8785f7ac-abb2-4d62-a877-3d53e8fa4aa3"
      },
      "execution_count": null,
      "outputs": [
        {
          "output_type": "stream",
          "name": "stdout",
          "text": [
            "len usage list 30 30\n",
            "freq and total 32 31 1576\n",
            "norm 0.02030456852791878 0.01967005076142132\n"
          ]
        },
        {
          "output_type": "execute_result",
          "data": {
            "text/plain": [
              "0.0006345177664974604"
            ]
          },
          "metadata": {},
          "execution_count": 61
        }
      ]
    },
    {
      "cell_type": "markdown",
      "source": [
        "# Count Baseline"
      ],
      "metadata": {
        "id": "EeWiDCC5oWAl"
      }
    },
    {
      "cell_type": "markdown",
      "source": [
        "## Diachronic"
      ],
      "metadata": {
        "id": "MjWGoi9cohyO"
      }
    },
    {
      "cell_type": "code",
      "source": [
        "from sklearn.feature_extraction.text import CountVectorizer\n",
        "\n",
        "vec1 = CountVectorizer()\n",
        "vec2 = CountVectorizer()\n",
        "\n",
        "tg1_vec1 = vec1.fit_transform(tg1_usages)\n",
        "tg2_vec1 = vec2.fit_transform(tg2_usages)"
      ],
      "metadata": {
        "id": "ANl33VPboVdc"
      },
      "execution_count": null,
      "outputs": []
    },
    {
      "cell_type": "code",
      "source": [
        "import numpy as np\n",
        "\n",
        "vocab1 = vec1.get_feature_names_out()\n",
        "vocab2 = vec2.get_feature_names_out()\n",
        "\n",
        "intersect = np.intersect1d(vocab1, vocab2)\n",
        "intersect.shape"
      ],
      "metadata": {
        "colab": {
          "base_uri": "https://localhost:8080/"
        },
        "id": "nx5Lgnz1ohOV",
        "outputId": "6733e6c5-dd8b-42c8-99e6-63ab8c6092b7"
      },
      "execution_count": null,
      "outputs": [
        {
          "output_type": "execute_result",
          "data": {
            "text/plain": [
              "(114,)"
            ]
          },
          "metadata": {},
          "execution_count": 65
        }
      ]
    },
    {
      "cell_type": "code",
      "source": [
        "vec_shared = CountVectorizer(vocabulary=intersect)\n",
        "\n",
        "tg1_vec_shared = vec_shared.fit_transform(tg1_usages)\n",
        "tg2_vec_shared = vec_shared.fit_transform(tg2_usages)"
      ],
      "metadata": {
        "id": "m5JSRnlgol7M"
      },
      "execution_count": null,
      "outputs": []
    },
    {
      "cell_type": "code",
      "source": [
        "tg1_vec_shared.toarray()\n",
        "tg2_vec_shared.toarray()"
      ],
      "metadata": {
        "colab": {
          "base_uri": "https://localhost:8080/"
        },
        "id": "03r_FIwioo6n",
        "outputId": "0689edf2-27e2-450c-89a1-5c9ae3fae94d"
      },
      "execution_count": null,
      "outputs": [
        {
          "output_type": "execute_result",
          "data": {
            "text/plain": [
              "array([[0, 0, 1, ..., 0, 0, 0],\n",
              "       [0, 0, 0, ..., 0, 0, 0],\n",
              "       [0, 0, 0, ..., 0, 0, 0],\n",
              "       ...,\n",
              "       [0, 0, 0, ..., 0, 0, 0],\n",
              "       [0, 0, 0, ..., 0, 0, 0],\n",
              "       [0, 0, 0, ..., 0, 0, 0]])"
            ]
          },
          "metadata": {},
          "execution_count": 67
        }
      ]
    },
    {
      "cell_type": "code",
      "source": [
        "from scipy.spatial.distance import cosine\n",
        "\n",
        "vec1 = tg1_vec_shared.sum(axis=0).A1\n",
        "vec2 = tg2_vec_shared.sum(axis=0).A1\n",
        "\n",
        "cos_dist = cosine(vec1, vec2)\n",
        "cos_dist"
      ],
      "metadata": {
        "colab": {
          "base_uri": "https://localhost:8080/"
        },
        "id": "P479vs01or8f",
        "outputId": "18d3e97c-6c8f-44e1-e265-7bae3cc20ae0"
      },
      "execution_count": null,
      "outputs": [
        {
          "output_type": "execute_result",
          "data": {
            "text/plain": [
              "np.float64(0.04552726394048989)"
            ]
          },
          "metadata": {},
          "execution_count": 68
        }
      ]
    },
    {
      "cell_type": "markdown",
      "source": [
        "## Speaker 1"
      ],
      "metadata": {
        "id": "eRC4EjFMowVC"
      }
    },
    {
      "cell_type": "code",
      "source": [
        "from sklearn.feature_extraction.text import CountVectorizer\n",
        "from scipy.spatial.distance import cosine\n",
        "import numpy as np\n",
        "\n",
        "vec1 = CountVectorizer()\n",
        "vec2 = CountVectorizer()\n",
        "\n",
        "gs1_vec = vec1.fit_transform(gs1_usages)\n",
        "s2_vec = vec2.fit_transform(s1_usages)\n",
        "\n",
        "vocab1 = vec1.get_feature_names_out()\n",
        "vocab2 = vec2.get_feature_names_out()\n",
        "\n",
        "intersect = np.intersect1d(vocab1, vocab2)\n",
        "intersect.shape\n",
        "\n",
        "vec_shared_s1 = CountVectorizer(vocabulary=intersect)\n",
        "\n",
        "gs1_vec_shared = vec_shared.fit_transform(gs1_usages)\n",
        "s1_vec_shared = vec_shared.fit_transform(s1_usages)\n",
        "\n",
        "gs1_vec_shared.toarray()\n",
        "s1_vec_shared.toarray()\n",
        "\n",
        "vec1 = gs1_vec_shared.sum(axis=0).A1\n",
        "vec2 = s1_vec_shared.sum(axis=0).A1\n",
        "\n",
        "cos_dist = cosine(vec1, vec2)\n",
        "cos_dist"
      ],
      "metadata": {
        "colab": {
          "base_uri": "https://localhost:8080/"
        },
        "id": "PL7fUwcoowAS",
        "outputId": "a0be40d7-ad66-4c63-ce37-d6fa76723d69"
      },
      "execution_count": null,
      "outputs": [
        {
          "output_type": "execute_result",
          "data": {
            "text/plain": [
              "np.float64(0.15392036905637763)"
            ]
          },
          "metadata": {},
          "execution_count": 81
        }
      ]
    },
    {
      "cell_type": "markdown",
      "source": [
        "## Speaker 2"
      ],
      "metadata": {
        "id": "5N94jzb3qP79"
      }
    },
    {
      "cell_type": "code",
      "source": [
        "from sklearn.feature_extraction.text import CountVectorizer\n",
        "from scipy.spatial.distance import cosine\n",
        "import numpy as np\n",
        "\n",
        "vec1 = CountVectorizer()\n",
        "vec2 = CountVectorizer()\n",
        "\n",
        "gs2_vec = vec1.fit_transform(gs2_usages)\n",
        "s2_vec = vec2.fit_transform(s2_usages)\n",
        "\n",
        "vocab1 = vec1.get_feature_names_out()\n",
        "vocab2 = vec2.get_feature_names_out()\n",
        "\n",
        "intersect = np.intersect1d(vocab1, vocab2)\n",
        "intersect.shape\n",
        "\n",
        "vec_shared_s2 = CountVectorizer(vocabulary=intersect)\n",
        "\n",
        "gs2_vec_shared = vec_shared_s2.fit_transform(gs2_usages)\n",
        "s2_vec_shared = vec_shared_s2.fit_transform(s2_usages)\n",
        "\n",
        "vec1 = gs2_vec_shared.sum(axis=0).A1\n",
        "vec2 = s2_vec_shared.sum(axis=0).A1\n",
        "\n",
        "cos_dist_s2 = cosine(vec1, vec2)\n",
        "cos_dist_s2\n"
      ],
      "metadata": {
        "colab": {
          "base_uri": "https://localhost:8080/"
        },
        "id": "lI_AQa8bqPmG",
        "outputId": "1d13fcc3-27a4-4307-8665-634bb415683f"
      },
      "execution_count": null,
      "outputs": [
        {
          "output_type": "execute_result",
          "data": {
            "text/plain": [
              "np.float64(0.08998417915975176)"
            ]
          },
          "metadata": {},
          "execution_count": 82
        }
      ]
    },
    {
      "cell_type": "markdown",
      "source": [
        "## Speaker 3"
      ],
      "metadata": {
        "id": "_lzzuC0R0OFq"
      }
    },
    {
      "cell_type": "code",
      "source": [
        "from sklearn.feature_extraction.text import CountVectorizer\n",
        "from scipy.spatial.distance import cosine\n",
        "import numpy as np\n",
        "\n",
        "vec1 = CountVectorizer()\n",
        "vec2 = CountVectorizer()\n",
        "\n",
        "gs3_vec = vec1.fit_transform(gs3_usages)\n",
        "s3_vec = vec2.fit_transform(s3_usages)\n",
        "\n",
        "vocab1 = vec1.get_feature_names_out()\n",
        "vocab2 = vec2.get_feature_names_out()\n",
        "\n",
        "intersect = np.intersect1d(vocab1, vocab2)\n",
        "intersect.shape\n",
        "\n",
        "vec_shared_s3 = CountVectorizer(vocabulary=intersect)\n",
        "\n",
        "gs3_vec_shared = vec_shared_s3.fit_transform(gs3_usages)\n",
        "s3_vec_shared = vec_shared_s3.fit_transform(s3_usages)\n",
        "\n",
        "vec1 = gs3_vec_shared.sum(axis=0).A1\n",
        "vec2 = s3_vec_shared.sum(axis=0).A1\n",
        "\n",
        "cos_dist_s3 = cosine(vec1, vec2)\n",
        "cos_dist_s3\n"
      ],
      "metadata": {
        "colab": {
          "base_uri": "https://localhost:8080/"
        },
        "id": "wEP-mJLeqgDD",
        "outputId": "a7dd1c0e-4636-477a-e1ad-9e404045fa2f"
      },
      "execution_count": null,
      "outputs": [
        {
          "output_type": "execute_result",
          "data": {
            "text/plain": [
              "np.float64(0.07253735996962529)"
            ]
          },
          "metadata": {},
          "execution_count": 84
        }
      ]
    },
    {
      "cell_type": "markdown",
      "source": [
        "## Speaker 4"
      ],
      "metadata": {
        "id": "F54oW0D0qVMZ"
      }
    },
    {
      "cell_type": "code",
      "source": [
        "from sklearn.feature_extraction.text import CountVectorizer\n",
        "from scipy.spatial.distance import cosine\n",
        "import numpy as np\n",
        "\n",
        "vec1 = CountVectorizer()\n",
        "vec2 = CountVectorizer()\n",
        "\n",
        "gs4_vec = vec1.fit_transform(gs4_usages)\n",
        "s4_vec = vec2.fit_transform(s4_usages)\n",
        "\n",
        "vocab1 = vec1.get_feature_names_out()\n",
        "vocab2 = vec2.get_feature_names_out()\n",
        "\n",
        "intersect = np.intersect1d(vocab1, vocab2)\n",
        "intersect.shape\n",
        "\n",
        "vec_shared_s4 = CountVectorizer(vocabulary=intersect)\n",
        "\n",
        "gs4_vec_shared = vec_shared_s4.fit_transform(gs4_usages)\n",
        "s4_vec_shared = vec_shared_s4.fit_transform(s4_usages)\n",
        "\n",
        "vec1 = gs4_vec_shared.sum(axis=0).A1\n",
        "vec2 = s4_vec_shared.sum(axis=0).A1\n",
        "\n",
        "cos_dist_s4 = cosine(vec1, vec2)\n",
        "cos_dist_s4\n"
      ],
      "metadata": {
        "colab": {
          "base_uri": "https://localhost:8080/"
        },
        "id": "Oi6-ThwQqUjo",
        "outputId": "e554336b-ad85-4fe5-9372-a21bd9f4fef9"
      },
      "execution_count": null,
      "outputs": [
        {
          "output_type": "execute_result",
          "data": {
            "text/plain": [
              "np.float64(0.08993271551999393)"
            ]
          },
          "metadata": {},
          "execution_count": 83
        }
      ]
    }
  ]
}