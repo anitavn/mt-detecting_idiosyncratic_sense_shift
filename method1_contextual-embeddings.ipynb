{
  "cells": [
    {
      "cell_type": "code",
      "source": [
        "from sklearn.cluster import AffinityPropagation\n",
        "aff = AffinityPropagation(affinity='precomputed', random_state=42, damping=0.505)"
      ],
      "metadata": {
        "id": "QJPL14dtnjzS"
      },
      "execution_count": 2,
      "outputs": []
    },
    {
      "cell_type": "markdown",
      "source": [
        "# Mount the Disk\n"
      ],
      "metadata": {
        "id": "vqv_Rf8TUtza"
      }
    },
    {
      "cell_type": "code",
      "source": [
        "from google.colab import drive\n",
        "import os\n",
        "\n",
        "\n",
        "drive.mount('/content/drive', force_remount=True)\n",
        "folder_path = '/content/drive/My Drive/MSc Computer Science/Master Thesis/trial_base_embeddings'\n",
        "\n",
        "for f in os.listdir(folder_path):\n",
        "    print(f)"
      ],
      "metadata": {
        "colab": {
          "base_uri": "https://localhost:8080/"
        },
        "id": "yWLEDWw3UxWr",
        "outputId": "f32cec5d-32c2-42c8-cf00-36aee2a284a4"
      },
      "execution_count": 3,
      "outputs": [
        {
          "output_type": "stream",
          "name": "stdout",
          "text": [
            "Mounted at /content/drive\n",
            "tr_gs1_base_embeddings.npy\n",
            "tr_gs2_base_embeddings.npy\n",
            "tr_gs3_base_embeddings.npy\n",
            "tr_gs4_base_embeddings.npy\n",
            "tr_s1_base_embeddings.npy\n",
            "tr_s2_base_embeddings.npy\n",
            "tr_s3_base_embeddings.npy\n",
            "tr_s4_base_embeddings.npy\n",
            "tr_tg1_base_embeddings.npy\n",
            "tr_tg2_base_embeddings.npy\n"
          ]
        }
      ]
    },
    {
      "cell_type": "markdown",
      "metadata": {
        "id": "wz4QDtu9rhOG"
      },
      "source": [
        "# Helpers"
      ]
    },
    {
      "cell_type": "code",
      "source": [
        "import numpy as np\n",
        "from sklearn.metrics.pairwise import cosine_similarity\n",
        "\n",
        "def cluster_embeddings_binary(embeddings1, embeddings2, aff_model, label1='cr', label2='cf', k=0, n=2):\n",
        "    labels = [label1] * len(embeddings1) + [label2] * len(embeddings2)\n",
        "    all_embeddings = np.vstack([embeddings1, embeddings2])\n",
        "\n",
        "    sim_matrix = cosine_similarity(all_embeddings)\n",
        "    aff_model.fit(sim_matrix)\n",
        "\n",
        "    clusters = {}\n",
        "    for idx, cluster_id in enumerate(aff_model.labels_):\n",
        "        if cluster_id not in clusters:\n",
        "            clusters[cluster_id] = []\n",
        "        clusters[cluster_id].append(labels[idx])\n",
        "\n",
        "    cluster_list = list(clusters.values())\n",
        "\n",
        "    D, E = compute_sfd(cluster_list, label1, label2)\n",
        "\n",
        "    binary_change = classify_change_binary(D, E, k=k, n=n)\n",
        "    return binary_change, D, E, cluster_list\n",
        "\n",
        "def compute_sfd(clusters, c1_label, c2_label):\n",
        "    D = []\n",
        "    E = []\n",
        "\n",
        "    for cluster in clusters:\n",
        "        count_c1 = sum(1 for u in cluster if u == c1_label)\n",
        "        count_c2 = sum(1 for u in cluster if u == c2_label)\n",
        "        D.append(count_c1)\n",
        "        E.append(count_c2)\n",
        "    return D, E\n",
        "\n",
        "def classify_change_binary(D, E, k, n):\n",
        "    for d_i, e_i in zip(D, E):\n",
        "        if (d_i <= k and e_i >= n) or (d_i >= n and e_i <= k):\n",
        "            return 1\n",
        "    return 0"
      ],
      "metadata": {
        "id": "4Fq_m-d_nonq"
      },
      "execution_count": 5,
      "outputs": []
    },
    {
      "cell_type": "code",
      "source": [
        "import numpy as np\n",
        "from sklearn.cluster import AffinityPropagation\n",
        "from sklearn.metrics.pairwise import cosine_similarity\n",
        "from scipy.spatial.distance import jensenshannon\n",
        "from sklearn.preprocessing import StandardScaler\n",
        "\n",
        "def cluster_and_compare_jsd(aff, embeddings1, embeddings2):\n",
        "    stacked_embeddings = np.vstack([embeddings1, embeddings2])\n",
        "    sim_matrix = cosine_similarity(stacked_embeddings)\n",
        "\n",
        "    aff.fit(sim_matrix)\n",
        "\n",
        "    all_labels = aff.labels_\n",
        "    n1 = embeddings1.shape[0]\n",
        "\n",
        "    labels1 = all_labels[:n1]\n",
        "    labels2 = all_labels[n1:]\n",
        "\n",
        "    all_cluster_ids = np.unique(all_labels)\n",
        "\n",
        "    counts1 = np.array([np.sum(labels1 == cid) for cid in all_cluster_ids])\n",
        "    counts2 = np.array([np.sum(labels2 == cid) for cid in all_cluster_ids])\n",
        "    print('counts1', counts1)\n",
        "    print('counts2', counts2)\n",
        "\n",
        "    prob1 = counts1 / counts1.sum()\n",
        "    prob2 = counts2 / counts2.sum()\n",
        "\n",
        "    jsd = jensenshannon(prob1, prob2)\n",
        "    return jsd, prob1, prob2\n"
      ],
      "metadata": {
        "id": "7Rtp3mQRnaZF"
      },
      "execution_count": 6,
      "outputs": []
    },
    {
      "cell_type": "code",
      "source": [
        "from scipy.spatial.distance import cdist\n",
        "import numpy as np\n",
        "\n",
        "def compute_apd(embeddings_r, embeddings_f):\n",
        "    cdistances = cdist(embeddings_r, embeddings_f, metric='cosine')\n",
        "    return cdistances.mean()"
      ],
      "metadata": {
        "id": "mjmS_jt9AGYS"
      },
      "execution_count": 7,
      "outputs": []
    },
    {
      "cell_type": "code",
      "execution_count": 8,
      "metadata": {
        "id": "LT_kHfz_3Xcn"
      },
      "outputs": [],
      "source": [
        "import numpy as np\n",
        "import torch\n",
        "from tqdm import tqdm\n",
        "\n",
        "def generate_and_save_embeddings(\n",
        "    sentences,\n",
        "    model,\n",
        "    tokenizer,\n",
        "    filename=\"embeddings.npy\",\n",
        "    batch_size=16,\n",
        "    device=\"cuda\"\n",
        "):\n",
        "    model = model.to(device)\n",
        "    model.eval()\n",
        "\n",
        "    token_lengths = [len(tokenizer.tokenize(sent)) for sent in sentences]\n",
        "    max_length = min(512, max(token_lengths))\n",
        "    print(f\"[INFO] Using max_length = {max_length} (based on longest tokenized sentence)\")\n",
        "\n",
        "    all_embeddings = []\n",
        "\n",
        "    for i in tqdm(range(0, len(sentences), batch_size)):\n",
        "        batch = sentences[i:i+batch_size]\n",
        "\n",
        "        inputs = tokenizer(\n",
        "            batch,\n",
        "            return_tensors=\"pt\",\n",
        "            padding=True,\n",
        "            truncation=True,\n",
        "            max_length=max_length\n",
        "        ).to(device)\n",
        "\n",
        "        with torch.no_grad():\n",
        "            outputs = model(**inputs)\n",
        "            hidden_states = outputs.hidden_states\n",
        "\n",
        "        selected_layers = torch.stack(hidden_states[8:11]).sum(dim=0) # layers 8, 9, and 10\n",
        "        attention_mask = inputs[\"attention_mask\"].unsqueeze(-1)\n",
        "        masked_embeddings = selected_layers * attention_mask\n",
        "        sum_embeddings = masked_embeddings.sum(dim=1)\n",
        "        token_counts = attention_mask.sum(dim=1)\n",
        "        mean_embeddings = sum_embeddings / token_counts\n",
        "\n",
        "        all_embeddings.append(mean_embeddings.cpu())\n",
        "\n",
        "    all_embeddings = torch.cat(all_embeddings, dim=0)\n",
        "    np.save(filename, all_embeddings.numpy())\n"
      ]
    },
    {
      "cell_type": "markdown",
      "source": [
        "# Only preliminary - Do not run again!\n"
      ],
      "metadata": {
        "id": "qaPcV6yWw_Np"
      }
    },
    {
      "cell_type": "markdown",
      "source": [
        "\n",
        "## Load trial_data from excel"
      ],
      "metadata": {
        "id": "6bCKUtIocJTm"
      }
    },
    {
      "cell_type": "code",
      "source": [
        "folder_path_trial = '/content/drive/My Drive/MSc Computer Science/Master Thesis/trial_data/'\n",
        "\n",
        "for f in os.listdir(folder_path_trial):\n",
        "    print(f)"
      ],
      "metadata": {
        "colab": {
          "base_uri": "https://localhost:8080/"
        },
        "id": "1W5AhsBWCYD8",
        "outputId": "a98e98c1-3cd5-449e-e4b8-c8839a762894"
      },
      "execution_count": null,
      "outputs": [
        {
          "output_type": "stream",
          "name": "stdout",
          "text": [
            "diachronic.xlsx\n",
            "speaker1.xlsx\n",
            "speaker2.xlsx\n",
            "speaker3.xlsx\n",
            "speaker4.xlsx\n"
          ]
        }
      ]
    },
    {
      "cell_type": "code",
      "source": [
        "import pandas as pd\n",
        "\n",
        "trial_dia = pd.read_excel(folder_path_trial+'diachronic.xlsx')\n",
        "tg1_usages = trial_dia[trial_dia['usage_id'].str.contains(\"tg1\", na=False)]['text'].tolist()\n",
        "tg2_usages = trial_dia[trial_dia['usage_id'].str.contains(\"tg2\", na=False)]['text'].tolist()\n",
        "\n",
        "trial_s1 = pd.read_excel(folder_path_trial+'speaker1.xlsx')\n",
        "gs1_usages = trial_s1[trial_s1['usage_id'].str.contains(\"general\", na=False)]['text'].tolist()\n",
        "s1_usages = trial_s1[trial_s1['usage_id'].str.contains(\"speaker\", na=False)]['text'].tolist()\n",
        "\n",
        "trial_s2 = pd.read_excel(folder_path_trial+'speaker2.xlsx')\n",
        "gs2_usages = trial_s2[trial_s2['usage_id'].str.contains(\"general\", na=False)]['text'].tolist()\n",
        "s2_usages = trial_s2[trial_s2['usage_id'].str.contains(\"speaker\", na=False)]['text'].tolist()\n",
        "\n",
        "trial_s3 = pd.read_excel(folder_path_trial+'speaker3.xlsx')\n",
        "gs3_usages = trial_s3[trial_s3['usage_id'].str.contains(\"general\", na=False)]['text'].tolist()\n",
        "s3_usages = trial_s3[trial_s3['usage_id'].str.contains(\"speaker\", na=False)]['text'].tolist()\n",
        "\n",
        "trial_s4 = pd.read_excel(folder_path_trial+'speaker4.xlsx')\n",
        "gs4_usages = trial_s4[trial_s4['usage_id'].str.contains(\"general\", na=False)]['text'].tolist()\n",
        "s4_usages = trial_s4[trial_s4['usage_id'].str.contains(\"speaker\", na=False)]['text'].tolist()"
      ],
      "metadata": {
        "id": "esMUvsRfCqRS"
      },
      "execution_count": null,
      "outputs": []
    },
    {
      "cell_type": "code",
      "source": [
        "print(len(tg1_usages))\n",
        "print(len(tg2_usages))\n",
        "print(len(gs1_usages))\n",
        "print(len(s1_usages))\n",
        "print(len(gs2_usages))\n",
        "print(len(s2_usages))\n",
        "print(len(gs3_usages))\n",
        "print(len(s3_usages))\n",
        "print(len(gs4_usages))\n",
        "print(len(s4_usages))"
      ],
      "metadata": {
        "colab": {
          "base_uri": "https://localhost:8080/"
        },
        "id": "fG3TEcisEvzg",
        "outputId": "8ed515aa-e527-4199-de60-11a6b2b5d217"
      },
      "execution_count": null,
      "outputs": [
        {
          "output_type": "stream",
          "name": "stdout",
          "text": [
            "30\n",
            "30\n",
            "30\n",
            "30\n",
            "30\n",
            "30\n",
            "30\n",
            "30\n",
            "30\n",
            "30\n"
          ]
        }
      ]
    },
    {
      "cell_type": "markdown",
      "source": [
        "## Generate embeddings and save"
      ],
      "metadata": {
        "id": "h_7n3qUvrmvm"
      }
    },
    {
      "cell_type": "markdown",
      "source": [
        "### PT: Embeddings trial_data"
      ],
      "metadata": {
        "id": "G5uOkFcLCT5R"
      }
    },
    {
      "cell_type": "code",
      "source": [
        "from transformers import AutoTokenizer, AutoModel\n",
        "import torch\n",
        "\n",
        "model_name = \"NbAiLab/nb-bert-base\"\n",
        "tokenizer = AutoTokenizer.from_pretrained(model_name)\n",
        "model = AutoModel.from_pretrained(model_name, output_hidden_states=True)"
      ],
      "metadata": {
        "colab": {
          "base_uri": "https://localhost:8080/",
          "height": 301,
          "referenced_widgets": [
            "19589ec1ac194624b8b44d9b90d6fcfe",
            "be4008e281794532b09a6fb6b45aa483",
            "25b4e0eeec5147ea9ad64eef4a5082c2",
            "cd45de04131a471c835738f12bcf1779",
            "4eb950bd698f4be4983df399d2dd4973",
            "d0c44acc64d3496bba3e796d0268409b",
            "d1f0f945afa545a6be23ac9a8ada9529",
            "2267eea6a16d450ab6949d77200c5601",
            "bc0aee2f8a5444c1b09a11f902af04d9",
            "4c9cf9c046954ccca288b00ad7db84fa",
            "07bc4a4419fd4839a0c058bc3832f2a1",
            "6942826f4b3049999d4f135149626039",
            "1c8a967ddb5342269723636ef49caeb3",
            "666dc562999841f1baa265be9a345683",
            "060e1e40a40a4814a97dbaf35c5410de",
            "ec97c07f5e764a1091e5812d10b947cd",
            "7a2cd0aeac0b480aa104ed295755a08e",
            "0c9f31834f5b4f42b9fb6feb9e285499",
            "3ad05c22e72548f392ba3f458cd8e469",
            "ca3900f7754a4d4b99992cd11a522c69",
            "91a97bf286734a9c92e98b9a0f050085",
            "9f771b7d0f4f4f35bdd47a0156ada9e8",
            "7c294d14552a492d88819bdb6fe663d6",
            "4c0ab228771948b8b317b95e186c32d9",
            "8f522fbc51cf4afaa4b530f0f93397da",
            "4f0a171684a54594b08bbb52d8a9f7da",
            "b976af712d394577b50cce7f0017fe7e",
            "06cb9e0ba61a4b2d84bf147f3d63e0da",
            "b5561f0add0b463d9f2e241ce7593135",
            "e9efded02ba94e519dc0848cb472c5e4",
            "8907d8fd1855409f80464eb625d935f5",
            "9443fc1629d3460b8760824ee48cb5b4",
            "42285396fe664e73a5eaba846217c3ae",
            "142680d6909c4fdc8a656808d1db7158",
            "f7c7549938a845fa946bddbe5ee7215e",
            "fbe65e390b5b4a74a029ddf74e730ead",
            "a22c0ab6491648cc84271b48482fd91b",
            "d0b84e8bf4ed43019454db47532b5f35",
            "804593dff99c41feb4e3bfb412743f5f",
            "b367daaf1b0245c79c80e3fca8ab2156",
            "ba22cc460e5e451da8dbf469893abf63",
            "53271dd64fd842bfbaad35876e782b48",
            "bf84b3d6055d42f98f683cb725bbebb8",
            "e1b142c65413404aa4850d8a68806f36",
            "6fc29f1f2a66494baf7b81e42a55264a",
            "e47028c3c96b4c3890143169777608bb",
            "b0beb608d07d4822bcdf5f6283dd397b",
            "5636735974b244f4a877778bbe48175f",
            "194238eddb0d4d659591f2315bd2555b",
            "ee25e5a9f28142f48060a06a75cb5e69",
            "cd9f7375acee4801b0d43f15375130e2",
            "06c0117107304d07a0d1945ded2a0c0b",
            "6e3d7fe18a8143859a3c4fbb94f7e5cb",
            "cc0a6d20cd91415caab8c87367d7ddd8",
            "f3092aec4c1a4cf5b3dfa46a87ac1a85"
          ]
        },
        "id": "Jq0ozLXNDZuD",
        "outputId": "0c7d6bac-43c3-4c51-9b66-da47d46aabd8"
      },
      "execution_count": null,
      "outputs": [
        {
          "output_type": "stream",
          "name": "stderr",
          "text": [
            "/usr/local/lib/python3.11/dist-packages/huggingface_hub/utils/_auth.py:94: UserWarning: \n",
            "The secret `HF_TOKEN` does not exist in your Colab secrets.\n",
            "To authenticate with the Hugging Face Hub, create a token in your settings tab (https://huggingface.co/settings/tokens), set it as secret in your Google Colab and restart your session.\n",
            "You will be able to reuse this secret in all of your notebooks.\n",
            "Please note that authentication is recommended but still optional to access public models or datasets.\n",
            "  warnings.warn(\n"
          ]
        },
        {
          "output_type": "display_data",
          "data": {
            "text/plain": [
              "tokenizer_config.json:   0%|          | 0.00/363 [00:00<?, ?B/s]"
            ],
            "application/vnd.jupyter.widget-view+json": {
              "version_major": 2,
              "version_minor": 0,
              "model_id": "19589ec1ac194624b8b44d9b90d6fcfe"
            }
          },
          "metadata": {}
        },
        {
          "output_type": "display_data",
          "data": {
            "text/plain": [
              "config.json:   0%|          | 0.00/746 [00:00<?, ?B/s]"
            ],
            "application/vnd.jupyter.widget-view+json": {
              "version_major": 2,
              "version_minor": 0,
              "model_id": "6942826f4b3049999d4f135149626039"
            }
          },
          "metadata": {}
        },
        {
          "output_type": "display_data",
          "data": {
            "text/plain": [
              "vocab.txt:   0%|          | 0.00/996k [00:00<?, ?B/s]"
            ],
            "application/vnd.jupyter.widget-view+json": {
              "version_major": 2,
              "version_minor": 0,
              "model_id": "7c294d14552a492d88819bdb6fe663d6"
            }
          },
          "metadata": {}
        },
        {
          "output_type": "display_data",
          "data": {
            "text/plain": [
              "special_tokens_map.json:   0%|          | 0.00/112 [00:00<?, ?B/s]"
            ],
            "application/vnd.jupyter.widget-view+json": {
              "version_major": 2,
              "version_minor": 0,
              "model_id": "142680d6909c4fdc8a656808d1db7158"
            }
          },
          "metadata": {}
        },
        {
          "output_type": "display_data",
          "data": {
            "text/plain": [
              "model.safetensors:   0%|          | 0.00/714M [00:00<?, ?B/s]"
            ],
            "application/vnd.jupyter.widget-view+json": {
              "version_major": 2,
              "version_minor": 0,
              "model_id": "6fc29f1f2a66494baf7b81e42a55264a"
            }
          },
          "metadata": {}
        }
      ]
    },
    {
      "cell_type": "code",
      "source": [
        "generate_and_save_embeddings(tg1_usages, model, tokenizer, filename=\"tr_tg1_base_embeddings.npy\")\n",
        "generate_and_save_embeddings(tg2_usages, model, tokenizer, filename=\"tr_tg2_base_embeddings.npy\")\n",
        "generate_and_save_embeddings(gs1_usages, model, tokenizer, filename=\"tr_gs1_base_embeddings.npy\")\n",
        "generate_and_save_embeddings(s1_usages, model, tokenizer, filename=\"tr_s1_base_embeddings.npy\")\n",
        "generate_and_save_embeddings(gs2_usages, model, tokenizer, filename=\"tr_gs2_base_embeddings.npy\")\n",
        "generate_and_save_embeddings(s2_usages, model, tokenizer, filename=\"tr_s2_base_embeddings.npy\")\n",
        "generate_and_save_embeddings(gs3_usages, model, tokenizer, filename=\"tr_gs3_base_embeddings.npy\")\n",
        "generate_and_save_embeddings(s3_usages, model, tokenizer, filename=\"tr_s3_base_embeddings.npy\")\n",
        "generate_and_save_embeddings(gs4_usages, model, tokenizer, filename=\"tr_gs4_base_embeddings.npy\")\n",
        "generate_and_save_embeddings(s4_usages, model, tokenizer, filename=\"tr_s4_base_embeddings.npy\")"
      ],
      "metadata": {
        "colab": {
          "base_uri": "https://localhost:8080/"
        },
        "id": "mqbGcesADhwF",
        "outputId": "de0f5d8d-a001-466f-ec4d-ee46c4ed1544"
      },
      "execution_count": null,
      "outputs": [
        {
          "output_type": "stream",
          "name": "stdout",
          "text": [
            "[INFO] Using max_length = 83 (based on longest tokenized sentence)\n"
          ]
        },
        {
          "output_type": "stream",
          "name": "stderr",
          "text": [
            "100%|██████████| 2/2 [00:00<00:00,  2.61it/s]\n"
          ]
        },
        {
          "output_type": "stream",
          "name": "stdout",
          "text": [
            "[INFO] Using max_length = 98 (based on longest tokenized sentence)\n"
          ]
        },
        {
          "output_type": "stream",
          "name": "stderr",
          "text": [
            "100%|██████████| 2/2 [00:00<00:00, 11.42it/s]\n"
          ]
        },
        {
          "output_type": "stream",
          "name": "stdout",
          "text": [
            "[INFO] Using max_length = 92 (based on longest tokenized sentence)\n"
          ]
        },
        {
          "output_type": "stream",
          "name": "stderr",
          "text": [
            "100%|██████████| 2/2 [00:00<00:00, 15.74it/s]\n"
          ]
        },
        {
          "output_type": "stream",
          "name": "stdout",
          "text": [
            "[INFO] Using max_length = 56 (based on longest tokenized sentence)\n"
          ]
        },
        {
          "output_type": "stream",
          "name": "stderr",
          "text": [
            "100%|██████████| 2/2 [00:00<00:00, 24.89it/s]\n"
          ]
        },
        {
          "output_type": "stream",
          "name": "stdout",
          "text": [
            "[INFO] Using max_length = 125 (based on longest tokenized sentence)\n"
          ]
        },
        {
          "output_type": "stream",
          "name": "stderr",
          "text": [
            "100%|██████████| 2/2 [00:00<00:00, 11.34it/s]\n"
          ]
        },
        {
          "output_type": "stream",
          "name": "stdout",
          "text": [
            "[INFO] Using max_length = 177 (based on longest tokenized sentence)\n"
          ]
        },
        {
          "output_type": "stream",
          "name": "stderr",
          "text": [
            "100%|██████████| 2/2 [00:00<00:00, 10.92it/s]\n"
          ]
        },
        {
          "output_type": "stream",
          "name": "stdout",
          "text": [
            "[INFO] Using max_length = 96 (based on longest tokenized sentence)\n"
          ]
        },
        {
          "output_type": "stream",
          "name": "stderr",
          "text": [
            "100%|██████████| 2/2 [00:00<00:00, 16.57it/s]\n"
          ]
        },
        {
          "output_type": "stream",
          "name": "stdout",
          "text": [
            "[INFO] Using max_length = 153 (based on longest tokenized sentence)\n"
          ]
        },
        {
          "output_type": "stream",
          "name": "stderr",
          "text": [
            "100%|██████████| 2/2 [00:00<00:00, 11.34it/s]\n"
          ]
        },
        {
          "output_type": "stream",
          "name": "stdout",
          "text": [
            "[INFO] Using max_length = 107 (based on longest tokenized sentence)\n"
          ]
        },
        {
          "output_type": "stream",
          "name": "stderr",
          "text": [
            "100%|██████████| 2/2 [00:00<00:00, 13.72it/s]\n"
          ]
        },
        {
          "output_type": "stream",
          "name": "stdout",
          "text": [
            "[INFO] Using max_length = 78 (based on longest tokenized sentence)\n"
          ]
        },
        {
          "output_type": "stream",
          "name": "stderr",
          "text": [
            "100%|██████████| 2/2 [00:00<00:00, 20.02it/s]\n"
          ]
        }
      ]
    },
    {
      "cell_type": "markdown",
      "source": [
        "###FT: Embeddings trial_data"
      ],
      "metadata": {
        "id": "kjnwWsi5NYpL"
      }
    },
    {
      "cell_type": "code",
      "source": [
        "model_dir = \"/content/drive/MyDrive/nb-bert-finetuned\""
      ],
      "metadata": {
        "id": "7zqXberBNgVX"
      },
      "execution_count": null,
      "outputs": []
    },
    {
      "cell_type": "code",
      "source": [
        "from transformers import AutoModel, AutoTokenizer\n",
        "\n",
        "ft_tokenizer = AutoTokenizer.from_pretrained(model_dir)\n",
        "ft_model = AutoModel.from_pretrained(model_dir, output_hidden_states=True)\n",
        "ft_model.eval()"
      ],
      "metadata": {
        "colab": {
          "base_uri": "https://localhost:8080/"
        },
        "id": "ZMeX9-gONlit",
        "outputId": "7dfe7a45-7405-4801-b998-9e68f79f0cd0"
      },
      "execution_count": null,
      "outputs": [
        {
          "output_type": "stream",
          "name": "stderr",
          "text": [
            "Some weights of BertModel were not initialized from the model checkpoint at /content/drive/MyDrive/nb-bert-finetuned and are newly initialized: ['pooler.dense.bias', 'pooler.dense.weight']\n",
            "You should probably TRAIN this model on a down-stream task to be able to use it for predictions and inference.\n"
          ]
        },
        {
          "output_type": "execute_result",
          "data": {
            "text/plain": [
              "BertModel(\n",
              "  (embeddings): BertEmbeddings(\n",
              "    (word_embeddings): Embedding(119547, 768, padding_idx=0)\n",
              "    (position_embeddings): Embedding(512, 768)\n",
              "    (token_type_embeddings): Embedding(2, 768)\n",
              "    (LayerNorm): LayerNorm((768,), eps=1e-12, elementwise_affine=True)\n",
              "    (dropout): Dropout(p=0.1, inplace=False)\n",
              "  )\n",
              "  (encoder): BertEncoder(\n",
              "    (layer): ModuleList(\n",
              "      (0-11): 12 x BertLayer(\n",
              "        (attention): BertAttention(\n",
              "          (self): BertSdpaSelfAttention(\n",
              "            (query): Linear(in_features=768, out_features=768, bias=True)\n",
              "            (key): Linear(in_features=768, out_features=768, bias=True)\n",
              "            (value): Linear(in_features=768, out_features=768, bias=True)\n",
              "            (dropout): Dropout(p=0.1, inplace=False)\n",
              "          )\n",
              "          (output): BertSelfOutput(\n",
              "            (dense): Linear(in_features=768, out_features=768, bias=True)\n",
              "            (LayerNorm): LayerNorm((768,), eps=1e-12, elementwise_affine=True)\n",
              "            (dropout): Dropout(p=0.1, inplace=False)\n",
              "          )\n",
              "        )\n",
              "        (intermediate): BertIntermediate(\n",
              "          (dense): Linear(in_features=768, out_features=3072, bias=True)\n",
              "          (intermediate_act_fn): GELUActivation()\n",
              "        )\n",
              "        (output): BertOutput(\n",
              "          (dense): Linear(in_features=3072, out_features=768, bias=True)\n",
              "          (LayerNorm): LayerNorm((768,), eps=1e-12, elementwise_affine=True)\n",
              "          (dropout): Dropout(p=0.1, inplace=False)\n",
              "        )\n",
              "      )\n",
              "    )\n",
              "  )\n",
              "  (pooler): BertPooler(\n",
              "    (dense): Linear(in_features=768, out_features=768, bias=True)\n",
              "    (activation): Tanh()\n",
              "  )\n",
              ")"
            ]
          },
          "metadata": {},
          "execution_count": 22
        }
      ]
    },
    {
      "cell_type": "code",
      "source": [
        "generate_and_save_embeddings(tg1_usages, ft_model, ft_tokenizer, filename=\"ft_tg1_base_embeddings.npy\")\n",
        "generate_and_save_embeddings(tg2_usages, ft_model, ft_tokenizer, filename=\"ft_tg2_base_embeddings.npy\")\n",
        "generate_and_save_embeddings(gs1_usages, ft_model, ft_tokenizer, filename=\"ft_gs1_base_embeddings.npy\")\n",
        "generate_and_save_embeddings(s1_usages, ft_model, ft_tokenizer, filename=\"ft_s1_base_embeddings.npy\")\n",
        "generate_and_save_embeddings(gs2_usages, ft_model, ft_tokenizer, filename=\"ft_gs2_base_embeddings.npy\")\n",
        "generate_and_save_embeddings(s2_usages, ft_model, ft_tokenizer, filename=\"ft_s2_base_embeddings.npy\")\n",
        "generate_and_save_embeddings(gs3_usages, ft_model, ft_tokenizer, filename=\"ft_gs3_base_embeddings.npy\")\n",
        "generate_and_save_embeddings(s3_usages, ft_model, ft_tokenizer, filename=\"ft_s3_base_embeddings.npy\")\n",
        "generate_and_save_embeddings(gs4_usages, ft_model, ft_tokenizer, filename=\"ft_gs4_base_embeddings.npy\")\n",
        "generate_and_save_embeddings(s4_usages, ft_model, ft_tokenizer, filename=\"ft_s4_base_embeddings.npy\")"
      ],
      "metadata": {
        "colab": {
          "base_uri": "https://localhost:8080/"
        },
        "id": "raCVkGKdbM-c",
        "outputId": "5d253c99-6f87-4d3e-c327-2699517ffb01"
      },
      "execution_count": null,
      "outputs": [
        {
          "output_type": "stream",
          "name": "stdout",
          "text": [
            "[INFO] Using max_length = 83 (based on longest tokenized sentence)\n"
          ]
        },
        {
          "output_type": "stream",
          "name": "stderr",
          "text": [
            "100%|██████████| 2/2 [00:00<00:00,  8.43it/s]\n"
          ]
        },
        {
          "output_type": "stream",
          "name": "stdout",
          "text": [
            "[INFO] Using max_length = 98 (based on longest tokenized sentence)\n"
          ]
        },
        {
          "output_type": "stream",
          "name": "stderr",
          "text": [
            "100%|██████████| 2/2 [00:00<00:00, 11.26it/s]\n"
          ]
        },
        {
          "output_type": "stream",
          "name": "stdout",
          "text": [
            "[INFO] Using max_length = 92 (based on longest tokenized sentence)\n"
          ]
        },
        {
          "output_type": "stream",
          "name": "stderr",
          "text": [
            "100%|██████████| 2/2 [00:00<00:00, 13.56it/s]\n"
          ]
        },
        {
          "output_type": "stream",
          "name": "stdout",
          "text": [
            "[INFO] Using max_length = 56 (based on longest tokenized sentence)\n"
          ]
        },
        {
          "output_type": "stream",
          "name": "stderr",
          "text": [
            "100%|██████████| 2/2 [00:00<00:00, 19.95it/s]\n"
          ]
        },
        {
          "output_type": "stream",
          "name": "stdout",
          "text": [
            "[INFO] Using max_length = 125 (based on longest tokenized sentence)\n"
          ]
        },
        {
          "output_type": "stream",
          "name": "stderr",
          "text": [
            "100%|██████████| 2/2 [00:00<00:00,  9.13it/s]\n"
          ]
        },
        {
          "output_type": "stream",
          "name": "stdout",
          "text": [
            "[INFO] Using max_length = 177 (based on longest tokenized sentence)\n"
          ]
        },
        {
          "output_type": "stream",
          "name": "stderr",
          "text": [
            "100%|██████████| 2/2 [00:00<00:00,  9.06it/s]\n"
          ]
        },
        {
          "output_type": "stream",
          "name": "stdout",
          "text": [
            "[INFO] Using max_length = 96 (based on longest tokenized sentence)\n"
          ]
        },
        {
          "output_type": "stream",
          "name": "stderr",
          "text": [
            "100%|██████████| 2/2 [00:00<00:00, 13.06it/s]\n"
          ]
        },
        {
          "output_type": "stream",
          "name": "stdout",
          "text": [
            "[INFO] Using max_length = 153 (based on longest tokenized sentence)\n"
          ]
        },
        {
          "output_type": "stream",
          "name": "stderr",
          "text": [
            "100%|██████████| 2/2 [00:00<00:00,  9.32it/s]\n"
          ]
        },
        {
          "output_type": "stream",
          "name": "stdout",
          "text": [
            "[INFO] Using max_length = 107 (based on longest tokenized sentence)\n"
          ]
        },
        {
          "output_type": "stream",
          "name": "stderr",
          "text": [
            "100%|██████████| 2/2 [00:00<00:00, 11.42it/s]\n"
          ]
        },
        {
          "output_type": "stream",
          "name": "stdout",
          "text": [
            "[INFO] Using max_length = 78 (based on longest tokenized sentence)\n"
          ]
        },
        {
          "output_type": "stream",
          "name": "stderr",
          "text": [
            "100%|██████████| 2/2 [00:00<00:00, 17.24it/s]\n"
          ]
        }
      ]
    },
    {
      "cell_type": "markdown",
      "source": [
        "# Pre-trained Embeddings"
      ],
      "metadata": {
        "id": "uK2noL70tJuj"
      }
    },
    {
      "cell_type": "markdown",
      "source": [
        "## Load embeddings from Disk"
      ],
      "metadata": {
        "id": "soppFwBjX_2-"
      }
    },
    {
      "cell_type": "code",
      "source": [
        "import numpy as np\n",
        "\n",
        "folder_path = '/content/drive/My Drive/MSc Computer Science/Master Thesis/trial_base_embeddings'\n",
        "\n",
        "tg1_embeddings = np.load(folder_path+'/tr_tg1_base_embeddings.npy')\n",
        "tg2_embeddings = np.load(folder_path+'/tr_tg2_base_embeddings.npy')\n",
        "\n",
        "s1_embeddings = np.load(folder_path+'/tr_s1_base_embeddings.npy')\n",
        "gs1_embeddings = np.load(folder_path+'/tr_gs1_base_embeddings.npy')\n",
        "\n",
        "s2_embeddings = np.load(folder_path+'/tr_s2_base_embeddings.npy')\n",
        "gs2_embeddings = np.load(folder_path+'/tr_gs2_base_embeddings.npy')\n",
        "\n",
        "s3_embeddings = np.load(folder_path+'/tr_s3_base_embeddings.npy')\n",
        "gs3_embeddings = np.load(folder_path+'/tr_gs3_base_embeddings.npy')\n",
        "\n",
        "s4_embeddings = np.load(folder_path+'/tr_s4_base_embeddings.npy')\n",
        "gs4_embeddings = np.load(folder_path+'/tr_gs4_base_embeddings.npy')"
      ],
      "metadata": {
        "id": "dzPKj0VUYdzD"
      },
      "execution_count": 10,
      "outputs": []
    },
    {
      "cell_type": "code",
      "source": [
        "tg1_embeddings.shape, tg2_embeddings.shape"
      ],
      "metadata": {
        "colab": {
          "base_uri": "https://localhost:8080/"
        },
        "id": "aTYWoARFaL3K",
        "outputId": "697f7fba-9bfb-4558-8bab-64496f5b6e39"
      },
      "execution_count": 11,
      "outputs": [
        {
          "output_type": "execute_result",
          "data": {
            "text/plain": [
              "((30, 768), (30, 768))"
            ]
          },
          "metadata": {},
          "execution_count": 11
        }
      ]
    },
    {
      "cell_type": "code",
      "source": [
        "s1_embeddings.shape, gs1_embeddings.shape"
      ],
      "metadata": {
        "colab": {
          "base_uri": "https://localhost:8080/"
        },
        "id": "bHgT9_m3GSXK",
        "outputId": "3694c458-6359-4f24-abc4-2e296cd8c63e"
      },
      "execution_count": 12,
      "outputs": [
        {
          "output_type": "execute_result",
          "data": {
            "text/plain": [
              "((30, 768), (30, 768))"
            ]
          },
          "metadata": {},
          "execution_count": 12
        }
      ]
    },
    {
      "cell_type": "code",
      "source": [
        "s2_embeddings.shape, gs2_embeddings.shape"
      ],
      "metadata": {
        "colab": {
          "base_uri": "https://localhost:8080/"
        },
        "id": "hnv9ZSngGUwK",
        "outputId": "8694b158-08d3-4649-e746-71edd7eca0e8"
      },
      "execution_count": 13,
      "outputs": [
        {
          "output_type": "execute_result",
          "data": {
            "text/plain": [
              "((30, 768), (30, 768))"
            ]
          },
          "metadata": {},
          "execution_count": 13
        }
      ]
    },
    {
      "cell_type": "code",
      "source": [
        "s3_embeddings.shape, gs3_embeddings.shape"
      ],
      "metadata": {
        "colab": {
          "base_uri": "https://localhost:8080/"
        },
        "id": "4gpgtXEBGWXI",
        "outputId": "2ff540af-016b-4929-caff-0032ca42710d"
      },
      "execution_count": 14,
      "outputs": [
        {
          "output_type": "execute_result",
          "data": {
            "text/plain": [
              "((30, 768), (30, 768))"
            ]
          },
          "metadata": {},
          "execution_count": 14
        }
      ]
    },
    {
      "cell_type": "code",
      "source": [
        "s4_embeddings.shape, gs4_embeddings.shape"
      ],
      "metadata": {
        "colab": {
          "base_uri": "https://localhost:8080/"
        },
        "id": "UetQOLKKGYRd",
        "outputId": "efe3ccab-aca8-459e-e6f6-2b4d14f5850e"
      },
      "execution_count": 15,
      "outputs": [
        {
          "output_type": "execute_result",
          "data": {
            "text/plain": [
              "((30, 768), (30, 768))"
            ]
          },
          "metadata": {},
          "execution_count": 15
        }
      ]
    },
    {
      "cell_type": "markdown",
      "source": [
        "## Cluster and graded LSC (JSD)"
      ],
      "metadata": {
        "id": "SGLs8JxfVML7"
      }
    },
    {
      "cell_type": "code",
      "source": [
        "pt_d_jsd, _, _ = cluster_and_compare_jsd(aff, tg1_embeddings, tg2_embeddings)\n",
        "pt_d_jsd\n",
        "# np.float64(0.28762842937480565)"
      ],
      "metadata": {
        "colab": {
          "base_uri": "https://localhost:8080/"
        },
        "id": "AS_m9gotoLOu",
        "outputId": "b8581b09-6b2c-4018-aa04-4c2a47e55a04"
      },
      "execution_count": 16,
      "outputs": [
        {
          "output_type": "stream",
          "name": "stdout",
          "text": [
            "counts1 [6 3 6 1 1 7 2 4 0]\n",
            "counts2 [6 9 2 0 0 5 3 4 1]\n"
          ]
        },
        {
          "output_type": "execute_result",
          "data": {
            "text/plain": [
              "np.float64(0.28762842937480565)"
            ]
          },
          "metadata": {},
          "execution_count": 16
        }
      ]
    },
    {
      "cell_type": "code",
      "source": [
        "pt_s1_jsd, _, _ = cluster_and_compare_jsd(aff, s1_embeddings, gs1_embeddings)\n",
        "pt_s1_jsd\n",
        "# np.float64(0.5024905442575683)"
      ],
      "metadata": {
        "colab": {
          "base_uri": "https://localhost:8080/"
        },
        "id": "qVuzqv2yoYRD",
        "outputId": "04876bc4-3af7-4f85-8215-365bbda1656c"
      },
      "execution_count": 17,
      "outputs": [
        {
          "output_type": "stream",
          "name": "stdout",
          "text": [
            "counts1 [ 2  2  2 10  7  6  0  1  0  0  0  0]\n",
            "counts2 [0 1 1 3 3 5 1 2 5 1 3 5]\n"
          ]
        },
        {
          "output_type": "execute_result",
          "data": {
            "text/plain": [
              "np.float64(0.5024905442575683)"
            ]
          },
          "metadata": {},
          "execution_count": 17
        }
      ]
    },
    {
      "cell_type": "code",
      "source": [
        "pt_s2_jsd, _, _ = cluster_and_compare_jsd(aff, s2_embeddings, gs2_embeddings)\n",
        "pt_s2_jsd\n",
        "# np.float64(0.29100035275770453)"
      ],
      "metadata": {
        "colab": {
          "base_uri": "https://localhost:8080/"
        },
        "id": "I3XmvL8hClBS",
        "outputId": "bdcfd8b1-16ac-486c-be93-47fef7d72904"
      },
      "execution_count": 18,
      "outputs": [
        {
          "output_type": "stream",
          "name": "stdout",
          "text": [
            "counts1 [ 1  6 10  3  4  3  3  0]\n",
            "counts2 [0 5 7 1 8 2 3 4]\n"
          ]
        },
        {
          "output_type": "execute_result",
          "data": {
            "text/plain": [
              "np.float64(0.29100035275770453)"
            ]
          },
          "metadata": {},
          "execution_count": 18
        }
      ]
    },
    {
      "cell_type": "code",
      "source": [
        "pt_s3_jsd, _, _ = cluster_and_compare_jsd(aff, s3_embeddings, gs3_embeddings)\n",
        "pt_s3_jsd\n",
        "# np.float64(0.31448108089053484)"
      ],
      "metadata": {
        "colab": {
          "base_uri": "https://localhost:8080/"
        },
        "id": "oFdDFy0eCmbf",
        "outputId": "08bd83e9-81c0-4288-c938-bf78bc2d7b1f"
      },
      "execution_count": 19,
      "outputs": [
        {
          "output_type": "stream",
          "name": "stdout",
          "text": [
            "counts1 [ 5  4  8 10  1  0  2  0]\n",
            "counts2 [4 1 7 5 6 1 5 1]\n"
          ]
        },
        {
          "output_type": "execute_result",
          "data": {
            "text/plain": [
              "np.float64(0.31448108089053484)"
            ]
          },
          "metadata": {},
          "execution_count": 19
        }
      ]
    },
    {
      "cell_type": "code",
      "source": [
        "pt_s4_jsd, _, _  = cluster_and_compare_jsd(aff, s4_embeddings, gs4_embeddings)\n",
        "pt_s4_jsd\n",
        "# np.float64(0.39782780640754384)"
      ],
      "metadata": {
        "colab": {
          "base_uri": "https://localhost:8080/"
        },
        "id": "hb7t_W-_Cn5i",
        "outputId": "f67a713f-7110-4a30-fcc3-34f57b031bc3"
      },
      "execution_count": 20,
      "outputs": [
        {
          "output_type": "stream",
          "name": "stdout",
          "text": [
            "counts1 [ 2  5 14  4  1  0  0  0  4  0]\n",
            "counts2 [1 3 5 6 0 4 1 1 7 2]\n"
          ]
        },
        {
          "output_type": "execute_result",
          "data": {
            "text/plain": [
              "np.float64(0.39782780640754384)"
            ]
          },
          "metadata": {},
          "execution_count": 20
        }
      ]
    },
    {
      "cell_type": "markdown",
      "source": [
        "## Cluster and binary LSC"
      ],
      "metadata": {
        "id": "n4zCFjm2q2GX"
      }
    },
    {
      "cell_type": "code",
      "source": [
        "binary_change_d, D_d, E_d, clusters_d = cluster_embeddings_binary(tg1_embeddings, tg2_embeddings, aff_model=aff, k=0, n=2)\n",
        "binary_change_d, D_d, E_d, clusters_d"
      ],
      "metadata": {
        "colab": {
          "base_uri": "https://localhost:8080/"
        },
        "id": "6kbBxTzFXAKy",
        "outputId": "3a822fe2-ecad-4bf3-d285-942d013fdbac"
      },
      "execution_count": 21,
      "outputs": [
        {
          "output_type": "execute_result",
          "data": {
            "text/plain": [
              "(0,\n",
              " [3, 6, 7, 6, 2, 4, 1, 1, 0],\n",
              " [9, 2, 5, 6, 3, 4, 0, 0, 1],\n",
              " [['cr', 'cr', 'cr', 'cf', 'cf', 'cf', 'cf', 'cf', 'cf', 'cf', 'cf', 'cf'],\n",
              "  ['cr', 'cr', 'cr', 'cr', 'cr', 'cr', 'cf', 'cf'],\n",
              "  ['cr', 'cr', 'cr', 'cr', 'cr', 'cr', 'cr', 'cf', 'cf', 'cf', 'cf', 'cf'],\n",
              "  ['cr', 'cr', 'cr', 'cr', 'cr', 'cr', 'cf', 'cf', 'cf', 'cf', 'cf', 'cf'],\n",
              "  ['cr', 'cr', 'cf', 'cf', 'cf'],\n",
              "  ['cr', 'cr', 'cr', 'cr', 'cf', 'cf', 'cf', 'cf'],\n",
              "  ['cr'],\n",
              "  ['cr'],\n",
              "  ['cf']])"
            ]
          },
          "metadata": {},
          "execution_count": 21
        }
      ]
    },
    {
      "cell_type": "markdown",
      "source": [
        "(0,\n",
        " [3, 6, 7, 6, 2, 4, 1, 1, 0],\n",
        " [9, 2, 5, 6, 3, 4, 0, 0, 1],\n",
        " [['cr', 'cr', 'cr', 'cf', 'cf', 'cf', 'cf', 'cf', 'cf', 'cf', 'cf', 'cf'],\n",
        "  ['cr', 'cr', 'cr', 'cr', 'cr', 'cr', 'cf', 'cf'],\n",
        "  ['cr', 'cr', 'cr', 'cr', 'cr', 'cr', 'cr', 'cf', 'cf', 'cf', 'cf', 'cf'],\n",
        "  ['cr', 'cr', 'cr', 'cr', 'cr', 'cr', 'cf', 'cf', 'cf', 'cf', 'cf', 'cf'],\n",
        "  ['cr', 'cr', 'cf', 'cf', 'cf'],\n",
        "  ['cr', 'cr', 'cr', 'cr', 'cf', 'cf', 'cf', 'cf'],\n",
        "  ['cr'],\n",
        "  ['cr'],\n",
        "  ['cf']])"
      ],
      "metadata": {
        "id": "xeRykAMDX2qm"
      }
    },
    {
      "cell_type": "code",
      "source": [
        "binary_change_s1, D_s1, E_s1, clusters_s1 = cluster_embeddings_binary(s1_embeddings, gs1_embeddings, aff_model=aff, k=0, n=2)\n",
        "binary_change_s1, D_s1, E_s1, clusters_s1"
      ],
      "metadata": {
        "colab": {
          "base_uri": "https://localhost:8080/"
        },
        "id": "bAaJHdrcbuvs",
        "outputId": "cc185632-a367-42cb-9126-df392cebe4b0"
      },
      "execution_count": 22,
      "outputs": [
        {
          "output_type": "execute_result",
          "data": {
            "text/plain": [
              "(1,\n",
              " [2, 10, 7, 6, 2, 2, 1, 0, 0, 0, 0, 0],\n",
              " [0, 3, 3, 5, 1, 1, 2, 5, 5, 1, 3, 1],\n",
              " [['cr', 'cr'],\n",
              "  ['cr',\n",
              "   'cr',\n",
              "   'cr',\n",
              "   'cr',\n",
              "   'cr',\n",
              "   'cr',\n",
              "   'cr',\n",
              "   'cr',\n",
              "   'cr',\n",
              "   'cr',\n",
              "   'cf',\n",
              "   'cf',\n",
              "   'cf'],\n",
              "  ['cr', 'cr', 'cr', 'cr', 'cr', 'cr', 'cr', 'cf', 'cf', 'cf'],\n",
              "  ['cr', 'cr', 'cr', 'cr', 'cr', 'cr', 'cf', 'cf', 'cf', 'cf', 'cf'],\n",
              "  ['cr', 'cr', 'cf'],\n",
              "  ['cr', 'cr', 'cf'],\n",
              "  ['cr', 'cf', 'cf'],\n",
              "  ['cf', 'cf', 'cf', 'cf', 'cf'],\n",
              "  ['cf', 'cf', 'cf', 'cf', 'cf'],\n",
              "  ['cf'],\n",
              "  ['cf', 'cf', 'cf'],\n",
              "  ['cf']])"
            ]
          },
          "metadata": {},
          "execution_count": 22
        }
      ]
    },
    {
      "cell_type": "markdown",
      "source": [
        "(1,\n",
        " [2, 10, 7, 6, 2, 2, 1, 0, 0, 0, 0, 0],\n",
        " [0, 3, 3, 5, 1, 1, 2, 5, 5, 1, 3, 1],\n",
        " [['cr', 'cr'],\n",
        "  ['cr',\n",
        "   'cr',\n",
        "   'cr',\n",
        "   'cr',\n",
        "   'cr',\n",
        "   'cr',\n",
        "   'cr',\n",
        "   'cr',\n",
        "   'cr',\n",
        "   'cr',\n",
        "   'cf',\n",
        "   'cf',\n",
        "   'cf'],\n",
        "  ['cr', 'cr', 'cr', 'cr', 'cr', 'cr', 'cr', 'cf', 'cf', 'cf'],\n",
        "  ['cr', 'cr', 'cr', 'cr', 'cr', 'cr', 'cf', 'cf', 'cf', 'cf', 'cf'],\n",
        "  ['cr', 'cr', 'cf'],\n",
        "  ['cr', 'cr', 'cf'],\n",
        "  ['cr', 'cf', 'cf'],\n",
        "  ['cf', 'cf', 'cf', 'cf', 'cf'],\n",
        "  ['cf', 'cf', 'cf', 'cf', 'cf'],\n",
        "  ['cf'],\n",
        "  ['cf', 'cf', 'cf'],\n",
        "  ['cf']])"
      ],
      "metadata": {
        "id": "mfYqoELwcGPI"
      }
    },
    {
      "cell_type": "code",
      "source": [
        "binary_change_s2, D_s2, E_s2, clusters_s2 = cluster_embeddings_binary(s2_embeddings, gs2_embeddings, aff_model=aff, k=0, n=2)\n",
        "binary_change_s2, D_s2, E_s2, clusters_s2"
      ],
      "metadata": {
        "colab": {
          "base_uri": "https://localhost:8080/"
        },
        "id": "mfSoTaHKcF8V",
        "outputId": "9642c7ab-74c3-4ead-c787-88480f8dc60c"
      },
      "execution_count": 23,
      "outputs": [
        {
          "output_type": "execute_result",
          "data": {
            "text/plain": [
              "(1,\n",
              " [4, 6, 10, 1, 3, 3, 3, 0],\n",
              " [8, 5, 7, 0, 2, 3, 1, 4],\n",
              " [['cr', 'cr', 'cr', 'cr', 'cf', 'cf', 'cf', 'cf', 'cf', 'cf', 'cf', 'cf'],\n",
              "  ['cr', 'cr', 'cr', 'cr', 'cr', 'cr', 'cf', 'cf', 'cf', 'cf', 'cf'],\n",
              "  ['cr',\n",
              "   'cr',\n",
              "   'cr',\n",
              "   'cr',\n",
              "   'cr',\n",
              "   'cr',\n",
              "   'cr',\n",
              "   'cr',\n",
              "   'cr',\n",
              "   'cr',\n",
              "   'cf',\n",
              "   'cf',\n",
              "   'cf',\n",
              "   'cf',\n",
              "   'cf',\n",
              "   'cf',\n",
              "   'cf'],\n",
              "  ['cr'],\n",
              "  ['cr', 'cr', 'cr', 'cf', 'cf'],\n",
              "  ['cr', 'cr', 'cr', 'cf', 'cf', 'cf'],\n",
              "  ['cr', 'cr', 'cr', 'cf'],\n",
              "  ['cf', 'cf', 'cf', 'cf']])"
            ]
          },
          "metadata": {},
          "execution_count": 23
        }
      ]
    },
    {
      "cell_type": "markdown",
      "source": [
        "(1,\n",
        " [4, 6, 10, 1, 3, 3, 3, 0],\n",
        " [8, 5, 7, 0, 2, 3, 1, 4],\n",
        " [['cr', 'cr', 'cr', 'cr', 'cf', 'cf', 'cf', 'cf', 'cf', 'cf', 'cf', 'cf'],\n",
        "  ['cr', 'cr', 'cr', 'cr', 'cr', 'cr', 'cf', 'cf', 'cf', 'cf', 'cf'],\n",
        "  ['cr',\n",
        "   'cr',\n",
        "   'cr',\n",
        "   'cr',\n",
        "   'cr',\n",
        "   'cr',\n",
        "   'cr',\n",
        "   'cr',\n",
        "   'cr',\n",
        "   'cr',\n",
        "   'cf',\n",
        "   'cf',\n",
        "   'cf',\n",
        "   'cf',\n",
        "   'cf',\n",
        "   'cf',\n",
        "   'cf'],\n",
        "  ['cr'],\n",
        "  ['cr', 'cr', 'cr', 'cf', 'cf'],\n",
        "  ['cr', 'cr', 'cr', 'cf', 'cf', 'cf'],\n",
        "  ['cr', 'cr', 'cr', 'cf'],\n",
        "  ['cf', 'cf', 'cf', 'cf']])"
      ],
      "metadata": {
        "id": "7EgXl9J9cMhv"
      }
    },
    {
      "cell_type": "code",
      "source": [
        "binary_change_s3, D_s3, E_s3, clusters_s3 = cluster_embeddings_binary(s3_embeddings, gs3_embeddings, aff_model=aff, k=0, n=2)\n",
        "binary_change_s3, D_s3, E_s3, clusters_s3"
      ],
      "metadata": {
        "colab": {
          "base_uri": "https://localhost:8080/"
        },
        "id": "Hfd8rErLcNgK",
        "outputId": "0caa3773-7aff-489d-c74a-b0a106363bbe"
      },
      "execution_count": 24,
      "outputs": [
        {
          "output_type": "execute_result",
          "data": {
            "text/plain": [
              "(0,\n",
              " [8, 5, 4, 10, 1, 2, 0, 0],\n",
              " [7, 4, 1, 5, 6, 5, 1, 1],\n",
              " [['cr',\n",
              "   'cr',\n",
              "   'cr',\n",
              "   'cr',\n",
              "   'cr',\n",
              "   'cr',\n",
              "   'cr',\n",
              "   'cr',\n",
              "   'cf',\n",
              "   'cf',\n",
              "   'cf',\n",
              "   'cf',\n",
              "   'cf',\n",
              "   'cf',\n",
              "   'cf'],\n",
              "  ['cr', 'cr', 'cr', 'cr', 'cr', 'cf', 'cf', 'cf', 'cf'],\n",
              "  ['cr', 'cr', 'cr', 'cr', 'cf'],\n",
              "  ['cr',\n",
              "   'cr',\n",
              "   'cr',\n",
              "   'cr',\n",
              "   'cr',\n",
              "   'cr',\n",
              "   'cr',\n",
              "   'cr',\n",
              "   'cr',\n",
              "   'cr',\n",
              "   'cf',\n",
              "   'cf',\n",
              "   'cf',\n",
              "   'cf',\n",
              "   'cf'],\n",
              "  ['cr', 'cf', 'cf', 'cf', 'cf', 'cf', 'cf'],\n",
              "  ['cr', 'cr', 'cf', 'cf', 'cf', 'cf', 'cf'],\n",
              "  ['cf'],\n",
              "  ['cf']])"
            ]
          },
          "metadata": {},
          "execution_count": 24
        }
      ]
    },
    {
      "cell_type": "markdown",
      "source": [
        "(0,\n",
        " [8, 5, 4, 10, 1, 2, 0, 0],\n",
        " [7, 4, 1, 5, 6, 5, 1, 1],\n",
        " [['cr',\n",
        "   'cr',\n",
        "   'cr',\n",
        "   'cr',\n",
        "   'cr',\n",
        "   'cr',\n",
        "   'cr',\n",
        "   'cr',\n",
        "   'cf',\n",
        "   'cf',\n",
        "   'cf',\n",
        "   'cf',\n",
        "   'cf',\n",
        "   'cf',\n",
        "   'cf'],\n",
        "  ['cr', 'cr', 'cr', 'cr', 'cr', 'cf', 'cf', 'cf', 'cf'],\n",
        "  ['cr', 'cr', 'cr', 'cr', 'cf'],\n",
        "  ['cr',\n",
        "   'cr',\n",
        "   'cr',\n",
        "   'cr',\n",
        "   'cr',\n",
        "   'cr',\n",
        "   'cr',\n",
        "   'cr',\n",
        "   'cr',\n",
        "   'cr',\n",
        "   'cf',\n",
        "   'cf',\n",
        "   'cf',\n",
        "   'cf',\n",
        "   'cf'],\n",
        "  ['cr', 'cf', 'cf', 'cf', 'cf', 'cf', 'cf'],\n",
        "  ['cr', 'cr', 'cf', 'cf', 'cf', 'cf', 'cf'],\n",
        "  ['cf'],\n",
        "  ['cf']])"
      ],
      "metadata": {
        "id": "yBFqIOEdcSNS"
      }
    },
    {
      "cell_type": "code",
      "source": [
        "binary_change_s4, D_s4, E_s4, clusters_s4 = cluster_embeddings_binary(s4_embeddings, gs4_embeddings, aff_model=aff, k=0, n=2)\n",
        "binary_change_s4, D_s4, E_s4, clusters_s4"
      ],
      "metadata": {
        "colab": {
          "base_uri": "https://localhost:8080/"
        },
        "id": "JPvIiXcucT91",
        "outputId": "56c1fde0-2666-4285-a9af-ada2fa26e972"
      },
      "execution_count": 25,
      "outputs": [
        {
          "output_type": "execute_result",
          "data": {
            "text/plain": [
              "(1,\n",
              " [5, 14, 2, 4, 4, 1, 0, 0, 0, 0],\n",
              " [3, 5, 1, 6, 7, 0, 4, 1, 1, 2],\n",
              " [['cr', 'cr', 'cr', 'cr', 'cr', 'cf', 'cf', 'cf'],\n",
              "  ['cr',\n",
              "   'cr',\n",
              "   'cr',\n",
              "   'cr',\n",
              "   'cr',\n",
              "   'cr',\n",
              "   'cr',\n",
              "   'cr',\n",
              "   'cr',\n",
              "   'cr',\n",
              "   'cr',\n",
              "   'cr',\n",
              "   'cr',\n",
              "   'cr',\n",
              "   'cf',\n",
              "   'cf',\n",
              "   'cf',\n",
              "   'cf',\n",
              "   'cf'],\n",
              "  ['cr', 'cr', 'cf'],\n",
              "  ['cr', 'cr', 'cr', 'cr', 'cf', 'cf', 'cf', 'cf', 'cf', 'cf'],\n",
              "  ['cr', 'cr', 'cr', 'cr', 'cf', 'cf', 'cf', 'cf', 'cf', 'cf', 'cf'],\n",
              "  ['cr'],\n",
              "  ['cf', 'cf', 'cf', 'cf'],\n",
              "  ['cf'],\n",
              "  ['cf'],\n",
              "  ['cf', 'cf']])"
            ]
          },
          "metadata": {},
          "execution_count": 25
        }
      ]
    },
    {
      "cell_type": "markdown",
      "source": [
        "(1,\n",
        " [5, 14, 2, 4, 4, 1, 0, 0, 0, 0],\n",
        " [3, 5, 1, 6, 7, 0, 4, 1, 1, 2],\n",
        " [['cr', 'cr', 'cr', 'cr', 'cr', 'cf', 'cf', 'cf'],\n",
        "  ['cr',\n",
        "   'cr',\n",
        "   'cr',\n",
        "   'cr',\n",
        "   'cr',\n",
        "   'cr',\n",
        "   'cr',\n",
        "   'cr',\n",
        "   'cr',\n",
        "   'cr',\n",
        "   'cr',\n",
        "   'cr',\n",
        "   'cr',\n",
        "   'cr',\n",
        "   'cf',\n",
        "   'cf',\n",
        "   'cf',\n",
        "   'cf',\n",
        "   'cf'],\n",
        "  ['cr', 'cr', 'cf'],\n",
        "  ['cr', 'cr', 'cr', 'cr', 'cf', 'cf', 'cf', 'cf', 'cf', 'cf'],\n",
        "  ['cr', 'cr', 'cr', 'cr', 'cf', 'cf', 'cf', 'cf', 'cf', 'cf', 'cf'],\n",
        "  ['cr'],\n",
        "  ['cf', 'cf', 'cf', 'cf'],\n",
        "  ['cf'],\n",
        "  ['cf'],\n",
        "  ['cf', 'cf']])"
      ],
      "metadata": {
        "id": "u2mNsqRrcaBz"
      }
    },
    {
      "cell_type": "markdown",
      "source": [
        "## APD"
      ],
      "metadata": {
        "id": "iPtjnFFtp7Gj"
      }
    },
    {
      "cell_type": "code",
      "source": [
        "# Pre-trained embeddings\n",
        "print('dia', compute_apd(tg1_embeddings, tg2_embeddings))\n",
        "print('s1', compute_apd(gs1_embeddings, s1_embeddings))\n",
        "print('s2', compute_apd(gs2_embeddings, s2_embeddings))\n",
        "print('s3', compute_apd(gs3_embeddings, s3_embeddings))\n",
        "print('s4', compute_apd(gs4_embeddings, s4_embeddings))"
      ],
      "metadata": {
        "colab": {
          "base_uri": "https://localhost:8080/"
        },
        "id": "Iug_c-r2ASTw",
        "outputId": "f7cf7d01-f026-4baa-de77-bbc992555ddb"
      },
      "execution_count": 26,
      "outputs": [
        {
          "output_type": "stream",
          "name": "stdout",
          "text": [
            "dia 0.20095693515997842\n",
            "s1 0.21373258741378562\n",
            "s2 0.21893470070994883\n",
            "s3 0.20913882849119797\n",
            "s4 0.2134432500436538\n"
          ]
        }
      ]
    },
    {
      "cell_type": "markdown",
      "source": [
        "# Fine-tuned Embeddings"
      ],
      "metadata": {
        "id": "v4f349qttnLz"
      }
    },
    {
      "cell_type": "markdown",
      "source": [
        "## Load embeddings from Disk"
      ],
      "metadata": {
        "id": "HJ34vibctwEJ"
      }
    },
    {
      "cell_type": "code",
      "source": [
        "import numpy as np\n",
        "\n",
        "folder_path_ft = '/content/drive/MyDrive/MSc Computer Science/Master Thesis/ft-trial-base-embeddings/'\n",
        "\n",
        "ft_tg1_embeddings = np.load(folder_path_ft+\"ft_tg1_base_embeddings.npy\")\n",
        "ft_tg2_embeddings = np.load(folder_path_ft+\"ft_tg2_base_embeddings.npy\")\n",
        "ft_gs1_embeddings = np.load(folder_path_ft+\"ft_gs1_base_embeddings.npy\")\n",
        "ft_s1_embeddings = np.load(folder_path_ft+\"ft_s1_base_embeddings.npy\")\n",
        "ft_gs2_embeddings = np.load(folder_path_ft+\"ft_gs2_base_embeddings.npy\")\n",
        "ft_s2_embeddings = np.load(folder_path_ft+\"ft_s2_base_embeddings.npy\")\n",
        "ft_gs3_embeddings = np.load(folder_path_ft+\"ft_gs3_base_embeddings.npy\")\n",
        "ft_s3_embeddings = np.load(folder_path_ft+\"ft_s3_base_embeddings.npy\")\n",
        "ft_gs4_embeddings = np.load(folder_path_ft+\"ft_gs4_base_embeddings.npy\")\n",
        "ft_s4_embeddings = np.load(folder_path_ft+\"ft_s4_base_embeddings.npy\")"
      ],
      "metadata": {
        "id": "XNqBn4jydCmp"
      },
      "execution_count": 27,
      "outputs": []
    },
    {
      "cell_type": "markdown",
      "source": [
        "## Cluster and binary LSC"
      ],
      "metadata": {
        "id": "GKd1E9Whtyem"
      }
    },
    {
      "cell_type": "code",
      "source": [
        "bc_d_ft, D_d_ft, E_d_ft, clusters_d_ft = cluster_embeddings_binary(ft_tg1_embeddings, ft_tg2_embeddings, aff_model=aff)\n",
        "bc_d_ft, D_d_ft, E_d_ft, clusters_d_ft"
      ],
      "metadata": {
        "colab": {
          "base_uri": "https://localhost:8080/"
        },
        "id": "OkyxSuLCehNY",
        "outputId": "e5c79cfc-ba3a-4b19-a00f-ddddab0dd105"
      },
      "execution_count": 28,
      "outputs": [
        {
          "output_type": "execute_result",
          "data": {
            "text/plain": [
              "(0,\n",
              " [2, 7, 4, 4, 4, 1, 6, 1, 1],\n",
              " [8, 3, 5, 3, 4, 4, 1, 0, 2],\n",
              " [['cr', 'cr', 'cf', 'cf', 'cf', 'cf', 'cf', 'cf', 'cf', 'cf'],\n",
              "  ['cr', 'cr', 'cr', 'cr', 'cr', 'cr', 'cr', 'cf', 'cf', 'cf'],\n",
              "  ['cr', 'cr', 'cr', 'cr', 'cf', 'cf', 'cf', 'cf', 'cf'],\n",
              "  ['cr', 'cr', 'cr', 'cr', 'cf', 'cf', 'cf'],\n",
              "  ['cr', 'cr', 'cr', 'cr', 'cf', 'cf', 'cf', 'cf'],\n",
              "  ['cr', 'cf', 'cf', 'cf', 'cf'],\n",
              "  ['cr', 'cr', 'cr', 'cr', 'cr', 'cr', 'cf'],\n",
              "  ['cr'],\n",
              "  ['cr', 'cf', 'cf']])"
            ]
          },
          "metadata": {},
          "execution_count": 28
        }
      ]
    },
    {
      "cell_type": "markdown",
      "source": [
        "(0,\n",
        " [2, 7, 4, 4, 4, 1, 6, 1, 1],\n",
        " [8, 3, 5, 3, 4, 4, 1, 0, 2],\n",
        " [['cr', 'cr', 'cf', 'cf', 'cf', 'cf', 'cf', 'cf', 'cf', 'cf'],\n",
        "  ['cr', 'cr', 'cr', 'cr', 'cr', 'cr', 'cr', 'cf', 'cf', 'cf'],\n",
        "  ['cr', 'cr', 'cr', 'cr', 'cf', 'cf', 'cf', 'cf', 'cf'],\n",
        "  ['cr', 'cr', 'cr', 'cr', 'cf', 'cf', 'cf'],\n",
        "  ['cr', 'cr', 'cr', 'cr', 'cf', 'cf', 'cf', 'cf'],\n",
        "  ['cr', 'cf', 'cf', 'cf', 'cf'],\n",
        "  ['cr', 'cr', 'cr', 'cr', 'cr', 'cr', 'cf'],\n",
        "  ['cr'],\n",
        "  ['cr', 'cf', 'cf']])"
      ],
      "metadata": {
        "id": "azkiZoeloieL"
      }
    },
    {
      "cell_type": "code",
      "source": [
        "bc_s1_ft, D_s1_ft, E_s1_ft, clusters_s1_ft = cluster_embeddings_binary(ft_gs1_embeddings, ft_s1_embeddings, aff_model=aff)\n",
        "bc_s1_ft, D_s1_ft, E_s1_ft, clusters_s1_ft"
      ],
      "metadata": {
        "colab": {
          "base_uri": "https://localhost:8080/"
        },
        "id": "gnQkmVcHry2r",
        "outputId": "93777e12-7d7a-40f9-ff37-ad45b38f4b02"
      },
      "execution_count": 29,
      "outputs": [
        {
          "output_type": "execute_result",
          "data": {
            "text/plain": [
              "(1,\n",
              " [6, 3, 6, 4, 2, 1, 4, 2, 1, 1, 0],\n",
              " [10, 7, 0, 3, 5, 0, 0, 1, 2, 0, 2],\n",
              " [['cr',\n",
              "   'cr',\n",
              "   'cr',\n",
              "   'cr',\n",
              "   'cr',\n",
              "   'cr',\n",
              "   'cf',\n",
              "   'cf',\n",
              "   'cf',\n",
              "   'cf',\n",
              "   'cf',\n",
              "   'cf',\n",
              "   'cf',\n",
              "   'cf',\n",
              "   'cf',\n",
              "   'cf'],\n",
              "  ['cr', 'cr', 'cr', 'cf', 'cf', 'cf', 'cf', 'cf', 'cf', 'cf'],\n",
              "  ['cr', 'cr', 'cr', 'cr', 'cr', 'cr'],\n",
              "  ['cr', 'cr', 'cr', 'cr', 'cf', 'cf', 'cf'],\n",
              "  ['cr', 'cr', 'cf', 'cf', 'cf', 'cf', 'cf'],\n",
              "  ['cr'],\n",
              "  ['cr', 'cr', 'cr', 'cr'],\n",
              "  ['cr', 'cr', 'cf'],\n",
              "  ['cr', 'cf', 'cf'],\n",
              "  ['cr'],\n",
              "  ['cf', 'cf']])"
            ]
          },
          "metadata": {},
          "execution_count": 29
        }
      ]
    },
    {
      "cell_type": "markdown",
      "source": [
        "(1,\n",
        " [6, 3, 6, 4, 2, 1, 4, 2, 1, 1, 0],\n",
        " [10, 7, 0, 3, 5, 0, 0, 1, 2, 0, 2],\n",
        " [['cr',\n",
        "   'cr',\n",
        "   'cr',\n",
        "   'cr',\n",
        "   'cr',\n",
        "   'cr',\n",
        "   'cf',\n",
        "   'cf',\n",
        "   'cf',\n",
        "   'cf',\n",
        "   'cf',\n",
        "   'cf',\n",
        "   'cf',\n",
        "   'cf',\n",
        "   'cf',\n",
        "   'cf'],\n",
        "  ['cr', 'cr', 'cr', 'cf', 'cf', 'cf', 'cf', 'cf', 'cf', 'cf'],\n",
        "  ['cr', 'cr', 'cr', 'cr', 'cr', 'cr'],\n",
        "  ['cr', 'cr', 'cr', 'cr', 'cf', 'cf', 'cf'],\n",
        "  ['cr', 'cr', 'cf', 'cf', 'cf', 'cf', 'cf'],\n",
        "  ['cr'],\n",
        "  ['cr', 'cr', 'cr', 'cr'],\n",
        "  ['cr', 'cr', 'cf'],\n",
        "  ['cr', 'cf', 'cf'],\n",
        "  ['cr'],\n",
        "  ['cf', 'cf']])"
      ],
      "metadata": {
        "id": "FlR9qKl3s_5o"
      }
    },
    {
      "cell_type": "code",
      "source": [
        "bc_s2_ft, D_s2_ft, E_s2_ft, clusters_s2_ft = cluster_embeddings_binary(ft_gs2_embeddings, ft_s2_embeddings, aff_model=aff)\n",
        "bc_s2_ft, D_s2_ft, E_s2_ft, clusters_s2_ft"
      ],
      "metadata": {
        "colab": {
          "base_uri": "https://localhost:8080/"
        },
        "id": "GkFGOcKasX9t",
        "outputId": "d3f27caf-ec81-4c59-9051-34c914ebf3d2"
      },
      "execution_count": 30,
      "outputs": [
        {
          "output_type": "execute_result",
          "data": {
            "text/plain": [
              "(1,\n",
              " [1, 5, 4, 4, 4, 10, 2, 0],\n",
              " [3, 0, 2, 5, 12, 6, 1, 1],\n",
              " [['cr', 'cf', 'cf', 'cf'],\n",
              "  ['cr', 'cr', 'cr', 'cr', 'cr'],\n",
              "  ['cr', 'cr', 'cr', 'cr', 'cf', 'cf'],\n",
              "  ['cr', 'cr', 'cr', 'cr', 'cf', 'cf', 'cf', 'cf', 'cf'],\n",
              "  ['cr',\n",
              "   'cr',\n",
              "   'cr',\n",
              "   'cr',\n",
              "   'cf',\n",
              "   'cf',\n",
              "   'cf',\n",
              "   'cf',\n",
              "   'cf',\n",
              "   'cf',\n",
              "   'cf',\n",
              "   'cf',\n",
              "   'cf',\n",
              "   'cf',\n",
              "   'cf',\n",
              "   'cf'],\n",
              "  ['cr',\n",
              "   'cr',\n",
              "   'cr',\n",
              "   'cr',\n",
              "   'cr',\n",
              "   'cr',\n",
              "   'cr',\n",
              "   'cr',\n",
              "   'cr',\n",
              "   'cr',\n",
              "   'cf',\n",
              "   'cf',\n",
              "   'cf',\n",
              "   'cf',\n",
              "   'cf',\n",
              "   'cf'],\n",
              "  ['cr', 'cr', 'cf'],\n",
              "  ['cf']])"
            ]
          },
          "metadata": {},
          "execution_count": 30
        }
      ]
    },
    {
      "cell_type": "code",
      "source": [
        "bc_s3_ft, D_s3_ft, E_s3_ft, clusters_s3_ft = cluster_embeddings_binary(ft_gs3_embeddings, ft_s3_embeddings, aff_model=aff)\n",
        "bc_s3_ft, D_s3_ft, E_s3_ft, clusters_s3_ft"
      ],
      "metadata": {
        "colab": {
          "base_uri": "https://localhost:8080/"
        },
        "id": "FKdLBK3UtcB6",
        "outputId": "041ec623-52d8-4c92-c87f-05ed57e0f305"
      },
      "execution_count": 31,
      "outputs": [
        {
          "output_type": "execute_result",
          "data": {
            "text/plain": [
              "(1,\n",
              " [7, 3, 3, 5, 6, 4, 1, 1],\n",
              " [5, 0, 8, 10, 1, 3, 0, 3],\n",
              " [['cr', 'cr', 'cr', 'cr', 'cr', 'cr', 'cr', 'cf', 'cf', 'cf', 'cf', 'cf'],\n",
              "  ['cr', 'cr', 'cr'],\n",
              "  ['cr', 'cr', 'cr', 'cf', 'cf', 'cf', 'cf', 'cf', 'cf', 'cf', 'cf'],\n",
              "  ['cr',\n",
              "   'cr',\n",
              "   'cr',\n",
              "   'cr',\n",
              "   'cr',\n",
              "   'cf',\n",
              "   'cf',\n",
              "   'cf',\n",
              "   'cf',\n",
              "   'cf',\n",
              "   'cf',\n",
              "   'cf',\n",
              "   'cf',\n",
              "   'cf',\n",
              "   'cf'],\n",
              "  ['cr', 'cr', 'cr', 'cr', 'cr', 'cr', 'cf'],\n",
              "  ['cr', 'cr', 'cr', 'cr', 'cf', 'cf', 'cf'],\n",
              "  ['cr'],\n",
              "  ['cr', 'cf', 'cf', 'cf']])"
            ]
          },
          "metadata": {},
          "execution_count": 31
        }
      ]
    },
    {
      "cell_type": "code",
      "source": [
        "bc_s4_ft, D_s4_ft, E_s4_ft, clusters_s4_ft = cluster_embeddings_binary(ft_gs4_embeddings, ft_s4_embeddings, aff_model=aff)\n",
        "bc_s4_ft, D_s4_ft, E_s4_ft, clusters_s4_ft"
      ],
      "metadata": {
        "colab": {
          "base_uri": "https://localhost:8080/"
        },
        "id": "juEDEGj8ty-G",
        "outputId": "377d5e66-2d58-4e92-fd80-c44d3ae4d6cc"
      },
      "execution_count": 32,
      "outputs": [
        {
          "output_type": "execute_result",
          "data": {
            "text/plain": [
              "(1,\n",
              " [4, 5, 2, 7, 3, 4, 4, 1],\n",
              " [8, 0, 0, 3, 3, 0, 14, 2],\n",
              " [['cr', 'cr', 'cr', 'cr', 'cf', 'cf', 'cf', 'cf', 'cf', 'cf', 'cf', 'cf'],\n",
              "  ['cr', 'cr', 'cr', 'cr', 'cr'],\n",
              "  ['cr', 'cr'],\n",
              "  ['cr', 'cr', 'cr', 'cr', 'cr', 'cr', 'cr', 'cf', 'cf', 'cf'],\n",
              "  ['cr', 'cr', 'cr', 'cf', 'cf', 'cf'],\n",
              "  ['cr', 'cr', 'cr', 'cr'],\n",
              "  ['cr',\n",
              "   'cr',\n",
              "   'cr',\n",
              "   'cr',\n",
              "   'cf',\n",
              "   'cf',\n",
              "   'cf',\n",
              "   'cf',\n",
              "   'cf',\n",
              "   'cf',\n",
              "   'cf',\n",
              "   'cf',\n",
              "   'cf',\n",
              "   'cf',\n",
              "   'cf',\n",
              "   'cf',\n",
              "   'cf',\n",
              "   'cf'],\n",
              "  ['cr', 'cf', 'cf']])"
            ]
          },
          "metadata": {},
          "execution_count": 32
        }
      ]
    },
    {
      "cell_type": "markdown",
      "source": [
        "(1,\n",
        " [4, 5, 2, 7, 3, 4, 4, 1],\n",
        " [8, 0, 0, 3, 3, 0, 14, 2],\n",
        " [['cr', 'cr', 'cr', 'cr', 'cf', 'cf', 'cf', 'cf', 'cf', 'cf', 'cf', 'cf'],\n",
        "  ['cr', 'cr', 'cr', 'cr', 'cr'],\n",
        "  ['cr', 'cr'],\n",
        "  ['cr', 'cr', 'cr', 'cr', 'cr', 'cr', 'cr', 'cf', 'cf', 'cf'],\n",
        "  ['cr', 'cr', 'cr', 'cf', 'cf', 'cf'],\n",
        "  ['cr', 'cr', 'cr', 'cr'],\n",
        "  ['cr',\n",
        "   'cr',\n",
        "   'cr',\n",
        "   'cr',\n",
        "   'cf',\n",
        "   'cf',\n",
        "   'cf',\n",
        "   'cf',\n",
        "   'cf',\n",
        "   'cf',\n",
        "   'cf',\n",
        "   'cf',\n",
        "   'cf',\n",
        "   'cf',\n",
        "   'cf',\n",
        "   'cf',\n",
        "   'cf',\n",
        "   'cf'],\n",
        "  ['cr', 'cf', 'cf']])"
      ],
      "metadata": {
        "id": "7kSdM3szt6AB"
      }
    },
    {
      "cell_type": "markdown",
      "source": [
        "## Cluster and graded LSC (JSD)"
      ],
      "metadata": {
        "id": "TtnElnuUt4xV"
      }
    },
    {
      "cell_type": "code",
      "source": [
        "d_ft_jsd, _, _  = cluster_and_compare_jsd(aff, ft_tg1_embeddings, ft_tg2_embeddings)\n",
        "d_ft_jsd\n",
        "# np.float64(0.3338064898588424)"
      ],
      "metadata": {
        "colab": {
          "base_uri": "https://localhost:8080/"
        },
        "id": "uEkPSxXOfIA1",
        "outputId": "597ddaf0-6574-4939-cf13-6dbd5417169f"
      },
      "execution_count": 37,
      "outputs": [
        {
          "output_type": "stream",
          "name": "stdout",
          "text": [
            "counts1 [4 4 7 1 6 4 1 1 2]\n",
            "counts2 [3 5 3 0 1 4 2 4 8]\n"
          ]
        },
        {
          "output_type": "execute_result",
          "data": {
            "text/plain": [
              "np.float64(0.3338064898588424)"
            ]
          },
          "metadata": {},
          "execution_count": 37
        }
      ]
    },
    {
      "cell_type": "code",
      "source": [
        "ft_s1_jsd, _, _  = cluster_and_compare_jsd(aff, ft_gs1_embeddings, ft_s1_embeddings)\n",
        "ft_s1_jsd\n",
        "# np.float64(0.44921871324465645"
      ],
      "metadata": {
        "colab": {
          "base_uri": "https://localhost:8080/"
        },
        "id": "iuqN_QPqtGKd",
        "outputId": "6c62f788-4c8d-4af2-b10b-7883db5974fb"
      },
      "execution_count": 38,
      "outputs": [
        {
          "output_type": "stream",
          "name": "stdout",
          "text": [
            "counts1 [3 1 2 4 1 6 0 4 2 6 1]\n",
            "counts2 [ 7  0  1  0  0  0  2  3  5 10  2]\n"
          ]
        },
        {
          "output_type": "execute_result",
          "data": {
            "text/plain": [
              "np.float64(0.44921871324465645)"
            ]
          },
          "metadata": {},
          "execution_count": 38
        }
      ]
    },
    {
      "cell_type": "code",
      "source": [
        "ft_s2_jsd, _, _  = cluster_and_compare_jsd(aff, ft_gs2_embeddings, ft_s2_embeddings)\n",
        "ft_s2_jsd\n",
        "# np.float64(0.3616129244248057"
      ],
      "metadata": {
        "colab": {
          "base_uri": "https://localhost:8080/"
        },
        "id": "SM_gxztLtFVW",
        "outputId": "97205ef5-bd33-411b-c77c-ff9e90ef5abe"
      },
      "execution_count": 39,
      "outputs": [
        {
          "output_type": "stream",
          "name": "stdout",
          "text": [
            "counts1 [ 4  5  2  0  4  4  1 10]\n",
            "counts2 [ 2  0  1  1 12  5  3  6]\n"
          ]
        },
        {
          "output_type": "execute_result",
          "data": {
            "text/plain": [
              "np.float64(0.3616129244248057)"
            ]
          },
          "metadata": {},
          "execution_count": 39
        }
      ]
    },
    {
      "cell_type": "code",
      "source": [
        "ft_s3_jsd, _, _= cluster_and_compare_jsd(aff, ft_gs3_embeddings, ft_s3_embeddings)\n",
        "ft_s3_jsd\n",
        "# np.float64(0.3546079707822841"
      ],
      "metadata": {
        "colab": {
          "base_uri": "https://localhost:8080/"
        },
        "id": "lJG-MwQztuMt",
        "outputId": "af1ca095-5d8e-4996-d27d-8c6e544e6b9f"
      },
      "execution_count": 40,
      "outputs": [
        {
          "output_type": "stream",
          "name": "stdout",
          "text": [
            "counts1 [6 3 7 1 1 5 3 4]\n",
            "counts2 [ 1  0  5  0  3 10  8  3]\n"
          ]
        },
        {
          "output_type": "execute_result",
          "data": {
            "text/plain": [
              "np.float64(0.3546079707822841)"
            ]
          },
          "metadata": {},
          "execution_count": 40
        }
      ]
    },
    {
      "cell_type": "code",
      "source": [
        "ft_s4_jsd, _, _ = cluster_and_compare_jsd(aff, ft_gs4_embeddings, ft_s4_embeddings)\n",
        "ft_s4_jsd\n",
        "# np.float64(0.45164293828621116"
      ],
      "metadata": {
        "colab": {
          "base_uri": "https://localhost:8080/"
        },
        "id": "WRtr7GmSt42m",
        "outputId": "88442e4e-d18a-4b85-d862-a4073bc5f533"
      },
      "execution_count": 41,
      "outputs": [
        {
          "output_type": "stream",
          "name": "stdout",
          "text": [
            "counts1 [5 2 4 7 1 4 4 3]\n",
            "counts2 [ 0  0  0  3  2  8 14  3]\n"
          ]
        },
        {
          "output_type": "execute_result",
          "data": {
            "text/plain": [
              "np.float64(0.45164293828621116)"
            ]
          },
          "metadata": {},
          "execution_count": 41
        }
      ]
    },
    {
      "cell_type": "markdown",
      "source": [
        "## APD"
      ],
      "metadata": {
        "id": "-3OT-8xyu1Dq"
      }
    },
    {
      "cell_type": "code",
      "source": [
        "# Fine-tuned embeddings\n",
        "print('dia', compute_apd(ft_tg1_embeddings, ft_tg2_embeddings))\n",
        "print('s1', compute_apd(ft_gs1_embeddings, ft_s1_embeddings))\n",
        "print('s2', compute_apd(ft_gs2_embeddings, ft_s2_embeddings))\n",
        "print('s3', compute_apd(ft_gs3_embeddings, ft_s3_embeddings))\n",
        "print('s4', compute_apd(ft_gs4_embeddings, ft_s4_embeddings))"
      ],
      "metadata": {
        "colab": {
          "base_uri": "https://localhost:8080/"
        },
        "id": "oyxvLHcDCTf3",
        "outputId": "c3f96dd8-4f0b-49b4-a1ff-9cc56ebf007c"
      },
      "execution_count": 33,
      "outputs": [
        {
          "output_type": "stream",
          "name": "stdout",
          "text": [
            "dia 0.2342694398817323\n",
            "s1 0.2447261262153447\n",
            "s2 0.2526628800535178\n",
            "s3 0.24530404686352136\n",
            "s4 0.25772409003511876\n"
          ]
        }
      ]
    },
    {
      "cell_type": "markdown",
      "source": [
        "# Ranks"
      ],
      "metadata": {
        "id": "5MSOYZs94xCY"
      }
    },
    {
      "cell_type": "code",
      "source": [
        "# pt_d_tuple = ('pt_dia', pt_d_jsd)\n",
        "pt_s1_tuple = ('pt_s1', pt_s1_jsd)\n",
        "pt_s2_tuple = ('pt_s2', pt_s2_jsd)\n",
        "pt_s3_tuple = ('pt_s3', pt_s3_jsd)\n",
        "pt_s4_tuple = ('pt_s4', pt_s4_jsd)\n",
        "\n",
        "pt_tuples = [pt_s1_tuple, pt_s2_tuple, pt_s3_tuple, pt_s4_tuple]\n",
        "pt_tuples"
      ],
      "metadata": {
        "colab": {
          "base_uri": "https://localhost:8080/"
        },
        "id": "sAnecBdt0f3k",
        "outputId": "b9d35470-79e0-42c0-905e-7ceba8fa622a"
      },
      "execution_count": 34,
      "outputs": [
        {
          "output_type": "execute_result",
          "data": {
            "text/plain": [
              "[('pt_s1', np.float64(0.5024905442575683)),\n",
              " ('pt_s2', np.float64(0.29100035275770453)),\n",
              " ('pt_s3', np.float64(0.31448108089053484)),\n",
              " ('pt_s4', np.float64(0.39782780640754384))]"
            ]
          },
          "metadata": {},
          "execution_count": 34
        }
      ]
    },
    {
      "cell_type": "code",
      "source": [
        "import operator\n",
        "\n",
        "pt_ranked = sorted(pt_tuples, key=operator.itemgetter(1), reverse=True)\n",
        "\n",
        "for tup in pt_ranked:\n",
        "    print(tup)"
      ],
      "metadata": {
        "colab": {
          "base_uri": "https://localhost:8080/"
        },
        "id": "Q5WDvO9z6fP9",
        "outputId": "7fc2acaf-999d-4ca4-a7c6-ee897774e841"
      },
      "execution_count": 35,
      "outputs": [
        {
          "output_type": "stream",
          "name": "stdout",
          "text": [
            "('pt_s1', np.float64(0.5024905442575683))\n",
            "('pt_s4', np.float64(0.39782780640754384))\n",
            "('pt_s3', np.float64(0.31448108089053484))\n",
            "('pt_s2', np.float64(0.29100035275770453))\n"
          ]
        }
      ]
    },
    {
      "cell_type": "code",
      "source": [
        "ft_s1_tuple = ('ft_s1', ft_s1_jsd)\n",
        "ft_s2_tuple = ('ft_s2', ft_s2_jsd)\n",
        "ft_s3_tuple = ('ft_s3', ft_s3_jsd)\n",
        "ft_s4_tuple = ('ft_s4', ft_s4_jsd)\n",
        "\n",
        "ft_tuples = [ft_s1_tuple, ft_s2_tuple, ft_s3_tuple, ft_s4_tuple]\n",
        "ft_tuples"
      ],
      "metadata": {
        "id": "52y4Euqp7Aw4",
        "colab": {
          "base_uri": "https://localhost:8080/"
        },
        "outputId": "0c038ca2-0061-4d1a-bab5-2f19bb7e08b7"
      },
      "execution_count": 44,
      "outputs": [
        {
          "output_type": "execute_result",
          "data": {
            "text/plain": [
              "[('ft_s1', np.float64(0.44921871324465645)),\n",
              " ('ft_s2', np.float64(0.3616129244248057)),\n",
              " ('ft_s3', np.float64(0.3546079707822841)),\n",
              " ('ft_s4', np.float64(0.45164293828621116))]"
            ]
          },
          "metadata": {},
          "execution_count": 44
        }
      ]
    },
    {
      "cell_type": "code",
      "source": [
        "import operator\n",
        "\n",
        "ft_ranked = sorted(ft_tuples, key=operator.itemgetter(1), reverse=True)\n",
        "\n",
        "for tup in ft_ranked:\n",
        "    print(tup)"
      ],
      "metadata": {
        "colab": {
          "base_uri": "https://localhost:8080/"
        },
        "id": "h0Dw6pK67cUx",
        "outputId": "ac422e9c-ab35-4600-f1c6-3b0de92e294e"
      },
      "execution_count": 43,
      "outputs": [
        {
          "output_type": "stream",
          "name": "stdout",
          "text": [
            "('ft_s4', np.float64(0.45164293828621116))\n",
            "('ft_s1', np.float64(0.44921871324465645))\n",
            "('ft_s2', np.float64(0.3616129244248057))\n",
            "('ft_s3', np.float64(0.3546079707822841))\n"
          ]
        }
      ]
    }
  ],
  "metadata": {
    "accelerator": "GPU",
    "colab": {
      "collapsed_sections": [
        "MEr8aesu2OUf",
        "f9KlqsKp4KNx",
        "fjMy_tTHNsuQ",
        "p_jHwwFKWkoA"
      ],
      "gpuType": "T4",
      "provenance": [],
      "toc_visible": true
    },
    "kernelspec": {
      "display_name": "Python 3",
      "name": "python3"
    },
    "language_info": {
      "name": "python"
    },
    "widgets": {
      "application/vnd.jupyter.widget-state+json": {
        "19589ec1ac194624b8b44d9b90d6fcfe": {
          "model_module": "@jupyter-widgets/controls",
          "model_name": "HBoxModel",
          "model_module_version": "1.5.0",
          "state": {
            "_dom_classes": [],
            "_model_module": "@jupyter-widgets/controls",
            "_model_module_version": "1.5.0",
            "_model_name": "HBoxModel",
            "_view_count": null,
            "_view_module": "@jupyter-widgets/controls",
            "_view_module_version": "1.5.0",
            "_view_name": "HBoxView",
            "box_style": "",
            "children": [
              "IPY_MODEL_be4008e281794532b09a6fb6b45aa483",
              "IPY_MODEL_25b4e0eeec5147ea9ad64eef4a5082c2",
              "IPY_MODEL_cd45de04131a471c835738f12bcf1779"
            ],
            "layout": "IPY_MODEL_4eb950bd698f4be4983df399d2dd4973"
          }
        },
        "be4008e281794532b09a6fb6b45aa483": {
          "model_module": "@jupyter-widgets/controls",
          "model_name": "HTMLModel",
          "model_module_version": "1.5.0",
          "state": {
            "_dom_classes": [],
            "_model_module": "@jupyter-widgets/controls",
            "_model_module_version": "1.5.0",
            "_model_name": "HTMLModel",
            "_view_count": null,
            "_view_module": "@jupyter-widgets/controls",
            "_view_module_version": "1.5.0",
            "_view_name": "HTMLView",
            "description": "",
            "description_tooltip": null,
            "layout": "IPY_MODEL_d0c44acc64d3496bba3e796d0268409b",
            "placeholder": "​",
            "style": "IPY_MODEL_d1f0f945afa545a6be23ac9a8ada9529",
            "value": "tokenizer_config.json: 100%"
          }
        },
        "25b4e0eeec5147ea9ad64eef4a5082c2": {
          "model_module": "@jupyter-widgets/controls",
          "model_name": "FloatProgressModel",
          "model_module_version": "1.5.0",
          "state": {
            "_dom_classes": [],
            "_model_module": "@jupyter-widgets/controls",
            "_model_module_version": "1.5.0",
            "_model_name": "FloatProgressModel",
            "_view_count": null,
            "_view_module": "@jupyter-widgets/controls",
            "_view_module_version": "1.5.0",
            "_view_name": "ProgressView",
            "bar_style": "success",
            "description": "",
            "description_tooltip": null,
            "layout": "IPY_MODEL_2267eea6a16d450ab6949d77200c5601",
            "max": 363,
            "min": 0,
            "orientation": "horizontal",
            "style": "IPY_MODEL_bc0aee2f8a5444c1b09a11f902af04d9",
            "value": 363
          }
        },
        "cd45de04131a471c835738f12bcf1779": {
          "model_module": "@jupyter-widgets/controls",
          "model_name": "HTMLModel",
          "model_module_version": "1.5.0",
          "state": {
            "_dom_classes": [],
            "_model_module": "@jupyter-widgets/controls",
            "_model_module_version": "1.5.0",
            "_model_name": "HTMLModel",
            "_view_count": null,
            "_view_module": "@jupyter-widgets/controls",
            "_view_module_version": "1.5.0",
            "_view_name": "HTMLView",
            "description": "",
            "description_tooltip": null,
            "layout": "IPY_MODEL_4c9cf9c046954ccca288b00ad7db84fa",
            "placeholder": "​",
            "style": "IPY_MODEL_07bc4a4419fd4839a0c058bc3832f2a1",
            "value": " 363/363 [00:00&lt;00:00, 37.1kB/s]"
          }
        },
        "4eb950bd698f4be4983df399d2dd4973": {
          "model_module": "@jupyter-widgets/base",
          "model_name": "LayoutModel",
          "model_module_version": "1.2.0",
          "state": {
            "_model_module": "@jupyter-widgets/base",
            "_model_module_version": "1.2.0",
            "_model_name": "LayoutModel",
            "_view_count": null,
            "_view_module": "@jupyter-widgets/base",
            "_view_module_version": "1.2.0",
            "_view_name": "LayoutView",
            "align_content": null,
            "align_items": null,
            "align_self": null,
            "border": null,
            "bottom": null,
            "display": null,
            "flex": null,
            "flex_flow": null,
            "grid_area": null,
            "grid_auto_columns": null,
            "grid_auto_flow": null,
            "grid_auto_rows": null,
            "grid_column": null,
            "grid_gap": null,
            "grid_row": null,
            "grid_template_areas": null,
            "grid_template_columns": null,
            "grid_template_rows": null,
            "height": null,
            "justify_content": null,
            "justify_items": null,
            "left": null,
            "margin": null,
            "max_height": null,
            "max_width": null,
            "min_height": null,
            "min_width": null,
            "object_fit": null,
            "object_position": null,
            "order": null,
            "overflow": null,
            "overflow_x": null,
            "overflow_y": null,
            "padding": null,
            "right": null,
            "top": null,
            "visibility": null,
            "width": null
          }
        },
        "d0c44acc64d3496bba3e796d0268409b": {
          "model_module": "@jupyter-widgets/base",
          "model_name": "LayoutModel",
          "model_module_version": "1.2.0",
          "state": {
            "_model_module": "@jupyter-widgets/base",
            "_model_module_version": "1.2.0",
            "_model_name": "LayoutModel",
            "_view_count": null,
            "_view_module": "@jupyter-widgets/base",
            "_view_module_version": "1.2.0",
            "_view_name": "LayoutView",
            "align_content": null,
            "align_items": null,
            "align_self": null,
            "border": null,
            "bottom": null,
            "display": null,
            "flex": null,
            "flex_flow": null,
            "grid_area": null,
            "grid_auto_columns": null,
            "grid_auto_flow": null,
            "grid_auto_rows": null,
            "grid_column": null,
            "grid_gap": null,
            "grid_row": null,
            "grid_template_areas": null,
            "grid_template_columns": null,
            "grid_template_rows": null,
            "height": null,
            "justify_content": null,
            "justify_items": null,
            "left": null,
            "margin": null,
            "max_height": null,
            "max_width": null,
            "min_height": null,
            "min_width": null,
            "object_fit": null,
            "object_position": null,
            "order": null,
            "overflow": null,
            "overflow_x": null,
            "overflow_y": null,
            "padding": null,
            "right": null,
            "top": null,
            "visibility": null,
            "width": null
          }
        },
        "d1f0f945afa545a6be23ac9a8ada9529": {
          "model_module": "@jupyter-widgets/controls",
          "model_name": "DescriptionStyleModel",
          "model_module_version": "1.5.0",
          "state": {
            "_model_module": "@jupyter-widgets/controls",
            "_model_module_version": "1.5.0",
            "_model_name": "DescriptionStyleModel",
            "_view_count": null,
            "_view_module": "@jupyter-widgets/base",
            "_view_module_version": "1.2.0",
            "_view_name": "StyleView",
            "description_width": ""
          }
        },
        "2267eea6a16d450ab6949d77200c5601": {
          "model_module": "@jupyter-widgets/base",
          "model_name": "LayoutModel",
          "model_module_version": "1.2.0",
          "state": {
            "_model_module": "@jupyter-widgets/base",
            "_model_module_version": "1.2.0",
            "_model_name": "LayoutModel",
            "_view_count": null,
            "_view_module": "@jupyter-widgets/base",
            "_view_module_version": "1.2.0",
            "_view_name": "LayoutView",
            "align_content": null,
            "align_items": null,
            "align_self": null,
            "border": null,
            "bottom": null,
            "display": null,
            "flex": null,
            "flex_flow": null,
            "grid_area": null,
            "grid_auto_columns": null,
            "grid_auto_flow": null,
            "grid_auto_rows": null,
            "grid_column": null,
            "grid_gap": null,
            "grid_row": null,
            "grid_template_areas": null,
            "grid_template_columns": null,
            "grid_template_rows": null,
            "height": null,
            "justify_content": null,
            "justify_items": null,
            "left": null,
            "margin": null,
            "max_height": null,
            "max_width": null,
            "min_height": null,
            "min_width": null,
            "object_fit": null,
            "object_position": null,
            "order": null,
            "overflow": null,
            "overflow_x": null,
            "overflow_y": null,
            "padding": null,
            "right": null,
            "top": null,
            "visibility": null,
            "width": null
          }
        },
        "bc0aee2f8a5444c1b09a11f902af04d9": {
          "model_module": "@jupyter-widgets/controls",
          "model_name": "ProgressStyleModel",
          "model_module_version": "1.5.0",
          "state": {
            "_model_module": "@jupyter-widgets/controls",
            "_model_module_version": "1.5.0",
            "_model_name": "ProgressStyleModel",
            "_view_count": null,
            "_view_module": "@jupyter-widgets/base",
            "_view_module_version": "1.2.0",
            "_view_name": "StyleView",
            "bar_color": null,
            "description_width": ""
          }
        },
        "4c9cf9c046954ccca288b00ad7db84fa": {
          "model_module": "@jupyter-widgets/base",
          "model_name": "LayoutModel",
          "model_module_version": "1.2.0",
          "state": {
            "_model_module": "@jupyter-widgets/base",
            "_model_module_version": "1.2.0",
            "_model_name": "LayoutModel",
            "_view_count": null,
            "_view_module": "@jupyter-widgets/base",
            "_view_module_version": "1.2.0",
            "_view_name": "LayoutView",
            "align_content": null,
            "align_items": null,
            "align_self": null,
            "border": null,
            "bottom": null,
            "display": null,
            "flex": null,
            "flex_flow": null,
            "grid_area": null,
            "grid_auto_columns": null,
            "grid_auto_flow": null,
            "grid_auto_rows": null,
            "grid_column": null,
            "grid_gap": null,
            "grid_row": null,
            "grid_template_areas": null,
            "grid_template_columns": null,
            "grid_template_rows": null,
            "height": null,
            "justify_content": null,
            "justify_items": null,
            "left": null,
            "margin": null,
            "max_height": null,
            "max_width": null,
            "min_height": null,
            "min_width": null,
            "object_fit": null,
            "object_position": null,
            "order": null,
            "overflow": null,
            "overflow_x": null,
            "overflow_y": null,
            "padding": null,
            "right": null,
            "top": null,
            "visibility": null,
            "width": null
          }
        },
        "07bc4a4419fd4839a0c058bc3832f2a1": {
          "model_module": "@jupyter-widgets/controls",
          "model_name": "DescriptionStyleModel",
          "model_module_version": "1.5.0",
          "state": {
            "_model_module": "@jupyter-widgets/controls",
            "_model_module_version": "1.5.0",
            "_model_name": "DescriptionStyleModel",
            "_view_count": null,
            "_view_module": "@jupyter-widgets/base",
            "_view_module_version": "1.2.0",
            "_view_name": "StyleView",
            "description_width": ""
          }
        },
        "6942826f4b3049999d4f135149626039": {
          "model_module": "@jupyter-widgets/controls",
          "model_name": "HBoxModel",
          "model_module_version": "1.5.0",
          "state": {
            "_dom_classes": [],
            "_model_module": "@jupyter-widgets/controls",
            "_model_module_version": "1.5.0",
            "_model_name": "HBoxModel",
            "_view_count": null,
            "_view_module": "@jupyter-widgets/controls",
            "_view_module_version": "1.5.0",
            "_view_name": "HBoxView",
            "box_style": "",
            "children": [
              "IPY_MODEL_1c8a967ddb5342269723636ef49caeb3",
              "IPY_MODEL_666dc562999841f1baa265be9a345683",
              "IPY_MODEL_060e1e40a40a4814a97dbaf35c5410de"
            ],
            "layout": "IPY_MODEL_ec97c07f5e764a1091e5812d10b947cd"
          }
        },
        "1c8a967ddb5342269723636ef49caeb3": {
          "model_module": "@jupyter-widgets/controls",
          "model_name": "HTMLModel",
          "model_module_version": "1.5.0",
          "state": {
            "_dom_classes": [],
            "_model_module": "@jupyter-widgets/controls",
            "_model_module_version": "1.5.0",
            "_model_name": "HTMLModel",
            "_view_count": null,
            "_view_module": "@jupyter-widgets/controls",
            "_view_module_version": "1.5.0",
            "_view_name": "HTMLView",
            "description": "",
            "description_tooltip": null,
            "layout": "IPY_MODEL_7a2cd0aeac0b480aa104ed295755a08e",
            "placeholder": "​",
            "style": "IPY_MODEL_0c9f31834f5b4f42b9fb6feb9e285499",
            "value": "config.json: 100%"
          }
        },
        "666dc562999841f1baa265be9a345683": {
          "model_module": "@jupyter-widgets/controls",
          "model_name": "FloatProgressModel",
          "model_module_version": "1.5.0",
          "state": {
            "_dom_classes": [],
            "_model_module": "@jupyter-widgets/controls",
            "_model_module_version": "1.5.0",
            "_model_name": "FloatProgressModel",
            "_view_count": null,
            "_view_module": "@jupyter-widgets/controls",
            "_view_module_version": "1.5.0",
            "_view_name": "ProgressView",
            "bar_style": "success",
            "description": "",
            "description_tooltip": null,
            "layout": "IPY_MODEL_3ad05c22e72548f392ba3f458cd8e469",
            "max": 746,
            "min": 0,
            "orientation": "horizontal",
            "style": "IPY_MODEL_ca3900f7754a4d4b99992cd11a522c69",
            "value": 746
          }
        },
        "060e1e40a40a4814a97dbaf35c5410de": {
          "model_module": "@jupyter-widgets/controls",
          "model_name": "HTMLModel",
          "model_module_version": "1.5.0",
          "state": {
            "_dom_classes": [],
            "_model_module": "@jupyter-widgets/controls",
            "_model_module_version": "1.5.0",
            "_model_name": "HTMLModel",
            "_view_count": null,
            "_view_module": "@jupyter-widgets/controls",
            "_view_module_version": "1.5.0",
            "_view_name": "HTMLView",
            "description": "",
            "description_tooltip": null,
            "layout": "IPY_MODEL_91a97bf286734a9c92e98b9a0f050085",
            "placeholder": "​",
            "style": "IPY_MODEL_9f771b7d0f4f4f35bdd47a0156ada9e8",
            "value": " 746/746 [00:00&lt;00:00, 70.1kB/s]"
          }
        },
        "ec97c07f5e764a1091e5812d10b947cd": {
          "model_module": "@jupyter-widgets/base",
          "model_name": "LayoutModel",
          "model_module_version": "1.2.0",
          "state": {
            "_model_module": "@jupyter-widgets/base",
            "_model_module_version": "1.2.0",
            "_model_name": "LayoutModel",
            "_view_count": null,
            "_view_module": "@jupyter-widgets/base",
            "_view_module_version": "1.2.0",
            "_view_name": "LayoutView",
            "align_content": null,
            "align_items": null,
            "align_self": null,
            "border": null,
            "bottom": null,
            "display": null,
            "flex": null,
            "flex_flow": null,
            "grid_area": null,
            "grid_auto_columns": null,
            "grid_auto_flow": null,
            "grid_auto_rows": null,
            "grid_column": null,
            "grid_gap": null,
            "grid_row": null,
            "grid_template_areas": null,
            "grid_template_columns": null,
            "grid_template_rows": null,
            "height": null,
            "justify_content": null,
            "justify_items": null,
            "left": null,
            "margin": null,
            "max_height": null,
            "max_width": null,
            "min_height": null,
            "min_width": null,
            "object_fit": null,
            "object_position": null,
            "order": null,
            "overflow": null,
            "overflow_x": null,
            "overflow_y": null,
            "padding": null,
            "right": null,
            "top": null,
            "visibility": null,
            "width": null
          }
        },
        "7a2cd0aeac0b480aa104ed295755a08e": {
          "model_module": "@jupyter-widgets/base",
          "model_name": "LayoutModel",
          "model_module_version": "1.2.0",
          "state": {
            "_model_module": "@jupyter-widgets/base",
            "_model_module_version": "1.2.0",
            "_model_name": "LayoutModel",
            "_view_count": null,
            "_view_module": "@jupyter-widgets/base",
            "_view_module_version": "1.2.0",
            "_view_name": "LayoutView",
            "align_content": null,
            "align_items": null,
            "align_self": null,
            "border": null,
            "bottom": null,
            "display": null,
            "flex": null,
            "flex_flow": null,
            "grid_area": null,
            "grid_auto_columns": null,
            "grid_auto_flow": null,
            "grid_auto_rows": null,
            "grid_column": null,
            "grid_gap": null,
            "grid_row": null,
            "grid_template_areas": null,
            "grid_template_columns": null,
            "grid_template_rows": null,
            "height": null,
            "justify_content": null,
            "justify_items": null,
            "left": null,
            "margin": null,
            "max_height": null,
            "max_width": null,
            "min_height": null,
            "min_width": null,
            "object_fit": null,
            "object_position": null,
            "order": null,
            "overflow": null,
            "overflow_x": null,
            "overflow_y": null,
            "padding": null,
            "right": null,
            "top": null,
            "visibility": null,
            "width": null
          }
        },
        "0c9f31834f5b4f42b9fb6feb9e285499": {
          "model_module": "@jupyter-widgets/controls",
          "model_name": "DescriptionStyleModel",
          "model_module_version": "1.5.0",
          "state": {
            "_model_module": "@jupyter-widgets/controls",
            "_model_module_version": "1.5.0",
            "_model_name": "DescriptionStyleModel",
            "_view_count": null,
            "_view_module": "@jupyter-widgets/base",
            "_view_module_version": "1.2.0",
            "_view_name": "StyleView",
            "description_width": ""
          }
        },
        "3ad05c22e72548f392ba3f458cd8e469": {
          "model_module": "@jupyter-widgets/base",
          "model_name": "LayoutModel",
          "model_module_version": "1.2.0",
          "state": {
            "_model_module": "@jupyter-widgets/base",
            "_model_module_version": "1.2.0",
            "_model_name": "LayoutModel",
            "_view_count": null,
            "_view_module": "@jupyter-widgets/base",
            "_view_module_version": "1.2.0",
            "_view_name": "LayoutView",
            "align_content": null,
            "align_items": null,
            "align_self": null,
            "border": null,
            "bottom": null,
            "display": null,
            "flex": null,
            "flex_flow": null,
            "grid_area": null,
            "grid_auto_columns": null,
            "grid_auto_flow": null,
            "grid_auto_rows": null,
            "grid_column": null,
            "grid_gap": null,
            "grid_row": null,
            "grid_template_areas": null,
            "grid_template_columns": null,
            "grid_template_rows": null,
            "height": null,
            "justify_content": null,
            "justify_items": null,
            "left": null,
            "margin": null,
            "max_height": null,
            "max_width": null,
            "min_height": null,
            "min_width": null,
            "object_fit": null,
            "object_position": null,
            "order": null,
            "overflow": null,
            "overflow_x": null,
            "overflow_y": null,
            "padding": null,
            "right": null,
            "top": null,
            "visibility": null,
            "width": null
          }
        },
        "ca3900f7754a4d4b99992cd11a522c69": {
          "model_module": "@jupyter-widgets/controls",
          "model_name": "ProgressStyleModel",
          "model_module_version": "1.5.0",
          "state": {
            "_model_module": "@jupyter-widgets/controls",
            "_model_module_version": "1.5.0",
            "_model_name": "ProgressStyleModel",
            "_view_count": null,
            "_view_module": "@jupyter-widgets/base",
            "_view_module_version": "1.2.0",
            "_view_name": "StyleView",
            "bar_color": null,
            "description_width": ""
          }
        },
        "91a97bf286734a9c92e98b9a0f050085": {
          "model_module": "@jupyter-widgets/base",
          "model_name": "LayoutModel",
          "model_module_version": "1.2.0",
          "state": {
            "_model_module": "@jupyter-widgets/base",
            "_model_module_version": "1.2.0",
            "_model_name": "LayoutModel",
            "_view_count": null,
            "_view_module": "@jupyter-widgets/base",
            "_view_module_version": "1.2.0",
            "_view_name": "LayoutView",
            "align_content": null,
            "align_items": null,
            "align_self": null,
            "border": null,
            "bottom": null,
            "display": null,
            "flex": null,
            "flex_flow": null,
            "grid_area": null,
            "grid_auto_columns": null,
            "grid_auto_flow": null,
            "grid_auto_rows": null,
            "grid_column": null,
            "grid_gap": null,
            "grid_row": null,
            "grid_template_areas": null,
            "grid_template_columns": null,
            "grid_template_rows": null,
            "height": null,
            "justify_content": null,
            "justify_items": null,
            "left": null,
            "margin": null,
            "max_height": null,
            "max_width": null,
            "min_height": null,
            "min_width": null,
            "object_fit": null,
            "object_position": null,
            "order": null,
            "overflow": null,
            "overflow_x": null,
            "overflow_y": null,
            "padding": null,
            "right": null,
            "top": null,
            "visibility": null,
            "width": null
          }
        },
        "9f771b7d0f4f4f35bdd47a0156ada9e8": {
          "model_module": "@jupyter-widgets/controls",
          "model_name": "DescriptionStyleModel",
          "model_module_version": "1.5.0",
          "state": {
            "_model_module": "@jupyter-widgets/controls",
            "_model_module_version": "1.5.0",
            "_model_name": "DescriptionStyleModel",
            "_view_count": null,
            "_view_module": "@jupyter-widgets/base",
            "_view_module_version": "1.2.0",
            "_view_name": "StyleView",
            "description_width": ""
          }
        },
        "7c294d14552a492d88819bdb6fe663d6": {
          "model_module": "@jupyter-widgets/controls",
          "model_name": "HBoxModel",
          "model_module_version": "1.5.0",
          "state": {
            "_dom_classes": [],
            "_model_module": "@jupyter-widgets/controls",
            "_model_module_version": "1.5.0",
            "_model_name": "HBoxModel",
            "_view_count": null,
            "_view_module": "@jupyter-widgets/controls",
            "_view_module_version": "1.5.0",
            "_view_name": "HBoxView",
            "box_style": "",
            "children": [
              "IPY_MODEL_4c0ab228771948b8b317b95e186c32d9",
              "IPY_MODEL_8f522fbc51cf4afaa4b530f0f93397da",
              "IPY_MODEL_4f0a171684a54594b08bbb52d8a9f7da"
            ],
            "layout": "IPY_MODEL_b976af712d394577b50cce7f0017fe7e"
          }
        },
        "4c0ab228771948b8b317b95e186c32d9": {
          "model_module": "@jupyter-widgets/controls",
          "model_name": "HTMLModel",
          "model_module_version": "1.5.0",
          "state": {
            "_dom_classes": [],
            "_model_module": "@jupyter-widgets/controls",
            "_model_module_version": "1.5.0",
            "_model_name": "HTMLModel",
            "_view_count": null,
            "_view_module": "@jupyter-widgets/controls",
            "_view_module_version": "1.5.0",
            "_view_name": "HTMLView",
            "description": "",
            "description_tooltip": null,
            "layout": "IPY_MODEL_06cb9e0ba61a4b2d84bf147f3d63e0da",
            "placeholder": "​",
            "style": "IPY_MODEL_b5561f0add0b463d9f2e241ce7593135",
            "value": "vocab.txt: 100%"
          }
        },
        "8f522fbc51cf4afaa4b530f0f93397da": {
          "model_module": "@jupyter-widgets/controls",
          "model_name": "FloatProgressModel",
          "model_module_version": "1.5.0",
          "state": {
            "_dom_classes": [],
            "_model_module": "@jupyter-widgets/controls",
            "_model_module_version": "1.5.0",
            "_model_name": "FloatProgressModel",
            "_view_count": null,
            "_view_module": "@jupyter-widgets/controls",
            "_view_module_version": "1.5.0",
            "_view_name": "ProgressView",
            "bar_style": "success",
            "description": "",
            "description_tooltip": null,
            "layout": "IPY_MODEL_e9efded02ba94e519dc0848cb472c5e4",
            "max": 995526,
            "min": 0,
            "orientation": "horizontal",
            "style": "IPY_MODEL_8907d8fd1855409f80464eb625d935f5",
            "value": 995526
          }
        },
        "4f0a171684a54594b08bbb52d8a9f7da": {
          "model_module": "@jupyter-widgets/controls",
          "model_name": "HTMLModel",
          "model_module_version": "1.5.0",
          "state": {
            "_dom_classes": [],
            "_model_module": "@jupyter-widgets/controls",
            "_model_module_version": "1.5.0",
            "_model_name": "HTMLModel",
            "_view_count": null,
            "_view_module": "@jupyter-widgets/controls",
            "_view_module_version": "1.5.0",
            "_view_name": "HTMLView",
            "description": "",
            "description_tooltip": null,
            "layout": "IPY_MODEL_9443fc1629d3460b8760824ee48cb5b4",
            "placeholder": "​",
            "style": "IPY_MODEL_42285396fe664e73a5eaba846217c3ae",
            "value": " 996k/996k [00:00&lt;00:00, 4.34MB/s]"
          }
        },
        "b976af712d394577b50cce7f0017fe7e": {
          "model_module": "@jupyter-widgets/base",
          "model_name": "LayoutModel",
          "model_module_version": "1.2.0",
          "state": {
            "_model_module": "@jupyter-widgets/base",
            "_model_module_version": "1.2.0",
            "_model_name": "LayoutModel",
            "_view_count": null,
            "_view_module": "@jupyter-widgets/base",
            "_view_module_version": "1.2.0",
            "_view_name": "LayoutView",
            "align_content": null,
            "align_items": null,
            "align_self": null,
            "border": null,
            "bottom": null,
            "display": null,
            "flex": null,
            "flex_flow": null,
            "grid_area": null,
            "grid_auto_columns": null,
            "grid_auto_flow": null,
            "grid_auto_rows": null,
            "grid_column": null,
            "grid_gap": null,
            "grid_row": null,
            "grid_template_areas": null,
            "grid_template_columns": null,
            "grid_template_rows": null,
            "height": null,
            "justify_content": null,
            "justify_items": null,
            "left": null,
            "margin": null,
            "max_height": null,
            "max_width": null,
            "min_height": null,
            "min_width": null,
            "object_fit": null,
            "object_position": null,
            "order": null,
            "overflow": null,
            "overflow_x": null,
            "overflow_y": null,
            "padding": null,
            "right": null,
            "top": null,
            "visibility": null,
            "width": null
          }
        },
        "06cb9e0ba61a4b2d84bf147f3d63e0da": {
          "model_module": "@jupyter-widgets/base",
          "model_name": "LayoutModel",
          "model_module_version": "1.2.0",
          "state": {
            "_model_module": "@jupyter-widgets/base",
            "_model_module_version": "1.2.0",
            "_model_name": "LayoutModel",
            "_view_count": null,
            "_view_module": "@jupyter-widgets/base",
            "_view_module_version": "1.2.0",
            "_view_name": "LayoutView",
            "align_content": null,
            "align_items": null,
            "align_self": null,
            "border": null,
            "bottom": null,
            "display": null,
            "flex": null,
            "flex_flow": null,
            "grid_area": null,
            "grid_auto_columns": null,
            "grid_auto_flow": null,
            "grid_auto_rows": null,
            "grid_column": null,
            "grid_gap": null,
            "grid_row": null,
            "grid_template_areas": null,
            "grid_template_columns": null,
            "grid_template_rows": null,
            "height": null,
            "justify_content": null,
            "justify_items": null,
            "left": null,
            "margin": null,
            "max_height": null,
            "max_width": null,
            "min_height": null,
            "min_width": null,
            "object_fit": null,
            "object_position": null,
            "order": null,
            "overflow": null,
            "overflow_x": null,
            "overflow_y": null,
            "padding": null,
            "right": null,
            "top": null,
            "visibility": null,
            "width": null
          }
        },
        "b5561f0add0b463d9f2e241ce7593135": {
          "model_module": "@jupyter-widgets/controls",
          "model_name": "DescriptionStyleModel",
          "model_module_version": "1.5.0",
          "state": {
            "_model_module": "@jupyter-widgets/controls",
            "_model_module_version": "1.5.0",
            "_model_name": "DescriptionStyleModel",
            "_view_count": null,
            "_view_module": "@jupyter-widgets/base",
            "_view_module_version": "1.2.0",
            "_view_name": "StyleView",
            "description_width": ""
          }
        },
        "e9efded02ba94e519dc0848cb472c5e4": {
          "model_module": "@jupyter-widgets/base",
          "model_name": "LayoutModel",
          "model_module_version": "1.2.0",
          "state": {
            "_model_module": "@jupyter-widgets/base",
            "_model_module_version": "1.2.0",
            "_model_name": "LayoutModel",
            "_view_count": null,
            "_view_module": "@jupyter-widgets/base",
            "_view_module_version": "1.2.0",
            "_view_name": "LayoutView",
            "align_content": null,
            "align_items": null,
            "align_self": null,
            "border": null,
            "bottom": null,
            "display": null,
            "flex": null,
            "flex_flow": null,
            "grid_area": null,
            "grid_auto_columns": null,
            "grid_auto_flow": null,
            "grid_auto_rows": null,
            "grid_column": null,
            "grid_gap": null,
            "grid_row": null,
            "grid_template_areas": null,
            "grid_template_columns": null,
            "grid_template_rows": null,
            "height": null,
            "justify_content": null,
            "justify_items": null,
            "left": null,
            "margin": null,
            "max_height": null,
            "max_width": null,
            "min_height": null,
            "min_width": null,
            "object_fit": null,
            "object_position": null,
            "order": null,
            "overflow": null,
            "overflow_x": null,
            "overflow_y": null,
            "padding": null,
            "right": null,
            "top": null,
            "visibility": null,
            "width": null
          }
        },
        "8907d8fd1855409f80464eb625d935f5": {
          "model_module": "@jupyter-widgets/controls",
          "model_name": "ProgressStyleModel",
          "model_module_version": "1.5.0",
          "state": {
            "_model_module": "@jupyter-widgets/controls",
            "_model_module_version": "1.5.0",
            "_model_name": "ProgressStyleModel",
            "_view_count": null,
            "_view_module": "@jupyter-widgets/base",
            "_view_module_version": "1.2.0",
            "_view_name": "StyleView",
            "bar_color": null,
            "description_width": ""
          }
        },
        "9443fc1629d3460b8760824ee48cb5b4": {
          "model_module": "@jupyter-widgets/base",
          "model_name": "LayoutModel",
          "model_module_version": "1.2.0",
          "state": {
            "_model_module": "@jupyter-widgets/base",
            "_model_module_version": "1.2.0",
            "_model_name": "LayoutModel",
            "_view_count": null,
            "_view_module": "@jupyter-widgets/base",
            "_view_module_version": "1.2.0",
            "_view_name": "LayoutView",
            "align_content": null,
            "align_items": null,
            "align_self": null,
            "border": null,
            "bottom": null,
            "display": null,
            "flex": null,
            "flex_flow": null,
            "grid_area": null,
            "grid_auto_columns": null,
            "grid_auto_flow": null,
            "grid_auto_rows": null,
            "grid_column": null,
            "grid_gap": null,
            "grid_row": null,
            "grid_template_areas": null,
            "grid_template_columns": null,
            "grid_template_rows": null,
            "height": null,
            "justify_content": null,
            "justify_items": null,
            "left": null,
            "margin": null,
            "max_height": null,
            "max_width": null,
            "min_height": null,
            "min_width": null,
            "object_fit": null,
            "object_position": null,
            "order": null,
            "overflow": null,
            "overflow_x": null,
            "overflow_y": null,
            "padding": null,
            "right": null,
            "top": null,
            "visibility": null,
            "width": null
          }
        },
        "42285396fe664e73a5eaba846217c3ae": {
          "model_module": "@jupyter-widgets/controls",
          "model_name": "DescriptionStyleModel",
          "model_module_version": "1.5.0",
          "state": {
            "_model_module": "@jupyter-widgets/controls",
            "_model_module_version": "1.5.0",
            "_model_name": "DescriptionStyleModel",
            "_view_count": null,
            "_view_module": "@jupyter-widgets/base",
            "_view_module_version": "1.2.0",
            "_view_name": "StyleView",
            "description_width": ""
          }
        },
        "142680d6909c4fdc8a656808d1db7158": {
          "model_module": "@jupyter-widgets/controls",
          "model_name": "HBoxModel",
          "model_module_version": "1.5.0",
          "state": {
            "_dom_classes": [],
            "_model_module": "@jupyter-widgets/controls",
            "_model_module_version": "1.5.0",
            "_model_name": "HBoxModel",
            "_view_count": null,
            "_view_module": "@jupyter-widgets/controls",
            "_view_module_version": "1.5.0",
            "_view_name": "HBoxView",
            "box_style": "",
            "children": [
              "IPY_MODEL_f7c7549938a845fa946bddbe5ee7215e",
              "IPY_MODEL_fbe65e390b5b4a74a029ddf74e730ead",
              "IPY_MODEL_a22c0ab6491648cc84271b48482fd91b"
            ],
            "layout": "IPY_MODEL_d0b84e8bf4ed43019454db47532b5f35"
          }
        },
        "f7c7549938a845fa946bddbe5ee7215e": {
          "model_module": "@jupyter-widgets/controls",
          "model_name": "HTMLModel",
          "model_module_version": "1.5.0",
          "state": {
            "_dom_classes": [],
            "_model_module": "@jupyter-widgets/controls",
            "_model_module_version": "1.5.0",
            "_model_name": "HTMLModel",
            "_view_count": null,
            "_view_module": "@jupyter-widgets/controls",
            "_view_module_version": "1.5.0",
            "_view_name": "HTMLView",
            "description": "",
            "description_tooltip": null,
            "layout": "IPY_MODEL_804593dff99c41feb4e3bfb412743f5f",
            "placeholder": "​",
            "style": "IPY_MODEL_b367daaf1b0245c79c80e3fca8ab2156",
            "value": "special_tokens_map.json: 100%"
          }
        },
        "fbe65e390b5b4a74a029ddf74e730ead": {
          "model_module": "@jupyter-widgets/controls",
          "model_name": "FloatProgressModel",
          "model_module_version": "1.5.0",
          "state": {
            "_dom_classes": [],
            "_model_module": "@jupyter-widgets/controls",
            "_model_module_version": "1.5.0",
            "_model_name": "FloatProgressModel",
            "_view_count": null,
            "_view_module": "@jupyter-widgets/controls",
            "_view_module_version": "1.5.0",
            "_view_name": "ProgressView",
            "bar_style": "success",
            "description": "",
            "description_tooltip": null,
            "layout": "IPY_MODEL_ba22cc460e5e451da8dbf469893abf63",
            "max": 112,
            "min": 0,
            "orientation": "horizontal",
            "style": "IPY_MODEL_53271dd64fd842bfbaad35876e782b48",
            "value": 112
          }
        },
        "a22c0ab6491648cc84271b48482fd91b": {
          "model_module": "@jupyter-widgets/controls",
          "model_name": "HTMLModel",
          "model_module_version": "1.5.0",
          "state": {
            "_dom_classes": [],
            "_model_module": "@jupyter-widgets/controls",
            "_model_module_version": "1.5.0",
            "_model_name": "HTMLModel",
            "_view_count": null,
            "_view_module": "@jupyter-widgets/controls",
            "_view_module_version": "1.5.0",
            "_view_name": "HTMLView",
            "description": "",
            "description_tooltip": null,
            "layout": "IPY_MODEL_bf84b3d6055d42f98f683cb725bbebb8",
            "placeholder": "​",
            "style": "IPY_MODEL_e1b142c65413404aa4850d8a68806f36",
            "value": " 112/112 [00:00&lt;00:00, 8.11kB/s]"
          }
        },
        "d0b84e8bf4ed43019454db47532b5f35": {
          "model_module": "@jupyter-widgets/base",
          "model_name": "LayoutModel",
          "model_module_version": "1.2.0",
          "state": {
            "_model_module": "@jupyter-widgets/base",
            "_model_module_version": "1.2.0",
            "_model_name": "LayoutModel",
            "_view_count": null,
            "_view_module": "@jupyter-widgets/base",
            "_view_module_version": "1.2.0",
            "_view_name": "LayoutView",
            "align_content": null,
            "align_items": null,
            "align_self": null,
            "border": null,
            "bottom": null,
            "display": null,
            "flex": null,
            "flex_flow": null,
            "grid_area": null,
            "grid_auto_columns": null,
            "grid_auto_flow": null,
            "grid_auto_rows": null,
            "grid_column": null,
            "grid_gap": null,
            "grid_row": null,
            "grid_template_areas": null,
            "grid_template_columns": null,
            "grid_template_rows": null,
            "height": null,
            "justify_content": null,
            "justify_items": null,
            "left": null,
            "margin": null,
            "max_height": null,
            "max_width": null,
            "min_height": null,
            "min_width": null,
            "object_fit": null,
            "object_position": null,
            "order": null,
            "overflow": null,
            "overflow_x": null,
            "overflow_y": null,
            "padding": null,
            "right": null,
            "top": null,
            "visibility": null,
            "width": null
          }
        },
        "804593dff99c41feb4e3bfb412743f5f": {
          "model_module": "@jupyter-widgets/base",
          "model_name": "LayoutModel",
          "model_module_version": "1.2.0",
          "state": {
            "_model_module": "@jupyter-widgets/base",
            "_model_module_version": "1.2.0",
            "_model_name": "LayoutModel",
            "_view_count": null,
            "_view_module": "@jupyter-widgets/base",
            "_view_module_version": "1.2.0",
            "_view_name": "LayoutView",
            "align_content": null,
            "align_items": null,
            "align_self": null,
            "border": null,
            "bottom": null,
            "display": null,
            "flex": null,
            "flex_flow": null,
            "grid_area": null,
            "grid_auto_columns": null,
            "grid_auto_flow": null,
            "grid_auto_rows": null,
            "grid_column": null,
            "grid_gap": null,
            "grid_row": null,
            "grid_template_areas": null,
            "grid_template_columns": null,
            "grid_template_rows": null,
            "height": null,
            "justify_content": null,
            "justify_items": null,
            "left": null,
            "margin": null,
            "max_height": null,
            "max_width": null,
            "min_height": null,
            "min_width": null,
            "object_fit": null,
            "object_position": null,
            "order": null,
            "overflow": null,
            "overflow_x": null,
            "overflow_y": null,
            "padding": null,
            "right": null,
            "top": null,
            "visibility": null,
            "width": null
          }
        },
        "b367daaf1b0245c79c80e3fca8ab2156": {
          "model_module": "@jupyter-widgets/controls",
          "model_name": "DescriptionStyleModel",
          "model_module_version": "1.5.0",
          "state": {
            "_model_module": "@jupyter-widgets/controls",
            "_model_module_version": "1.5.0",
            "_model_name": "DescriptionStyleModel",
            "_view_count": null,
            "_view_module": "@jupyter-widgets/base",
            "_view_module_version": "1.2.0",
            "_view_name": "StyleView",
            "description_width": ""
          }
        },
        "ba22cc460e5e451da8dbf469893abf63": {
          "model_module": "@jupyter-widgets/base",
          "model_name": "LayoutModel",
          "model_module_version": "1.2.0",
          "state": {
            "_model_module": "@jupyter-widgets/base",
            "_model_module_version": "1.2.0",
            "_model_name": "LayoutModel",
            "_view_count": null,
            "_view_module": "@jupyter-widgets/base",
            "_view_module_version": "1.2.0",
            "_view_name": "LayoutView",
            "align_content": null,
            "align_items": null,
            "align_self": null,
            "border": null,
            "bottom": null,
            "display": null,
            "flex": null,
            "flex_flow": null,
            "grid_area": null,
            "grid_auto_columns": null,
            "grid_auto_flow": null,
            "grid_auto_rows": null,
            "grid_column": null,
            "grid_gap": null,
            "grid_row": null,
            "grid_template_areas": null,
            "grid_template_columns": null,
            "grid_template_rows": null,
            "height": null,
            "justify_content": null,
            "justify_items": null,
            "left": null,
            "margin": null,
            "max_height": null,
            "max_width": null,
            "min_height": null,
            "min_width": null,
            "object_fit": null,
            "object_position": null,
            "order": null,
            "overflow": null,
            "overflow_x": null,
            "overflow_y": null,
            "padding": null,
            "right": null,
            "top": null,
            "visibility": null,
            "width": null
          }
        },
        "53271dd64fd842bfbaad35876e782b48": {
          "model_module": "@jupyter-widgets/controls",
          "model_name": "ProgressStyleModel",
          "model_module_version": "1.5.0",
          "state": {
            "_model_module": "@jupyter-widgets/controls",
            "_model_module_version": "1.5.0",
            "_model_name": "ProgressStyleModel",
            "_view_count": null,
            "_view_module": "@jupyter-widgets/base",
            "_view_module_version": "1.2.0",
            "_view_name": "StyleView",
            "bar_color": null,
            "description_width": ""
          }
        },
        "bf84b3d6055d42f98f683cb725bbebb8": {
          "model_module": "@jupyter-widgets/base",
          "model_name": "LayoutModel",
          "model_module_version": "1.2.0",
          "state": {
            "_model_module": "@jupyter-widgets/base",
            "_model_module_version": "1.2.0",
            "_model_name": "LayoutModel",
            "_view_count": null,
            "_view_module": "@jupyter-widgets/base",
            "_view_module_version": "1.2.0",
            "_view_name": "LayoutView",
            "align_content": null,
            "align_items": null,
            "align_self": null,
            "border": null,
            "bottom": null,
            "display": null,
            "flex": null,
            "flex_flow": null,
            "grid_area": null,
            "grid_auto_columns": null,
            "grid_auto_flow": null,
            "grid_auto_rows": null,
            "grid_column": null,
            "grid_gap": null,
            "grid_row": null,
            "grid_template_areas": null,
            "grid_template_columns": null,
            "grid_template_rows": null,
            "height": null,
            "justify_content": null,
            "justify_items": null,
            "left": null,
            "margin": null,
            "max_height": null,
            "max_width": null,
            "min_height": null,
            "min_width": null,
            "object_fit": null,
            "object_position": null,
            "order": null,
            "overflow": null,
            "overflow_x": null,
            "overflow_y": null,
            "padding": null,
            "right": null,
            "top": null,
            "visibility": null,
            "width": null
          }
        },
        "e1b142c65413404aa4850d8a68806f36": {
          "model_module": "@jupyter-widgets/controls",
          "model_name": "DescriptionStyleModel",
          "model_module_version": "1.5.0",
          "state": {
            "_model_module": "@jupyter-widgets/controls",
            "_model_module_version": "1.5.0",
            "_model_name": "DescriptionStyleModel",
            "_view_count": null,
            "_view_module": "@jupyter-widgets/base",
            "_view_module_version": "1.2.0",
            "_view_name": "StyleView",
            "description_width": ""
          }
        },
        "6fc29f1f2a66494baf7b81e42a55264a": {
          "model_module": "@jupyter-widgets/controls",
          "model_name": "HBoxModel",
          "model_module_version": "1.5.0",
          "state": {
            "_dom_classes": [],
            "_model_module": "@jupyter-widgets/controls",
            "_model_module_version": "1.5.0",
            "_model_name": "HBoxModel",
            "_view_count": null,
            "_view_module": "@jupyter-widgets/controls",
            "_view_module_version": "1.5.0",
            "_view_name": "HBoxView",
            "box_style": "",
            "children": [
              "IPY_MODEL_e47028c3c96b4c3890143169777608bb",
              "IPY_MODEL_b0beb608d07d4822bcdf5f6283dd397b",
              "IPY_MODEL_5636735974b244f4a877778bbe48175f"
            ],
            "layout": "IPY_MODEL_194238eddb0d4d659591f2315bd2555b"
          }
        },
        "e47028c3c96b4c3890143169777608bb": {
          "model_module": "@jupyter-widgets/controls",
          "model_name": "HTMLModel",
          "model_module_version": "1.5.0",
          "state": {
            "_dom_classes": [],
            "_model_module": "@jupyter-widgets/controls",
            "_model_module_version": "1.5.0",
            "_model_name": "HTMLModel",
            "_view_count": null,
            "_view_module": "@jupyter-widgets/controls",
            "_view_module_version": "1.5.0",
            "_view_name": "HTMLView",
            "description": "",
            "description_tooltip": null,
            "layout": "IPY_MODEL_ee25e5a9f28142f48060a06a75cb5e69",
            "placeholder": "​",
            "style": "IPY_MODEL_cd9f7375acee4801b0d43f15375130e2",
            "value": "model.safetensors: 100%"
          }
        },
        "b0beb608d07d4822bcdf5f6283dd397b": {
          "model_module": "@jupyter-widgets/controls",
          "model_name": "FloatProgressModel",
          "model_module_version": "1.5.0",
          "state": {
            "_dom_classes": [],
            "_model_module": "@jupyter-widgets/controls",
            "_model_module_version": "1.5.0",
            "_model_name": "FloatProgressModel",
            "_view_count": null,
            "_view_module": "@jupyter-widgets/controls",
            "_view_module_version": "1.5.0",
            "_view_name": "ProgressView",
            "bar_style": "success",
            "description": "",
            "description_tooltip": null,
            "layout": "IPY_MODEL_06c0117107304d07a0d1945ded2a0c0b",
            "max": 714294900,
            "min": 0,
            "orientation": "horizontal",
            "style": "IPY_MODEL_6e3d7fe18a8143859a3c4fbb94f7e5cb",
            "value": 714294900
          }
        },
        "5636735974b244f4a877778bbe48175f": {
          "model_module": "@jupyter-widgets/controls",
          "model_name": "HTMLModel",
          "model_module_version": "1.5.0",
          "state": {
            "_dom_classes": [],
            "_model_module": "@jupyter-widgets/controls",
            "_model_module_version": "1.5.0",
            "_model_name": "HTMLModel",
            "_view_count": null,
            "_view_module": "@jupyter-widgets/controls",
            "_view_module_version": "1.5.0",
            "_view_name": "HTMLView",
            "description": "",
            "description_tooltip": null,
            "layout": "IPY_MODEL_cc0a6d20cd91415caab8c87367d7ddd8",
            "placeholder": "​",
            "style": "IPY_MODEL_f3092aec4c1a4cf5b3dfa46a87ac1a85",
            "value": " 714M/714M [00:04&lt;00:00, 179MB/s]"
          }
        },
        "194238eddb0d4d659591f2315bd2555b": {
          "model_module": "@jupyter-widgets/base",
          "model_name": "LayoutModel",
          "model_module_version": "1.2.0",
          "state": {
            "_model_module": "@jupyter-widgets/base",
            "_model_module_version": "1.2.0",
            "_model_name": "LayoutModel",
            "_view_count": null,
            "_view_module": "@jupyter-widgets/base",
            "_view_module_version": "1.2.0",
            "_view_name": "LayoutView",
            "align_content": null,
            "align_items": null,
            "align_self": null,
            "border": null,
            "bottom": null,
            "display": null,
            "flex": null,
            "flex_flow": null,
            "grid_area": null,
            "grid_auto_columns": null,
            "grid_auto_flow": null,
            "grid_auto_rows": null,
            "grid_column": null,
            "grid_gap": null,
            "grid_row": null,
            "grid_template_areas": null,
            "grid_template_columns": null,
            "grid_template_rows": null,
            "height": null,
            "justify_content": null,
            "justify_items": null,
            "left": null,
            "margin": null,
            "max_height": null,
            "max_width": null,
            "min_height": null,
            "min_width": null,
            "object_fit": null,
            "object_position": null,
            "order": null,
            "overflow": null,
            "overflow_x": null,
            "overflow_y": null,
            "padding": null,
            "right": null,
            "top": null,
            "visibility": null,
            "width": null
          }
        },
        "ee25e5a9f28142f48060a06a75cb5e69": {
          "model_module": "@jupyter-widgets/base",
          "model_name": "LayoutModel",
          "model_module_version": "1.2.0",
          "state": {
            "_model_module": "@jupyter-widgets/base",
            "_model_module_version": "1.2.0",
            "_model_name": "LayoutModel",
            "_view_count": null,
            "_view_module": "@jupyter-widgets/base",
            "_view_module_version": "1.2.0",
            "_view_name": "LayoutView",
            "align_content": null,
            "align_items": null,
            "align_self": null,
            "border": null,
            "bottom": null,
            "display": null,
            "flex": null,
            "flex_flow": null,
            "grid_area": null,
            "grid_auto_columns": null,
            "grid_auto_flow": null,
            "grid_auto_rows": null,
            "grid_column": null,
            "grid_gap": null,
            "grid_row": null,
            "grid_template_areas": null,
            "grid_template_columns": null,
            "grid_template_rows": null,
            "height": null,
            "justify_content": null,
            "justify_items": null,
            "left": null,
            "margin": null,
            "max_height": null,
            "max_width": null,
            "min_height": null,
            "min_width": null,
            "object_fit": null,
            "object_position": null,
            "order": null,
            "overflow": null,
            "overflow_x": null,
            "overflow_y": null,
            "padding": null,
            "right": null,
            "top": null,
            "visibility": null,
            "width": null
          }
        },
        "cd9f7375acee4801b0d43f15375130e2": {
          "model_module": "@jupyter-widgets/controls",
          "model_name": "DescriptionStyleModel",
          "model_module_version": "1.5.0",
          "state": {
            "_model_module": "@jupyter-widgets/controls",
            "_model_module_version": "1.5.0",
            "_model_name": "DescriptionStyleModel",
            "_view_count": null,
            "_view_module": "@jupyter-widgets/base",
            "_view_module_version": "1.2.0",
            "_view_name": "StyleView",
            "description_width": ""
          }
        },
        "06c0117107304d07a0d1945ded2a0c0b": {
          "model_module": "@jupyter-widgets/base",
          "model_name": "LayoutModel",
          "model_module_version": "1.2.0",
          "state": {
            "_model_module": "@jupyter-widgets/base",
            "_model_module_version": "1.2.0",
            "_model_name": "LayoutModel",
            "_view_count": null,
            "_view_module": "@jupyter-widgets/base",
            "_view_module_version": "1.2.0",
            "_view_name": "LayoutView",
            "align_content": null,
            "align_items": null,
            "align_self": null,
            "border": null,
            "bottom": null,
            "display": null,
            "flex": null,
            "flex_flow": null,
            "grid_area": null,
            "grid_auto_columns": null,
            "grid_auto_flow": null,
            "grid_auto_rows": null,
            "grid_column": null,
            "grid_gap": null,
            "grid_row": null,
            "grid_template_areas": null,
            "grid_template_columns": null,
            "grid_template_rows": null,
            "height": null,
            "justify_content": null,
            "justify_items": null,
            "left": null,
            "margin": null,
            "max_height": null,
            "max_width": null,
            "min_height": null,
            "min_width": null,
            "object_fit": null,
            "object_position": null,
            "order": null,
            "overflow": null,
            "overflow_x": null,
            "overflow_y": null,
            "padding": null,
            "right": null,
            "top": null,
            "visibility": null,
            "width": null
          }
        },
        "6e3d7fe18a8143859a3c4fbb94f7e5cb": {
          "model_module": "@jupyter-widgets/controls",
          "model_name": "ProgressStyleModel",
          "model_module_version": "1.5.0",
          "state": {
            "_model_module": "@jupyter-widgets/controls",
            "_model_module_version": "1.5.0",
            "_model_name": "ProgressStyleModel",
            "_view_count": null,
            "_view_module": "@jupyter-widgets/base",
            "_view_module_version": "1.2.0",
            "_view_name": "StyleView",
            "bar_color": null,
            "description_width": ""
          }
        },
        "cc0a6d20cd91415caab8c87367d7ddd8": {
          "model_module": "@jupyter-widgets/base",
          "model_name": "LayoutModel",
          "model_module_version": "1.2.0",
          "state": {
            "_model_module": "@jupyter-widgets/base",
            "_model_module_version": "1.2.0",
            "_model_name": "LayoutModel",
            "_view_count": null,
            "_view_module": "@jupyter-widgets/base",
            "_view_module_version": "1.2.0",
            "_view_name": "LayoutView",
            "align_content": null,
            "align_items": null,
            "align_self": null,
            "border": null,
            "bottom": null,
            "display": null,
            "flex": null,
            "flex_flow": null,
            "grid_area": null,
            "grid_auto_columns": null,
            "grid_auto_flow": null,
            "grid_auto_rows": null,
            "grid_column": null,
            "grid_gap": null,
            "grid_row": null,
            "grid_template_areas": null,
            "grid_template_columns": null,
            "grid_template_rows": null,
            "height": null,
            "justify_content": null,
            "justify_items": null,
            "left": null,
            "margin": null,
            "max_height": null,
            "max_width": null,
            "min_height": null,
            "min_width": null,
            "object_fit": null,
            "object_position": null,
            "order": null,
            "overflow": null,
            "overflow_x": null,
            "overflow_y": null,
            "padding": null,
            "right": null,
            "top": null,
            "visibility": null,
            "width": null
          }
        },
        "f3092aec4c1a4cf5b3dfa46a87ac1a85": {
          "model_module": "@jupyter-widgets/controls",
          "model_name": "DescriptionStyleModel",
          "model_module_version": "1.5.0",
          "state": {
            "_model_module": "@jupyter-widgets/controls",
            "_model_module_version": "1.5.0",
            "_model_name": "DescriptionStyleModel",
            "_view_count": null,
            "_view_module": "@jupyter-widgets/base",
            "_view_module_version": "1.2.0",
            "_view_name": "StyleView",
            "description_width": ""
          }
        }
      }
    }
  },
  "nbformat": 4,
  "nbformat_minor": 0
}