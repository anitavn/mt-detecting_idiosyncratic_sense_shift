{
  "nbformat": 4,
  "nbformat_minor": 0,
  "metadata": {
    "colab": {
      "provenance": [],
      "toc_visible": true
    },
    "kernelspec": {
      "name": "python3",
      "display_name": "Python 3"
    },
    "language_info": {
      "name": "python"
    },
    "widgets": {
      "application/vnd.jupyter.widget-state+json": {
        "82e8705082f04f029b4a7ff181e58ced": {
          "model_module": "@jupyter-widgets/controls",
          "model_name": "HBoxModel",
          "model_module_version": "1.5.0",
          "state": {
            "_dom_classes": [],
            "_model_module": "@jupyter-widgets/controls",
            "_model_module_version": "1.5.0",
            "_model_name": "HBoxModel",
            "_view_count": null,
            "_view_module": "@jupyter-widgets/controls",
            "_view_module_version": "1.5.0",
            "_view_name": "HBoxView",
            "box_style": "",
            "children": [
              "IPY_MODEL_22ba176e01774efba4ad041f45b36d6e",
              "IPY_MODEL_93e12afd0afc40d1bfd5ba41b495b46a",
              "IPY_MODEL_044045066ac74a51bf802b8c4e42b13d"
            ],
            "layout": "IPY_MODEL_243e83edff3e4168913803edd7fadd70"
          }
        },
        "22ba176e01774efba4ad041f45b36d6e": {
          "model_module": "@jupyter-widgets/controls",
          "model_name": "HTMLModel",
          "model_module_version": "1.5.0",
          "state": {
            "_dom_classes": [],
            "_model_module": "@jupyter-widgets/controls",
            "_model_module_version": "1.5.0",
            "_model_name": "HTMLModel",
            "_view_count": null,
            "_view_module": "@jupyter-widgets/controls",
            "_view_module_version": "1.5.0",
            "_view_name": "HTMLView",
            "description": "",
            "description_tooltip": null,
            "layout": "IPY_MODEL_982dba5563c847aaac21f5a8aa32c837",
            "placeholder": "​",
            "style": "IPY_MODEL_f92a74ffff1d4eecbbd222de1005638d",
            "value": "README.md: 100%"
          }
        },
        "93e12afd0afc40d1bfd5ba41b495b46a": {
          "model_module": "@jupyter-widgets/controls",
          "model_name": "FloatProgressModel",
          "model_module_version": "1.5.0",
          "state": {
            "_dom_classes": [],
            "_model_module": "@jupyter-widgets/controls",
            "_model_module_version": "1.5.0",
            "_model_name": "FloatProgressModel",
            "_view_count": null,
            "_view_module": "@jupyter-widgets/controls",
            "_view_module_version": "1.5.0",
            "_view_name": "ProgressView",
            "bar_style": "success",
            "description": "",
            "description_tooltip": null,
            "layout": "IPY_MODEL_1807133025674a3ab22d9a3536333258",
            "max": 455,
            "min": 0,
            "orientation": "horizontal",
            "style": "IPY_MODEL_8ab6a4564b10413fa4f478f63ed46cbb",
            "value": 455
          }
        },
        "044045066ac74a51bf802b8c4e42b13d": {
          "model_module": "@jupyter-widgets/controls",
          "model_name": "HTMLModel",
          "model_module_version": "1.5.0",
          "state": {
            "_dom_classes": [],
            "_model_module": "@jupyter-widgets/controls",
            "_model_module_version": "1.5.0",
            "_model_name": "HTMLModel",
            "_view_count": null,
            "_view_module": "@jupyter-widgets/controls",
            "_view_module_version": "1.5.0",
            "_view_name": "HTMLView",
            "description": "",
            "description_tooltip": null,
            "layout": "IPY_MODEL_bcfebcccdf71473594077403a0fba652",
            "placeholder": "​",
            "style": "IPY_MODEL_549d1e56c78f474fa2dc0ac36dd8de56",
            "value": " 455/455 [00:00&lt;00:00, 14.5kB/s]"
          }
        },
        "243e83edff3e4168913803edd7fadd70": {
          "model_module": "@jupyter-widgets/base",
          "model_name": "LayoutModel",
          "model_module_version": "1.2.0",
          "state": {
            "_model_module": "@jupyter-widgets/base",
            "_model_module_version": "1.2.0",
            "_model_name": "LayoutModel",
            "_view_count": null,
            "_view_module": "@jupyter-widgets/base",
            "_view_module_version": "1.2.0",
            "_view_name": "LayoutView",
            "align_content": null,
            "align_items": null,
            "align_self": null,
            "border": null,
            "bottom": null,
            "display": null,
            "flex": null,
            "flex_flow": null,
            "grid_area": null,
            "grid_auto_columns": null,
            "grid_auto_flow": null,
            "grid_auto_rows": null,
            "grid_column": null,
            "grid_gap": null,
            "grid_row": null,
            "grid_template_areas": null,
            "grid_template_columns": null,
            "grid_template_rows": null,
            "height": null,
            "justify_content": null,
            "justify_items": null,
            "left": null,
            "margin": null,
            "max_height": null,
            "max_width": null,
            "min_height": null,
            "min_width": null,
            "object_fit": null,
            "object_position": null,
            "order": null,
            "overflow": null,
            "overflow_x": null,
            "overflow_y": null,
            "padding": null,
            "right": null,
            "top": null,
            "visibility": null,
            "width": null
          }
        },
        "982dba5563c847aaac21f5a8aa32c837": {
          "model_module": "@jupyter-widgets/base",
          "model_name": "LayoutModel",
          "model_module_version": "1.2.0",
          "state": {
            "_model_module": "@jupyter-widgets/base",
            "_model_module_version": "1.2.0",
            "_model_name": "LayoutModel",
            "_view_count": null,
            "_view_module": "@jupyter-widgets/base",
            "_view_module_version": "1.2.0",
            "_view_name": "LayoutView",
            "align_content": null,
            "align_items": null,
            "align_self": null,
            "border": null,
            "bottom": null,
            "display": null,
            "flex": null,
            "flex_flow": null,
            "grid_area": null,
            "grid_auto_columns": null,
            "grid_auto_flow": null,
            "grid_auto_rows": null,
            "grid_column": null,
            "grid_gap": null,
            "grid_row": null,
            "grid_template_areas": null,
            "grid_template_columns": null,
            "grid_template_rows": null,
            "height": null,
            "justify_content": null,
            "justify_items": null,
            "left": null,
            "margin": null,
            "max_height": null,
            "max_width": null,
            "min_height": null,
            "min_width": null,
            "object_fit": null,
            "object_position": null,
            "order": null,
            "overflow": null,
            "overflow_x": null,
            "overflow_y": null,
            "padding": null,
            "right": null,
            "top": null,
            "visibility": null,
            "width": null
          }
        },
        "f92a74ffff1d4eecbbd222de1005638d": {
          "model_module": "@jupyter-widgets/controls",
          "model_name": "DescriptionStyleModel",
          "model_module_version": "1.5.0",
          "state": {
            "_model_module": "@jupyter-widgets/controls",
            "_model_module_version": "1.5.0",
            "_model_name": "DescriptionStyleModel",
            "_view_count": null,
            "_view_module": "@jupyter-widgets/base",
            "_view_module_version": "1.2.0",
            "_view_name": "StyleView",
            "description_width": ""
          }
        },
        "1807133025674a3ab22d9a3536333258": {
          "model_module": "@jupyter-widgets/base",
          "model_name": "LayoutModel",
          "model_module_version": "1.2.0",
          "state": {
            "_model_module": "@jupyter-widgets/base",
            "_model_module_version": "1.2.0",
            "_model_name": "LayoutModel",
            "_view_count": null,
            "_view_module": "@jupyter-widgets/base",
            "_view_module_version": "1.2.0",
            "_view_name": "LayoutView",
            "align_content": null,
            "align_items": null,
            "align_self": null,
            "border": null,
            "bottom": null,
            "display": null,
            "flex": null,
            "flex_flow": null,
            "grid_area": null,
            "grid_auto_columns": null,
            "grid_auto_flow": null,
            "grid_auto_rows": null,
            "grid_column": null,
            "grid_gap": null,
            "grid_row": null,
            "grid_template_areas": null,
            "grid_template_columns": null,
            "grid_template_rows": null,
            "height": null,
            "justify_content": null,
            "justify_items": null,
            "left": null,
            "margin": null,
            "max_height": null,
            "max_width": null,
            "min_height": null,
            "min_width": null,
            "object_fit": null,
            "object_position": null,
            "order": null,
            "overflow": null,
            "overflow_x": null,
            "overflow_y": null,
            "padding": null,
            "right": null,
            "top": null,
            "visibility": null,
            "width": null
          }
        },
        "8ab6a4564b10413fa4f478f63ed46cbb": {
          "model_module": "@jupyter-widgets/controls",
          "model_name": "ProgressStyleModel",
          "model_module_version": "1.5.0",
          "state": {
            "_model_module": "@jupyter-widgets/controls",
            "_model_module_version": "1.5.0",
            "_model_name": "ProgressStyleModel",
            "_view_count": null,
            "_view_module": "@jupyter-widgets/base",
            "_view_module_version": "1.2.0",
            "_view_name": "StyleView",
            "bar_color": null,
            "description_width": ""
          }
        },
        "bcfebcccdf71473594077403a0fba652": {
          "model_module": "@jupyter-widgets/base",
          "model_name": "LayoutModel",
          "model_module_version": "1.2.0",
          "state": {
            "_model_module": "@jupyter-widgets/base",
            "_model_module_version": "1.2.0",
            "_model_name": "LayoutModel",
            "_view_count": null,
            "_view_module": "@jupyter-widgets/base",
            "_view_module_version": "1.2.0",
            "_view_name": "LayoutView",
            "align_content": null,
            "align_items": null,
            "align_self": null,
            "border": null,
            "bottom": null,
            "display": null,
            "flex": null,
            "flex_flow": null,
            "grid_area": null,
            "grid_auto_columns": null,
            "grid_auto_flow": null,
            "grid_auto_rows": null,
            "grid_column": null,
            "grid_gap": null,
            "grid_row": null,
            "grid_template_areas": null,
            "grid_template_columns": null,
            "grid_template_rows": null,
            "height": null,
            "justify_content": null,
            "justify_items": null,
            "left": null,
            "margin": null,
            "max_height": null,
            "max_width": null,
            "min_height": null,
            "min_width": null,
            "object_fit": null,
            "object_position": null,
            "order": null,
            "overflow": null,
            "overflow_x": null,
            "overflow_y": null,
            "padding": null,
            "right": null,
            "top": null,
            "visibility": null,
            "width": null
          }
        },
        "549d1e56c78f474fa2dc0ac36dd8de56": {
          "model_module": "@jupyter-widgets/controls",
          "model_name": "DescriptionStyleModel",
          "model_module_version": "1.5.0",
          "state": {
            "_model_module": "@jupyter-widgets/controls",
            "_model_module_version": "1.5.0",
            "_model_name": "DescriptionStyleModel",
            "_view_count": null,
            "_view_module": "@jupyter-widgets/base",
            "_view_module_version": "1.2.0",
            "_view_name": "StyleView",
            "description_width": ""
          }
        },
        "02668596f0fe40a1ba6e37df759496f3": {
          "model_module": "@jupyter-widgets/controls",
          "model_name": "HBoxModel",
          "model_module_version": "1.5.0",
          "state": {
            "_dom_classes": [],
            "_model_module": "@jupyter-widgets/controls",
            "_model_module_version": "1.5.0",
            "_model_name": "HBoxModel",
            "_view_count": null,
            "_view_module": "@jupyter-widgets/controls",
            "_view_module_version": "1.5.0",
            "_view_name": "HBoxView",
            "box_style": "",
            "children": [
              "IPY_MODEL_d2df81e1f310444dba0157a2c6f868e2",
              "IPY_MODEL_37679d95735e4c8098f907a928445aa8",
              "IPY_MODEL_37507580055c475bacee6d6c3cf7e8d9"
            ],
            "layout": "IPY_MODEL_a9df8fef365146c7b0a8bce6b1952550"
          }
        },
        "d2df81e1f310444dba0157a2c6f868e2": {
          "model_module": "@jupyter-widgets/controls",
          "model_name": "HTMLModel",
          "model_module_version": "1.5.0",
          "state": {
            "_dom_classes": [],
            "_model_module": "@jupyter-widgets/controls",
            "_model_module_version": "1.5.0",
            "_model_name": "HTMLModel",
            "_view_count": null,
            "_view_module": "@jupyter-widgets/controls",
            "_view_module_version": "1.5.0",
            "_view_name": "HTMLView",
            "description": "",
            "description_tooltip": null,
            "layout": "IPY_MODEL_fb4061b16a014bb6a4ea1bcc7e73d0f4",
            "placeholder": "​",
            "style": "IPY_MODEL_5cf7c93edd2549319474d011292d7707",
            "value": "parliament_speeches.csv: 100%"
          }
        },
        "37679d95735e4c8098f907a928445aa8": {
          "model_module": "@jupyter-widgets/controls",
          "model_name": "FloatProgressModel",
          "model_module_version": "1.5.0",
          "state": {
            "_dom_classes": [],
            "_model_module": "@jupyter-widgets/controls",
            "_model_module_version": "1.5.0",
            "_model_name": "FloatProgressModel",
            "_view_count": null,
            "_view_module": "@jupyter-widgets/controls",
            "_view_module_version": "1.5.0",
            "_view_name": "ProgressView",
            "bar_style": "success",
            "description": "",
            "description_tooltip": null,
            "layout": "IPY_MODEL_5d7eb25579a6493eab3cc280452860e2",
            "max": 535193669,
            "min": 0,
            "orientation": "horizontal",
            "style": "IPY_MODEL_2103118625e54b1e9d5d84e15a6863ef",
            "value": 535193669
          }
        },
        "37507580055c475bacee6d6c3cf7e8d9": {
          "model_module": "@jupyter-widgets/controls",
          "model_name": "HTMLModel",
          "model_module_version": "1.5.0",
          "state": {
            "_dom_classes": [],
            "_model_module": "@jupyter-widgets/controls",
            "_model_module_version": "1.5.0",
            "_model_name": "HTMLModel",
            "_view_count": null,
            "_view_module": "@jupyter-widgets/controls",
            "_view_module_version": "1.5.0",
            "_view_name": "HTMLView",
            "description": "",
            "description_tooltip": null,
            "layout": "IPY_MODEL_4e7fed74b88041ad937ba93aa14cb31d",
            "placeholder": "​",
            "style": "IPY_MODEL_a162e6ceb87f45afbf41588087124b5c",
            "value": " 535M/535M [00:04&lt;00:00, 154MB/s]"
          }
        },
        "a9df8fef365146c7b0a8bce6b1952550": {
          "model_module": "@jupyter-widgets/base",
          "model_name": "LayoutModel",
          "model_module_version": "1.2.0",
          "state": {
            "_model_module": "@jupyter-widgets/base",
            "_model_module_version": "1.2.0",
            "_model_name": "LayoutModel",
            "_view_count": null,
            "_view_module": "@jupyter-widgets/base",
            "_view_module_version": "1.2.0",
            "_view_name": "LayoutView",
            "align_content": null,
            "align_items": null,
            "align_self": null,
            "border": null,
            "bottom": null,
            "display": null,
            "flex": null,
            "flex_flow": null,
            "grid_area": null,
            "grid_auto_columns": null,
            "grid_auto_flow": null,
            "grid_auto_rows": null,
            "grid_column": null,
            "grid_gap": null,
            "grid_row": null,
            "grid_template_areas": null,
            "grid_template_columns": null,
            "grid_template_rows": null,
            "height": null,
            "justify_content": null,
            "justify_items": null,
            "left": null,
            "margin": null,
            "max_height": null,
            "max_width": null,
            "min_height": null,
            "min_width": null,
            "object_fit": null,
            "object_position": null,
            "order": null,
            "overflow": null,
            "overflow_x": null,
            "overflow_y": null,
            "padding": null,
            "right": null,
            "top": null,
            "visibility": null,
            "width": null
          }
        },
        "fb4061b16a014bb6a4ea1bcc7e73d0f4": {
          "model_module": "@jupyter-widgets/base",
          "model_name": "LayoutModel",
          "model_module_version": "1.2.0",
          "state": {
            "_model_module": "@jupyter-widgets/base",
            "_model_module_version": "1.2.0",
            "_model_name": "LayoutModel",
            "_view_count": null,
            "_view_module": "@jupyter-widgets/base",
            "_view_module_version": "1.2.0",
            "_view_name": "LayoutView",
            "align_content": null,
            "align_items": null,
            "align_self": null,
            "border": null,
            "bottom": null,
            "display": null,
            "flex": null,
            "flex_flow": null,
            "grid_area": null,
            "grid_auto_columns": null,
            "grid_auto_flow": null,
            "grid_auto_rows": null,
            "grid_column": null,
            "grid_gap": null,
            "grid_row": null,
            "grid_template_areas": null,
            "grid_template_columns": null,
            "grid_template_rows": null,
            "height": null,
            "justify_content": null,
            "justify_items": null,
            "left": null,
            "margin": null,
            "max_height": null,
            "max_width": null,
            "min_height": null,
            "min_width": null,
            "object_fit": null,
            "object_position": null,
            "order": null,
            "overflow": null,
            "overflow_x": null,
            "overflow_y": null,
            "padding": null,
            "right": null,
            "top": null,
            "visibility": null,
            "width": null
          }
        },
        "5cf7c93edd2549319474d011292d7707": {
          "model_module": "@jupyter-widgets/controls",
          "model_name": "DescriptionStyleModel",
          "model_module_version": "1.5.0",
          "state": {
            "_model_module": "@jupyter-widgets/controls",
            "_model_module_version": "1.5.0",
            "_model_name": "DescriptionStyleModel",
            "_view_count": null,
            "_view_module": "@jupyter-widgets/base",
            "_view_module_version": "1.2.0",
            "_view_name": "StyleView",
            "description_width": ""
          }
        },
        "5d7eb25579a6493eab3cc280452860e2": {
          "model_module": "@jupyter-widgets/base",
          "model_name": "LayoutModel",
          "model_module_version": "1.2.0",
          "state": {
            "_model_module": "@jupyter-widgets/base",
            "_model_module_version": "1.2.0",
            "_model_name": "LayoutModel",
            "_view_count": null,
            "_view_module": "@jupyter-widgets/base",
            "_view_module_version": "1.2.0",
            "_view_name": "LayoutView",
            "align_content": null,
            "align_items": null,
            "align_self": null,
            "border": null,
            "bottom": null,
            "display": null,
            "flex": null,
            "flex_flow": null,
            "grid_area": null,
            "grid_auto_columns": null,
            "grid_auto_flow": null,
            "grid_auto_rows": null,
            "grid_column": null,
            "grid_gap": null,
            "grid_row": null,
            "grid_template_areas": null,
            "grid_template_columns": null,
            "grid_template_rows": null,
            "height": null,
            "justify_content": null,
            "justify_items": null,
            "left": null,
            "margin": null,
            "max_height": null,
            "max_width": null,
            "min_height": null,
            "min_width": null,
            "object_fit": null,
            "object_position": null,
            "order": null,
            "overflow": null,
            "overflow_x": null,
            "overflow_y": null,
            "padding": null,
            "right": null,
            "top": null,
            "visibility": null,
            "width": null
          }
        },
        "2103118625e54b1e9d5d84e15a6863ef": {
          "model_module": "@jupyter-widgets/controls",
          "model_name": "ProgressStyleModel",
          "model_module_version": "1.5.0",
          "state": {
            "_model_module": "@jupyter-widgets/controls",
            "_model_module_version": "1.5.0",
            "_model_name": "ProgressStyleModel",
            "_view_count": null,
            "_view_module": "@jupyter-widgets/base",
            "_view_module_version": "1.2.0",
            "_view_name": "StyleView",
            "bar_color": null,
            "description_width": ""
          }
        },
        "4e7fed74b88041ad937ba93aa14cb31d": {
          "model_module": "@jupyter-widgets/base",
          "model_name": "LayoutModel",
          "model_module_version": "1.2.0",
          "state": {
            "_model_module": "@jupyter-widgets/base",
            "_model_module_version": "1.2.0",
            "_model_name": "LayoutModel",
            "_view_count": null,
            "_view_module": "@jupyter-widgets/base",
            "_view_module_version": "1.2.0",
            "_view_name": "LayoutView",
            "align_content": null,
            "align_items": null,
            "align_self": null,
            "border": null,
            "bottom": null,
            "display": null,
            "flex": null,
            "flex_flow": null,
            "grid_area": null,
            "grid_auto_columns": null,
            "grid_auto_flow": null,
            "grid_auto_rows": null,
            "grid_column": null,
            "grid_gap": null,
            "grid_row": null,
            "grid_template_areas": null,
            "grid_template_columns": null,
            "grid_template_rows": null,
            "height": null,
            "justify_content": null,
            "justify_items": null,
            "left": null,
            "margin": null,
            "max_height": null,
            "max_width": null,
            "min_height": null,
            "min_width": null,
            "object_fit": null,
            "object_position": null,
            "order": null,
            "overflow": null,
            "overflow_x": null,
            "overflow_y": null,
            "padding": null,
            "right": null,
            "top": null,
            "visibility": null,
            "width": null
          }
        },
        "a162e6ceb87f45afbf41588087124b5c": {
          "model_module": "@jupyter-widgets/controls",
          "model_name": "DescriptionStyleModel",
          "model_module_version": "1.5.0",
          "state": {
            "_model_module": "@jupyter-widgets/controls",
            "_model_module_version": "1.5.0",
            "_model_name": "DescriptionStyleModel",
            "_view_count": null,
            "_view_module": "@jupyter-widgets/base",
            "_view_module_version": "1.2.0",
            "_view_name": "StyleView",
            "description_width": ""
          }
        },
        "91658e7988a440bc9bd1daaf96878f42": {
          "model_module": "@jupyter-widgets/controls",
          "model_name": "HBoxModel",
          "model_module_version": "1.5.0",
          "state": {
            "_dom_classes": [],
            "_model_module": "@jupyter-widgets/controls",
            "_model_module_version": "1.5.0",
            "_model_name": "HBoxModel",
            "_view_count": null,
            "_view_module": "@jupyter-widgets/controls",
            "_view_module_version": "1.5.0",
            "_view_name": "HBoxView",
            "box_style": "",
            "children": [
              "IPY_MODEL_8b0a54ad94f54e7faa5a26afa0646024",
              "IPY_MODEL_b32e369c469b455690e83c2fcec5ebf8",
              "IPY_MODEL_2ae9affb760b4b93afc5d037fc0dbac3"
            ],
            "layout": "IPY_MODEL_9b25b9a810ba4f4eb28efc09e39ee13c"
          }
        },
        "8b0a54ad94f54e7faa5a26afa0646024": {
          "model_module": "@jupyter-widgets/controls",
          "model_name": "HTMLModel",
          "model_module_version": "1.5.0",
          "state": {
            "_dom_classes": [],
            "_model_module": "@jupyter-widgets/controls",
            "_model_module_version": "1.5.0",
            "_model_name": "HTMLModel",
            "_view_count": null,
            "_view_module": "@jupyter-widgets/controls",
            "_view_module_version": "1.5.0",
            "_view_name": "HTMLView",
            "description": "",
            "description_tooltip": null,
            "layout": "IPY_MODEL_037675a0fb044642ad472749fb0e010c",
            "placeholder": "​",
            "style": "IPY_MODEL_a35326e8d22e4691ae6def97ee8d065d",
            "value": "Generating train split: 100%"
          }
        },
        "b32e369c469b455690e83c2fcec5ebf8": {
          "model_module": "@jupyter-widgets/controls",
          "model_name": "FloatProgressModel",
          "model_module_version": "1.5.0",
          "state": {
            "_dom_classes": [],
            "_model_module": "@jupyter-widgets/controls",
            "_model_module_version": "1.5.0",
            "_model_name": "FloatProgressModel",
            "_view_count": null,
            "_view_module": "@jupyter-widgets/controls",
            "_view_module_version": "1.5.0",
            "_view_name": "ProgressView",
            "bar_style": "success",
            "description": "",
            "description_tooltip": null,
            "layout": "IPY_MODEL_2d75ed9775b8435fba540939c86ec7d1",
            "max": 274204,
            "min": 0,
            "orientation": "horizontal",
            "style": "IPY_MODEL_0a2b9701192141bbafcc8916df07282b",
            "value": 274204
          }
        },
        "2ae9affb760b4b93afc5d037fc0dbac3": {
          "model_module": "@jupyter-widgets/controls",
          "model_name": "HTMLModel",
          "model_module_version": "1.5.0",
          "state": {
            "_dom_classes": [],
            "_model_module": "@jupyter-widgets/controls",
            "_model_module_version": "1.5.0",
            "_model_name": "HTMLModel",
            "_view_count": null,
            "_view_module": "@jupyter-widgets/controls",
            "_view_module_version": "1.5.0",
            "_view_name": "HTMLView",
            "description": "",
            "description_tooltip": null,
            "layout": "IPY_MODEL_3884de9fcf004d248972c5b2aebe943c",
            "placeholder": "​",
            "style": "IPY_MODEL_37f5ce15f04f48069453930481d910b9",
            "value": " 274204/274204 [00:15&lt;00:00, 25136.51 examples/s]"
          }
        },
        "9b25b9a810ba4f4eb28efc09e39ee13c": {
          "model_module": "@jupyter-widgets/base",
          "model_name": "LayoutModel",
          "model_module_version": "1.2.0",
          "state": {
            "_model_module": "@jupyter-widgets/base",
            "_model_module_version": "1.2.0",
            "_model_name": "LayoutModel",
            "_view_count": null,
            "_view_module": "@jupyter-widgets/base",
            "_view_module_version": "1.2.0",
            "_view_name": "LayoutView",
            "align_content": null,
            "align_items": null,
            "align_self": null,
            "border": null,
            "bottom": null,
            "display": null,
            "flex": null,
            "flex_flow": null,
            "grid_area": null,
            "grid_auto_columns": null,
            "grid_auto_flow": null,
            "grid_auto_rows": null,
            "grid_column": null,
            "grid_gap": null,
            "grid_row": null,
            "grid_template_areas": null,
            "grid_template_columns": null,
            "grid_template_rows": null,
            "height": null,
            "justify_content": null,
            "justify_items": null,
            "left": null,
            "margin": null,
            "max_height": null,
            "max_width": null,
            "min_height": null,
            "min_width": null,
            "object_fit": null,
            "object_position": null,
            "order": null,
            "overflow": null,
            "overflow_x": null,
            "overflow_y": null,
            "padding": null,
            "right": null,
            "top": null,
            "visibility": null,
            "width": null
          }
        },
        "037675a0fb044642ad472749fb0e010c": {
          "model_module": "@jupyter-widgets/base",
          "model_name": "LayoutModel",
          "model_module_version": "1.2.0",
          "state": {
            "_model_module": "@jupyter-widgets/base",
            "_model_module_version": "1.2.0",
            "_model_name": "LayoutModel",
            "_view_count": null,
            "_view_module": "@jupyter-widgets/base",
            "_view_module_version": "1.2.0",
            "_view_name": "LayoutView",
            "align_content": null,
            "align_items": null,
            "align_self": null,
            "border": null,
            "bottom": null,
            "display": null,
            "flex": null,
            "flex_flow": null,
            "grid_area": null,
            "grid_auto_columns": null,
            "grid_auto_flow": null,
            "grid_auto_rows": null,
            "grid_column": null,
            "grid_gap": null,
            "grid_row": null,
            "grid_template_areas": null,
            "grid_template_columns": null,
            "grid_template_rows": null,
            "height": null,
            "justify_content": null,
            "justify_items": null,
            "left": null,
            "margin": null,
            "max_height": null,
            "max_width": null,
            "min_height": null,
            "min_width": null,
            "object_fit": null,
            "object_position": null,
            "order": null,
            "overflow": null,
            "overflow_x": null,
            "overflow_y": null,
            "padding": null,
            "right": null,
            "top": null,
            "visibility": null,
            "width": null
          }
        },
        "a35326e8d22e4691ae6def97ee8d065d": {
          "model_module": "@jupyter-widgets/controls",
          "model_name": "DescriptionStyleModel",
          "model_module_version": "1.5.0",
          "state": {
            "_model_module": "@jupyter-widgets/controls",
            "_model_module_version": "1.5.0",
            "_model_name": "DescriptionStyleModel",
            "_view_count": null,
            "_view_module": "@jupyter-widgets/base",
            "_view_module_version": "1.2.0",
            "_view_name": "StyleView",
            "description_width": ""
          }
        },
        "2d75ed9775b8435fba540939c86ec7d1": {
          "model_module": "@jupyter-widgets/base",
          "model_name": "LayoutModel",
          "model_module_version": "1.2.0",
          "state": {
            "_model_module": "@jupyter-widgets/base",
            "_model_module_version": "1.2.0",
            "_model_name": "LayoutModel",
            "_view_count": null,
            "_view_module": "@jupyter-widgets/base",
            "_view_module_version": "1.2.0",
            "_view_name": "LayoutView",
            "align_content": null,
            "align_items": null,
            "align_self": null,
            "border": null,
            "bottom": null,
            "display": null,
            "flex": null,
            "flex_flow": null,
            "grid_area": null,
            "grid_auto_columns": null,
            "grid_auto_flow": null,
            "grid_auto_rows": null,
            "grid_column": null,
            "grid_gap": null,
            "grid_row": null,
            "grid_template_areas": null,
            "grid_template_columns": null,
            "grid_template_rows": null,
            "height": null,
            "justify_content": null,
            "justify_items": null,
            "left": null,
            "margin": null,
            "max_height": null,
            "max_width": null,
            "min_height": null,
            "min_width": null,
            "object_fit": null,
            "object_position": null,
            "order": null,
            "overflow": null,
            "overflow_x": null,
            "overflow_y": null,
            "padding": null,
            "right": null,
            "top": null,
            "visibility": null,
            "width": null
          }
        },
        "0a2b9701192141bbafcc8916df07282b": {
          "model_module": "@jupyter-widgets/controls",
          "model_name": "ProgressStyleModel",
          "model_module_version": "1.5.0",
          "state": {
            "_model_module": "@jupyter-widgets/controls",
            "_model_module_version": "1.5.0",
            "_model_name": "ProgressStyleModel",
            "_view_count": null,
            "_view_module": "@jupyter-widgets/base",
            "_view_module_version": "1.2.0",
            "_view_name": "StyleView",
            "bar_color": null,
            "description_width": ""
          }
        },
        "3884de9fcf004d248972c5b2aebe943c": {
          "model_module": "@jupyter-widgets/base",
          "model_name": "LayoutModel",
          "model_module_version": "1.2.0",
          "state": {
            "_model_module": "@jupyter-widgets/base",
            "_model_module_version": "1.2.0",
            "_model_name": "LayoutModel",
            "_view_count": null,
            "_view_module": "@jupyter-widgets/base",
            "_view_module_version": "1.2.0",
            "_view_name": "LayoutView",
            "align_content": null,
            "align_items": null,
            "align_self": null,
            "border": null,
            "bottom": null,
            "display": null,
            "flex": null,
            "flex_flow": null,
            "grid_area": null,
            "grid_auto_columns": null,
            "grid_auto_flow": null,
            "grid_auto_rows": null,
            "grid_column": null,
            "grid_gap": null,
            "grid_row": null,
            "grid_template_areas": null,
            "grid_template_columns": null,
            "grid_template_rows": null,
            "height": null,
            "justify_content": null,
            "justify_items": null,
            "left": null,
            "margin": null,
            "max_height": null,
            "max_width": null,
            "min_height": null,
            "min_width": null,
            "object_fit": null,
            "object_position": null,
            "order": null,
            "overflow": null,
            "overflow_x": null,
            "overflow_y": null,
            "padding": null,
            "right": null,
            "top": null,
            "visibility": null,
            "width": null
          }
        },
        "37f5ce15f04f48069453930481d910b9": {
          "model_module": "@jupyter-widgets/controls",
          "model_name": "DescriptionStyleModel",
          "model_module_version": "1.5.0",
          "state": {
            "_model_module": "@jupyter-widgets/controls",
            "_model_module_version": "1.5.0",
            "_model_name": "DescriptionStyleModel",
            "_view_count": null,
            "_view_module": "@jupyter-widgets/base",
            "_view_module_version": "1.2.0",
            "_view_name": "StyleView",
            "description_width": ""
          }
        }
      }
    }
  },
  "cells": [
    {
      "cell_type": "markdown",
      "source": [
        "# Helpers"
      ],
      "metadata": {
        "id": "-Pq8FCIqMEBR"
      }
    },
    {
      "cell_type": "code",
      "execution_count": null,
      "metadata": {
        "id": "A4E6sbs1yL04"
      },
      "outputs": [],
      "source": [
        "import pandas as pd\n",
        "import string\n",
        "\n",
        "def calculate_target_word_frequency(df, target_word, text_column=\"text\"):\n",
        "    total_count = 0\n",
        "\n",
        "    for doc in df[text_column]:\n",
        "        s_no_punctuation = ''.join(ch for ch in doc if ch not in string.punctuation).lower()\n",
        "        total_count += s_no_punctuation.count(target_word.lower())\n",
        "\n",
        "    return total_count\n",
        "\n",
        "\n",
        "\n",
        "def generate_speaker_and_general_corpus_within_timeframe(df, speaker_dict, name):\n",
        "    df_copy = df.copy()\n",
        "    speaker_corp = speaker_dict[name]\n",
        "\n",
        "    speaker_years = speaker_corp['date'].dt.year.unique()\n",
        "    print('speaker years', speaker_years)\n",
        "\n",
        "    # Filtrer ut rader med andre navn, men som er i samme år\n",
        "    general_corp = df_copy[\n",
        "        (df_copy['name'] != name) &\n",
        "        (df_copy['date'].dt.year.isin(speaker_years))\n",
        "    ]\n",
        "\n",
        "    return general_corp, speaker_corp"
      ]
    },
    {
      "cell_type": "code",
      "source": [
        "import pandas as pd\n",
        "import nltk\n",
        "from nltk.tokenize import word_tokenize\n",
        "\n",
        "nltk.download(\"punkt\")\n",
        "nltk.download('punkt_tab')\n",
        "\n",
        "def count_total_tokens(df, text_column=\"text\"):\n",
        "    total_tokens = 0\n",
        "    for doc in df[text_column]:\n",
        "        tokens = word_tokenize(str(doc))\n",
        "        total_tokens += len(tokens)\n",
        "    return total_tokens\n"
      ],
      "metadata": {
        "colab": {
          "base_uri": "https://localhost:8080/"
        },
        "id": "9BeQTwUkUJXH",
        "outputId": "8013d553-2ceb-4952-ccac-52bc67e9664b"
      },
      "execution_count": null,
      "outputs": [
        {
          "output_type": "stream",
          "name": "stderr",
          "text": [
            "[nltk_data] Downloading package punkt to /root/nltk_data...\n",
            "[nltk_data]   Unzipping tokenizers/punkt.zip.\n",
            "[nltk_data] Downloading package punkt_tab to /root/nltk_data...\n",
            "[nltk_data]   Unzipping tokenizers/punkt_tab.zip.\n"
          ]
        }
      ]
    },
    {
      "cell_type": "code",
      "source": [
        "def normalize_frequency(word_count, total_tokens):\n",
        "    return (word_count / total_tokens)*1000"
      ],
      "metadata": {
        "id": "-9YUPTpRVSfI"
      },
      "execution_count": null,
      "outputs": []
    },
    {
      "cell_type": "code",
      "source": [
        "import numpy as np\n",
        "\n",
        "def compute_frq_d(ref_freq, foc_freq):\n",
        "    return abs(np.log(ref_freq) - np.log(foc_freq))\n",
        "\n",
        "def compute_frq_m(ref_freq, foc_freq):\n",
        "    return min(np.log(ref_freq), np.log(foc_freq))"
      ],
      "metadata": {
        "id": "LFAMCCRtwJ3I"
      },
      "execution_count": null,
      "outputs": []
    },
    {
      "cell_type": "code",
      "source": [
        "import numpy as np\n",
        "\n",
        "def print_rank(system_scores):\n",
        "    sorted_list = sorted(system_scores, key=lambda x: x[1], reverse=True)\n",
        "    rank = [x[0] for x in sorted_list]\n",
        "    print(rank)"
      ],
      "metadata": {
        "id": "jS0UYo580Kdi"
      },
      "execution_count": null,
      "outputs": []
    },
    {
      "cell_type": "code",
      "source": [
        "from scipy.stats import spearmanr\n",
        "\n",
        "def spearman_corr_by_speaker(system_ranked, freq_metric_by_speaker):\n",
        "    speaker_ids = [entry[1] for entry in system_ranked]\n",
        "    predicted_scores = [entry[2] for entry in system_ranked]\n",
        "    freq_values = [freq_metric_by_speaker[sid] for sid in speaker_ids]\n",
        "\n",
        "    r, _ = spearmanr(predicted_scores, freq_values)\n",
        "    return r"
      ],
      "metadata": {
        "id": "Nr97sFzn0WSh"
      },
      "execution_count": null,
      "outputs": []
    },
    {
      "cell_type": "code",
      "source": [
        "from scipy.stats import spearmanr\n",
        "\n",
        "def spearman_systems(gold_rank, other_rank):\n",
        "    gold = [x[1] for x in gold_rank]\n",
        "    other = [x[1] for x in other_rank]\n",
        "    corr, _ = spearmanr(gold, other)\n",
        "    return corr"
      ],
      "metadata": {
        "id": "X0hiQ2_vDvQv"
      },
      "execution_count": null,
      "outputs": []
    },
    {
      "cell_type": "markdown",
      "source": [
        "# Load data"
      ],
      "metadata": {
        "id": "0yS2916uMGPQ"
      }
    },
    {
      "cell_type": "code",
      "source": [
        "!pip install datasets"
      ],
      "metadata": {
        "colab": {
          "base_uri": "https://localhost:8080/"
        },
        "collapsed": true,
        "id": "UlEr0BEFz7Vg",
        "outputId": "684f165e-dbeb-465c-e02a-bbeaca3b2308"
      },
      "execution_count": null,
      "outputs": [
        {
          "output_type": "stream",
          "name": "stdout",
          "text": [
            "Collecting datasets\n",
            "  Downloading datasets-3.6.0-py3-none-any.whl.metadata (19 kB)\n",
            "Requirement already satisfied: filelock in /usr/local/lib/python3.11/dist-packages (from datasets) (3.18.0)\n",
            "Requirement already satisfied: numpy>=1.17 in /usr/local/lib/python3.11/dist-packages (from datasets) (2.0.2)\n",
            "Requirement already satisfied: pyarrow>=15.0.0 in /usr/local/lib/python3.11/dist-packages (from datasets) (18.1.0)\n",
            "Collecting dill<0.3.9,>=0.3.0 (from datasets)\n",
            "  Downloading dill-0.3.8-py3-none-any.whl.metadata (10 kB)\n",
            "Requirement already satisfied: pandas in /usr/local/lib/python3.11/dist-packages (from datasets) (2.2.2)\n",
            "Requirement already satisfied: requests>=2.32.2 in /usr/local/lib/python3.11/dist-packages (from datasets) (2.32.3)\n",
            "Requirement already satisfied: tqdm>=4.66.3 in /usr/local/lib/python3.11/dist-packages (from datasets) (4.67.1)\n",
            "Collecting xxhash (from datasets)\n",
            "  Downloading xxhash-3.5.0-cp311-cp311-manylinux_2_17_x86_64.manylinux2014_x86_64.whl.metadata (12 kB)\n",
            "Collecting multiprocess<0.70.17 (from datasets)\n",
            "  Downloading multiprocess-0.70.16-py311-none-any.whl.metadata (7.2 kB)\n",
            "Collecting fsspec<=2025.3.0,>=2023.1.0 (from fsspec[http]<=2025.3.0,>=2023.1.0->datasets)\n",
            "  Downloading fsspec-2025.3.0-py3-none-any.whl.metadata (11 kB)\n",
            "Requirement already satisfied: huggingface-hub>=0.24.0 in /usr/local/lib/python3.11/dist-packages (from datasets) (0.30.2)\n",
            "Requirement already satisfied: packaging in /usr/local/lib/python3.11/dist-packages (from datasets) (24.2)\n",
            "Requirement already satisfied: pyyaml>=5.1 in /usr/local/lib/python3.11/dist-packages (from datasets) (6.0.2)\n",
            "Requirement already satisfied: aiohttp!=4.0.0a0,!=4.0.0a1 in /usr/local/lib/python3.11/dist-packages (from fsspec[http]<=2025.3.0,>=2023.1.0->datasets) (3.11.15)\n",
            "Requirement already satisfied: typing-extensions>=3.7.4.3 in /usr/local/lib/python3.11/dist-packages (from huggingface-hub>=0.24.0->datasets) (4.13.2)\n",
            "Requirement already satisfied: charset-normalizer<4,>=2 in /usr/local/lib/python3.11/dist-packages (from requests>=2.32.2->datasets) (3.4.1)\n",
            "Requirement already satisfied: idna<4,>=2.5 in /usr/local/lib/python3.11/dist-packages (from requests>=2.32.2->datasets) (3.10)\n",
            "Requirement already satisfied: urllib3<3,>=1.21.1 in /usr/local/lib/python3.11/dist-packages (from requests>=2.32.2->datasets) (2.4.0)\n",
            "Requirement already satisfied: certifi>=2017.4.17 in /usr/local/lib/python3.11/dist-packages (from requests>=2.32.2->datasets) (2025.4.26)\n",
            "Requirement already satisfied: python-dateutil>=2.8.2 in /usr/local/lib/python3.11/dist-packages (from pandas->datasets) (2.9.0.post0)\n",
            "Requirement already satisfied: pytz>=2020.1 in /usr/local/lib/python3.11/dist-packages (from pandas->datasets) (2025.2)\n",
            "Requirement already satisfied: tzdata>=2022.7 in /usr/local/lib/python3.11/dist-packages (from pandas->datasets) (2025.2)\n",
            "Requirement already satisfied: aiohappyeyeballs>=2.3.0 in /usr/local/lib/python3.11/dist-packages (from aiohttp!=4.0.0a0,!=4.0.0a1->fsspec[http]<=2025.3.0,>=2023.1.0->datasets) (2.6.1)\n",
            "Requirement already satisfied: aiosignal>=1.1.2 in /usr/local/lib/python3.11/dist-packages (from aiohttp!=4.0.0a0,!=4.0.0a1->fsspec[http]<=2025.3.0,>=2023.1.0->datasets) (1.3.2)\n",
            "Requirement already satisfied: attrs>=17.3.0 in /usr/local/lib/python3.11/dist-packages (from aiohttp!=4.0.0a0,!=4.0.0a1->fsspec[http]<=2025.3.0,>=2023.1.0->datasets) (25.3.0)\n",
            "Requirement already satisfied: frozenlist>=1.1.1 in /usr/local/lib/python3.11/dist-packages (from aiohttp!=4.0.0a0,!=4.0.0a1->fsspec[http]<=2025.3.0,>=2023.1.0->datasets) (1.6.0)\n",
            "Requirement already satisfied: multidict<7.0,>=4.5 in /usr/local/lib/python3.11/dist-packages (from aiohttp!=4.0.0a0,!=4.0.0a1->fsspec[http]<=2025.3.0,>=2023.1.0->datasets) (6.4.3)\n",
            "Requirement already satisfied: propcache>=0.2.0 in /usr/local/lib/python3.11/dist-packages (from aiohttp!=4.0.0a0,!=4.0.0a1->fsspec[http]<=2025.3.0,>=2023.1.0->datasets) (0.3.1)\n",
            "Requirement already satisfied: yarl<2.0,>=1.17.0 in /usr/local/lib/python3.11/dist-packages (from aiohttp!=4.0.0a0,!=4.0.0a1->fsspec[http]<=2025.3.0,>=2023.1.0->datasets) (1.20.0)\n",
            "Requirement already satisfied: six>=1.5 in /usr/local/lib/python3.11/dist-packages (from python-dateutil>=2.8.2->pandas->datasets) (1.17.0)\n",
            "Downloading datasets-3.6.0-py3-none-any.whl (491 kB)\n",
            "\u001b[2K   \u001b[90m━━━━━━━━━━━━━━━━━━━━━━━━━━━━━━━━━━━━━━━━\u001b[0m \u001b[32m491.5/491.5 kB\u001b[0m \u001b[31m29.4 MB/s\u001b[0m eta \u001b[36m0:00:00\u001b[0m\n",
            "\u001b[?25hDownloading dill-0.3.8-py3-none-any.whl (116 kB)\n",
            "\u001b[2K   \u001b[90m━━━━━━━━━━━━━━━━━━━━━━━━━━━━━━━━━━━━━━━━\u001b[0m \u001b[32m116.3/116.3 kB\u001b[0m \u001b[31m11.4 MB/s\u001b[0m eta \u001b[36m0:00:00\u001b[0m\n",
            "\u001b[?25hDownloading fsspec-2025.3.0-py3-none-any.whl (193 kB)\n",
            "\u001b[2K   \u001b[90m━━━━━━━━━━━━━━━━━━━━━━━━━━━━━━━━━━━━━━━━\u001b[0m \u001b[32m193.6/193.6 kB\u001b[0m \u001b[31m18.8 MB/s\u001b[0m eta \u001b[36m0:00:00\u001b[0m\n",
            "\u001b[?25hDownloading multiprocess-0.70.16-py311-none-any.whl (143 kB)\n",
            "\u001b[2K   \u001b[90m━━━━━━━━━━━━━━━━━━━━━━━━━━━━━━━━━━━━━━━━\u001b[0m \u001b[32m143.5/143.5 kB\u001b[0m \u001b[31m13.6 MB/s\u001b[0m eta \u001b[36m0:00:00\u001b[0m\n",
            "\u001b[?25hDownloading xxhash-3.5.0-cp311-cp311-manylinux_2_17_x86_64.manylinux2014_x86_64.whl (194 kB)\n",
            "\u001b[2K   \u001b[90m━━━━━━━━━━━━━━━━━━━━━━━━━━━━━━━━━━━━━━━━\u001b[0m \u001b[32m194.8/194.8 kB\u001b[0m \u001b[31m18.9 MB/s\u001b[0m eta \u001b[36m0:00:00\u001b[0m\n",
            "\u001b[?25hInstalling collected packages: xxhash, fsspec, dill, multiprocess, datasets\n",
            "  Attempting uninstall: fsspec\n",
            "    Found existing installation: fsspec 2025.3.2\n",
            "    Uninstalling fsspec-2025.3.2:\n",
            "      Successfully uninstalled fsspec-2025.3.2\n",
            "\u001b[31mERROR: pip's dependency resolver does not currently take into account all the packages that are installed. This behaviour is the source of the following dependency conflicts.\n",
            "torch 2.6.0+cu124 requires nvidia-cublas-cu12==12.4.5.8; platform_system == \"Linux\" and platform_machine == \"x86_64\", but you have nvidia-cublas-cu12 12.5.3.2 which is incompatible.\n",
            "torch 2.6.0+cu124 requires nvidia-cuda-cupti-cu12==12.4.127; platform_system == \"Linux\" and platform_machine == \"x86_64\", but you have nvidia-cuda-cupti-cu12 12.5.82 which is incompatible.\n",
            "torch 2.6.0+cu124 requires nvidia-cuda-nvrtc-cu12==12.4.127; platform_system == \"Linux\" and platform_machine == \"x86_64\", but you have nvidia-cuda-nvrtc-cu12 12.5.82 which is incompatible.\n",
            "torch 2.6.0+cu124 requires nvidia-cuda-runtime-cu12==12.4.127; platform_system == \"Linux\" and platform_machine == \"x86_64\", but you have nvidia-cuda-runtime-cu12 12.5.82 which is incompatible.\n",
            "torch 2.6.0+cu124 requires nvidia-cudnn-cu12==9.1.0.70; platform_system == \"Linux\" and platform_machine == \"x86_64\", but you have nvidia-cudnn-cu12 9.3.0.75 which is incompatible.\n",
            "torch 2.6.0+cu124 requires nvidia-cufft-cu12==11.2.1.3; platform_system == \"Linux\" and platform_machine == \"x86_64\", but you have nvidia-cufft-cu12 11.2.3.61 which is incompatible.\n",
            "torch 2.6.0+cu124 requires nvidia-curand-cu12==10.3.5.147; platform_system == \"Linux\" and platform_machine == \"x86_64\", but you have nvidia-curand-cu12 10.3.6.82 which is incompatible.\n",
            "torch 2.6.0+cu124 requires nvidia-cusolver-cu12==11.6.1.9; platform_system == \"Linux\" and platform_machine == \"x86_64\", but you have nvidia-cusolver-cu12 11.6.3.83 which is incompatible.\n",
            "torch 2.6.0+cu124 requires nvidia-cusparse-cu12==12.3.1.170; platform_system == \"Linux\" and platform_machine == \"x86_64\", but you have nvidia-cusparse-cu12 12.5.1.3 which is incompatible.\n",
            "torch 2.6.0+cu124 requires nvidia-nvjitlink-cu12==12.4.127; platform_system == \"Linux\" and platform_machine == \"x86_64\", but you have nvidia-nvjitlink-cu12 12.5.82 which is incompatible.\n",
            "gcsfs 2025.3.2 requires fsspec==2025.3.2, but you have fsspec 2025.3.0 which is incompatible.\u001b[0m\u001b[31m\n",
            "\u001b[0mSuccessfully installed datasets-3.6.0 dill-0.3.8 fsspec-2025.3.0 multiprocess-0.70.16 xxhash-3.5.0\n"
          ]
        }
      ]
    },
    {
      "cell_type": "code",
      "source": [
        "from datasets import load_dataset\n",
        "\n",
        "ds_n = load_dataset(\"trymtv/norwegian-parliament-speeches\", split=\"train\")\n",
        "ds_n\n",
        "\n",
        "df_n = ds_n.to_pandas()"
      ],
      "metadata": {
        "colab": {
          "base_uri": "https://localhost:8080/",
          "height": 237,
          "referenced_widgets": [
            "82e8705082f04f029b4a7ff181e58ced",
            "22ba176e01774efba4ad041f45b36d6e",
            "93e12afd0afc40d1bfd5ba41b495b46a",
            "044045066ac74a51bf802b8c4e42b13d",
            "243e83edff3e4168913803edd7fadd70",
            "982dba5563c847aaac21f5a8aa32c837",
            "f92a74ffff1d4eecbbd222de1005638d",
            "1807133025674a3ab22d9a3536333258",
            "8ab6a4564b10413fa4f478f63ed46cbb",
            "bcfebcccdf71473594077403a0fba652",
            "549d1e56c78f474fa2dc0ac36dd8de56",
            "02668596f0fe40a1ba6e37df759496f3",
            "d2df81e1f310444dba0157a2c6f868e2",
            "37679d95735e4c8098f907a928445aa8",
            "37507580055c475bacee6d6c3cf7e8d9",
            "a9df8fef365146c7b0a8bce6b1952550",
            "fb4061b16a014bb6a4ea1bcc7e73d0f4",
            "5cf7c93edd2549319474d011292d7707",
            "5d7eb25579a6493eab3cc280452860e2",
            "2103118625e54b1e9d5d84e15a6863ef",
            "4e7fed74b88041ad937ba93aa14cb31d",
            "a162e6ceb87f45afbf41588087124b5c",
            "91658e7988a440bc9bd1daaf96878f42",
            "8b0a54ad94f54e7faa5a26afa0646024",
            "b32e369c469b455690e83c2fcec5ebf8",
            "2ae9affb760b4b93afc5d037fc0dbac3",
            "9b25b9a810ba4f4eb28efc09e39ee13c",
            "037675a0fb044642ad472749fb0e010c",
            "a35326e8d22e4691ae6def97ee8d065d",
            "2d75ed9775b8435fba540939c86ec7d1",
            "0a2b9701192141bbafcc8916df07282b",
            "3884de9fcf004d248972c5b2aebe943c",
            "37f5ce15f04f48069453930481d910b9"
          ]
        },
        "id": "QrwhJ7Kj0PyU",
        "outputId": "ae991c47-12c3-4f8d-9b4e-ac875ac40844"
      },
      "execution_count": null,
      "outputs": [
        {
          "output_type": "stream",
          "name": "stderr",
          "text": [
            "/usr/local/lib/python3.11/dist-packages/huggingface_hub/utils/_auth.py:94: UserWarning: \n",
            "The secret `HF_TOKEN` does not exist in your Colab secrets.\n",
            "To authenticate with the Hugging Face Hub, create a token in your settings tab (https://huggingface.co/settings/tokens), set it as secret in your Google Colab and restart your session.\n",
            "You will be able to reuse this secret in all of your notebooks.\n",
            "Please note that authentication is recommended but still optional to access public models or datasets.\n",
            "  warnings.warn(\n"
          ]
        },
        {
          "output_type": "display_data",
          "data": {
            "text/plain": [
              "README.md:   0%|          | 0.00/455 [00:00<?, ?B/s]"
            ],
            "application/vnd.jupyter.widget-view+json": {
              "version_major": 2,
              "version_minor": 0,
              "model_id": "82e8705082f04f029b4a7ff181e58ced"
            }
          },
          "metadata": {}
        },
        {
          "output_type": "display_data",
          "data": {
            "text/plain": [
              "parliament_speeches.csv:   0%|          | 0.00/535M [00:00<?, ?B/s]"
            ],
            "application/vnd.jupyter.widget-view+json": {
              "version_major": 2,
              "version_minor": 0,
              "model_id": "02668596f0fe40a1ba6e37df759496f3"
            }
          },
          "metadata": {}
        },
        {
          "output_type": "display_data",
          "data": {
            "text/plain": [
              "Generating train split:   0%|          | 0/274204 [00:00<?, ? examples/s]"
            ],
            "application/vnd.jupyter.widget-view+json": {
              "version_major": 2,
              "version_minor": 0,
              "model_id": "91658e7988a440bc9bd1daaf96878f42"
            }
          },
          "metadata": {}
        }
      ]
    },
    {
      "cell_type": "code",
      "source": [
        "import pandas as pd\n",
        "\n",
        "df_n['date'] = pd.to_datetime(df_n['date'])\n",
        "df_n['time_group'] = df_n['date'].apply(lambda x: 1 if x.year >= 1998 and x.year <= 2010 else 2)\n",
        "df_n[:5]"
      ],
      "metadata": {
        "colab": {
          "base_uri": "https://localhost:8080/",
          "height": 206
        },
        "id": "h2p09PM10TMz",
        "outputId": "b21807e5-03ed-4158-8516-c373e3cbd29c"
      },
      "execution_count": null,
      "outputs": [
        {
          "output_type": "execute_result",
          "data": {
            "text/plain": [
              "             name sex                 party  \\\n",
              "0     Laila Dåvøy   F  Kristelig Folkeparti   \n",
              "1     Laila Dåvøy   F  Kristelig Folkeparti   \n",
              "2  Dagrun Eriksen   F  Kristelig Folkeparti   \n",
              "3  Dagrun Eriksen   F  Kristelig Folkeparti   \n",
              "4  Dagrun Eriksen   F  Kristelig Folkeparti   \n",
              "\n",
              "                                                text       date  time_group  \n",
              "0  Jeg har gleden av å fremme et representantfors... 2013-04-17           2  \n",
              "1  La meg komme med et femte eksempel på sendrekt... 2013-04-17           2  \n",
              "2  Det er en ære å fremme et forslag på vegne av ... 2013-04-17           2  \n",
              "3  Det er ikke tvil om at veiprosjekter ikke har ... 2013-04-17           2  \n",
              "4  Jeg har et spørsmål til kirkeministeren. Kirke... 2013-04-17           2  "
            ],
            "text/html": [
              "\n",
              "  <div id=\"df-fd045100-f386-4f4f-873d-de8d2132b4cd\" class=\"colab-df-container\">\n",
              "    <div>\n",
              "<style scoped>\n",
              "    .dataframe tbody tr th:only-of-type {\n",
              "        vertical-align: middle;\n",
              "    }\n",
              "\n",
              "    .dataframe tbody tr th {\n",
              "        vertical-align: top;\n",
              "    }\n",
              "\n",
              "    .dataframe thead th {\n",
              "        text-align: right;\n",
              "    }\n",
              "</style>\n",
              "<table border=\"1\" class=\"dataframe\">\n",
              "  <thead>\n",
              "    <tr style=\"text-align: right;\">\n",
              "      <th></th>\n",
              "      <th>name</th>\n",
              "      <th>sex</th>\n",
              "      <th>party</th>\n",
              "      <th>text</th>\n",
              "      <th>date</th>\n",
              "      <th>time_group</th>\n",
              "    </tr>\n",
              "  </thead>\n",
              "  <tbody>\n",
              "    <tr>\n",
              "      <th>0</th>\n",
              "      <td>Laila Dåvøy</td>\n",
              "      <td>F</td>\n",
              "      <td>Kristelig Folkeparti</td>\n",
              "      <td>Jeg har gleden av å fremme et representantfors...</td>\n",
              "      <td>2013-04-17</td>\n",
              "      <td>2</td>\n",
              "    </tr>\n",
              "    <tr>\n",
              "      <th>1</th>\n",
              "      <td>Laila Dåvøy</td>\n",
              "      <td>F</td>\n",
              "      <td>Kristelig Folkeparti</td>\n",
              "      <td>La meg komme med et femte eksempel på sendrekt...</td>\n",
              "      <td>2013-04-17</td>\n",
              "      <td>2</td>\n",
              "    </tr>\n",
              "    <tr>\n",
              "      <th>2</th>\n",
              "      <td>Dagrun Eriksen</td>\n",
              "      <td>F</td>\n",
              "      <td>Kristelig Folkeparti</td>\n",
              "      <td>Det er en ære å fremme et forslag på vegne av ...</td>\n",
              "      <td>2013-04-17</td>\n",
              "      <td>2</td>\n",
              "    </tr>\n",
              "    <tr>\n",
              "      <th>3</th>\n",
              "      <td>Dagrun Eriksen</td>\n",
              "      <td>F</td>\n",
              "      <td>Kristelig Folkeparti</td>\n",
              "      <td>Det er ikke tvil om at veiprosjekter ikke har ...</td>\n",
              "      <td>2013-04-17</td>\n",
              "      <td>2</td>\n",
              "    </tr>\n",
              "    <tr>\n",
              "      <th>4</th>\n",
              "      <td>Dagrun Eriksen</td>\n",
              "      <td>F</td>\n",
              "      <td>Kristelig Folkeparti</td>\n",
              "      <td>Jeg har et spørsmål til kirkeministeren. Kirke...</td>\n",
              "      <td>2013-04-17</td>\n",
              "      <td>2</td>\n",
              "    </tr>\n",
              "  </tbody>\n",
              "</table>\n",
              "</div>\n",
              "    <div class=\"colab-df-buttons\">\n",
              "\n",
              "  <div class=\"colab-df-container\">\n",
              "    <button class=\"colab-df-convert\" onclick=\"convertToInteractive('df-fd045100-f386-4f4f-873d-de8d2132b4cd')\"\n",
              "            title=\"Convert this dataframe to an interactive table.\"\n",
              "            style=\"display:none;\">\n",
              "\n",
              "  <svg xmlns=\"http://www.w3.org/2000/svg\" height=\"24px\" viewBox=\"0 -960 960 960\">\n",
              "    <path d=\"M120-120v-720h720v720H120Zm60-500h600v-160H180v160Zm220 220h160v-160H400v160Zm0 220h160v-160H400v160ZM180-400h160v-160H180v160Zm440 0h160v-160H620v160ZM180-180h160v-160H180v160Zm440 0h160v-160H620v160Z\"/>\n",
              "  </svg>\n",
              "    </button>\n",
              "\n",
              "  <style>\n",
              "    .colab-df-container {\n",
              "      display:flex;\n",
              "      gap: 12px;\n",
              "    }\n",
              "\n",
              "    .colab-df-convert {\n",
              "      background-color: #E8F0FE;\n",
              "      border: none;\n",
              "      border-radius: 50%;\n",
              "      cursor: pointer;\n",
              "      display: none;\n",
              "      fill: #1967D2;\n",
              "      height: 32px;\n",
              "      padding: 0 0 0 0;\n",
              "      width: 32px;\n",
              "    }\n",
              "\n",
              "    .colab-df-convert:hover {\n",
              "      background-color: #E2EBFA;\n",
              "      box-shadow: 0px 1px 2px rgba(60, 64, 67, 0.3), 0px 1px 3px 1px rgba(60, 64, 67, 0.15);\n",
              "      fill: #174EA6;\n",
              "    }\n",
              "\n",
              "    .colab-df-buttons div {\n",
              "      margin-bottom: 4px;\n",
              "    }\n",
              "\n",
              "    [theme=dark] .colab-df-convert {\n",
              "      background-color: #3B4455;\n",
              "      fill: #D2E3FC;\n",
              "    }\n",
              "\n",
              "    [theme=dark] .colab-df-convert:hover {\n",
              "      background-color: #434B5C;\n",
              "      box-shadow: 0px 1px 3px 1px rgba(0, 0, 0, 0.15);\n",
              "      filter: drop-shadow(0px 1px 2px rgba(0, 0, 0, 0.3));\n",
              "      fill: #FFFFFF;\n",
              "    }\n",
              "  </style>\n",
              "\n",
              "    <script>\n",
              "      const buttonEl =\n",
              "        document.querySelector('#df-fd045100-f386-4f4f-873d-de8d2132b4cd button.colab-df-convert');\n",
              "      buttonEl.style.display =\n",
              "        google.colab.kernel.accessAllowed ? 'block' : 'none';\n",
              "\n",
              "      async function convertToInteractive(key) {\n",
              "        const element = document.querySelector('#df-fd045100-f386-4f4f-873d-de8d2132b4cd');\n",
              "        const dataTable =\n",
              "          await google.colab.kernel.invokeFunction('convertToInteractive',\n",
              "                                                    [key], {});\n",
              "        if (!dataTable) return;\n",
              "\n",
              "        const docLinkHtml = 'Like what you see? Visit the ' +\n",
              "          '<a target=\"_blank\" href=https://colab.research.google.com/notebooks/data_table.ipynb>data table notebook</a>'\n",
              "          + ' to learn more about interactive tables.';\n",
              "        element.innerHTML = '';\n",
              "        dataTable['output_type'] = 'display_data';\n",
              "        await google.colab.output.renderOutput(dataTable, element);\n",
              "        const docLink = document.createElement('div');\n",
              "        docLink.innerHTML = docLinkHtml;\n",
              "        element.appendChild(docLink);\n",
              "      }\n",
              "    </script>\n",
              "  </div>\n",
              "\n",
              "\n",
              "    <div id=\"df-efd1e42c-d505-48ce-821e-a3a6acaa91cc\">\n",
              "      <button class=\"colab-df-quickchart\" onclick=\"quickchart('df-efd1e42c-d505-48ce-821e-a3a6acaa91cc')\"\n",
              "                title=\"Suggest charts\"\n",
              "                style=\"display:none;\">\n",
              "\n",
              "<svg xmlns=\"http://www.w3.org/2000/svg\" height=\"24px\"viewBox=\"0 0 24 24\"\n",
              "     width=\"24px\">\n",
              "    <g>\n",
              "        <path d=\"M19 3H5c-1.1 0-2 .9-2 2v14c0 1.1.9 2 2 2h14c1.1 0 2-.9 2-2V5c0-1.1-.9-2-2-2zM9 17H7v-7h2v7zm4 0h-2V7h2v10zm4 0h-2v-4h2v4z\"/>\n",
              "    </g>\n",
              "</svg>\n",
              "      </button>\n",
              "\n",
              "<style>\n",
              "  .colab-df-quickchart {\n",
              "      --bg-color: #E8F0FE;\n",
              "      --fill-color: #1967D2;\n",
              "      --hover-bg-color: #E2EBFA;\n",
              "      --hover-fill-color: #174EA6;\n",
              "      --disabled-fill-color: #AAA;\n",
              "      --disabled-bg-color: #DDD;\n",
              "  }\n",
              "\n",
              "  [theme=dark] .colab-df-quickchart {\n",
              "      --bg-color: #3B4455;\n",
              "      --fill-color: #D2E3FC;\n",
              "      --hover-bg-color: #434B5C;\n",
              "      --hover-fill-color: #FFFFFF;\n",
              "      --disabled-bg-color: #3B4455;\n",
              "      --disabled-fill-color: #666;\n",
              "  }\n",
              "\n",
              "  .colab-df-quickchart {\n",
              "    background-color: var(--bg-color);\n",
              "    border: none;\n",
              "    border-radius: 50%;\n",
              "    cursor: pointer;\n",
              "    display: none;\n",
              "    fill: var(--fill-color);\n",
              "    height: 32px;\n",
              "    padding: 0;\n",
              "    width: 32px;\n",
              "  }\n",
              "\n",
              "  .colab-df-quickchart:hover {\n",
              "    background-color: var(--hover-bg-color);\n",
              "    box-shadow: 0 1px 2px rgba(60, 64, 67, 0.3), 0 1px 3px 1px rgba(60, 64, 67, 0.15);\n",
              "    fill: var(--button-hover-fill-color);\n",
              "  }\n",
              "\n",
              "  .colab-df-quickchart-complete:disabled,\n",
              "  .colab-df-quickchart-complete:disabled:hover {\n",
              "    background-color: var(--disabled-bg-color);\n",
              "    fill: var(--disabled-fill-color);\n",
              "    box-shadow: none;\n",
              "  }\n",
              "\n",
              "  .colab-df-spinner {\n",
              "    border: 2px solid var(--fill-color);\n",
              "    border-color: transparent;\n",
              "    border-bottom-color: var(--fill-color);\n",
              "    animation:\n",
              "      spin 1s steps(1) infinite;\n",
              "  }\n",
              "\n",
              "  @keyframes spin {\n",
              "    0% {\n",
              "      border-color: transparent;\n",
              "      border-bottom-color: var(--fill-color);\n",
              "      border-left-color: var(--fill-color);\n",
              "    }\n",
              "    20% {\n",
              "      border-color: transparent;\n",
              "      border-left-color: var(--fill-color);\n",
              "      border-top-color: var(--fill-color);\n",
              "    }\n",
              "    30% {\n",
              "      border-color: transparent;\n",
              "      border-left-color: var(--fill-color);\n",
              "      border-top-color: var(--fill-color);\n",
              "      border-right-color: var(--fill-color);\n",
              "    }\n",
              "    40% {\n",
              "      border-color: transparent;\n",
              "      border-right-color: var(--fill-color);\n",
              "      border-top-color: var(--fill-color);\n",
              "    }\n",
              "    60% {\n",
              "      border-color: transparent;\n",
              "      border-right-color: var(--fill-color);\n",
              "    }\n",
              "    80% {\n",
              "      border-color: transparent;\n",
              "      border-right-color: var(--fill-color);\n",
              "      border-bottom-color: var(--fill-color);\n",
              "    }\n",
              "    90% {\n",
              "      border-color: transparent;\n",
              "      border-bottom-color: var(--fill-color);\n",
              "    }\n",
              "  }\n",
              "</style>\n",
              "\n",
              "      <script>\n",
              "        async function quickchart(key) {\n",
              "          const quickchartButtonEl =\n",
              "            document.querySelector('#' + key + ' button');\n",
              "          quickchartButtonEl.disabled = true;  // To prevent multiple clicks.\n",
              "          quickchartButtonEl.classList.add('colab-df-spinner');\n",
              "          try {\n",
              "            const charts = await google.colab.kernel.invokeFunction(\n",
              "                'suggestCharts', [key], {});\n",
              "          } catch (error) {\n",
              "            console.error('Error during call to suggestCharts:', error);\n",
              "          }\n",
              "          quickchartButtonEl.classList.remove('colab-df-spinner');\n",
              "          quickchartButtonEl.classList.add('colab-df-quickchart-complete');\n",
              "        }\n",
              "        (() => {\n",
              "          let quickchartButtonEl =\n",
              "            document.querySelector('#df-efd1e42c-d505-48ce-821e-a3a6acaa91cc button');\n",
              "          quickchartButtonEl.style.display =\n",
              "            google.colab.kernel.accessAllowed ? 'block' : 'none';\n",
              "        })();\n",
              "      </script>\n",
              "    </div>\n",
              "\n",
              "    </div>\n",
              "  </div>\n"
            ],
            "application/vnd.google.colaboratory.intrinsic+json": {
              "type": "dataframe",
              "summary": "{\n  \"name\": \"df_n[:5]\",\n  \"rows\": 5,\n  \"fields\": [\n    {\n      \"column\": \"name\",\n      \"properties\": {\n        \"dtype\": \"category\",\n        \"num_unique_values\": 2,\n        \"samples\": [\n          \"Dagrun Eriksen\",\n          \"Laila D\\u00e5v\\u00f8y\"\n        ],\n        \"semantic_type\": \"\",\n        \"description\": \"\"\n      }\n    },\n    {\n      \"column\": \"sex\",\n      \"properties\": {\n        \"dtype\": \"category\",\n        \"num_unique_values\": 1,\n        \"samples\": [\n          \"F\"\n        ],\n        \"semantic_type\": \"\",\n        \"description\": \"\"\n      }\n    },\n    {\n      \"column\": \"party\",\n      \"properties\": {\n        \"dtype\": \"category\",\n        \"num_unique_values\": 1,\n        \"samples\": [\n          \"Kristelig Folkeparti\"\n        ],\n        \"semantic_type\": \"\",\n        \"description\": \"\"\n      }\n    },\n    {\n      \"column\": \"text\",\n      \"properties\": {\n        \"dtype\": \"string\",\n        \"num_unique_values\": 5,\n        \"samples\": [\n          \"La meg komme med et femte eksempel p\\u00e5 sendrektighet. Det gjelder brukerstyrt personlig assistent som skulle ha kommet allerede i 2005. Regjeringen har n\\u00e5 solgt det ut som om det kommer n\\u00e5. Men det som egentlig bare er kommet, er en h\\u00f8ring med en kjempelang h\\u00f8ringsfrist, til 1. august. Denne saken kommer ikke til \\u00e5 bli l\\u00f8st i denne stortingsperioden. Tilbake til talegjenkjenningsprogrammet: Det kan alts\\u00e5 sette tusenvis av mennesker med ulike utfordringer i stand til \\u00e5 betjene datamaskiner, noe som for sv\\u00e6rt mange er en forutsetning for \\u00e5 kunne delta i arbeidslivet. Det er mange eksempler p\\u00e5 det. Potensialet for sparte trygdeutgifter er enormt. Nav har etterlyst programmet lenge. Det jeg f\\u00f8ler statsr\\u00e5den gj\\u00f8r, er \\u00e5 problematisere. Det er det samme for b\\u00e5de stortingsrepresentanter og funksjonshemmede om Innovasjon Norge eller andre legger til rette, og hvordan man vil gj\\u00f8re det. Men n\\u00e5r kommer det? Har departementet satt i gang? N\\u00e5r setter man i gang prosessen? N\\u00e5r kommer det?\"\n        ],\n        \"semantic_type\": \"\",\n        \"description\": \"\"\n      }\n    },\n    {\n      \"column\": \"date\",\n      \"properties\": {\n        \"dtype\": \"date\",\n        \"min\": \"2013-04-17 00:00:00\",\n        \"max\": \"2013-04-17 00:00:00\",\n        \"num_unique_values\": 1,\n        \"samples\": [\n          \"2013-04-17 00:00:00\"\n        ],\n        \"semantic_type\": \"\",\n        \"description\": \"\"\n      }\n    },\n    {\n      \"column\": \"time_group\",\n      \"properties\": {\n        \"dtype\": \"number\",\n        \"std\": 0,\n        \"min\": 2,\n        \"max\": 2,\n        \"num_unique_values\": 1,\n        \"samples\": [\n          2\n        ],\n        \"semantic_type\": \"\",\n        \"description\": \"\"\n      }\n    }\n  ]\n}"
            }
          },
          "metadata": {},
          "execution_count": 4
        }
      ]
    },
    {
      "cell_type": "code",
      "source": [
        "tg1_df = df_n[df_n['time_group'] == 1]\n",
        "tg2_df = df_n[df_n['time_group'] == 2]"
      ],
      "metadata": {
        "id": "hQi9OJKK0VGb"
      },
      "execution_count": null,
      "outputs": []
    },
    {
      "cell_type": "code",
      "source": [
        "sub_corpora_n = {name: group for name, group in df_n.groupby('name')}"
      ],
      "metadata": {
        "id": "w4jiIFnl01Za"
      },
      "execution_count": null,
      "outputs": []
    },
    {
      "cell_type": "code",
      "source": [
        "general_corp_speaker1, speaker1_corp = generate_speaker_and_general_corpus_within_timeframe(df_n, sub_corpora_n, 'Frank Bakke-Jensen')\n",
        "general_corp_speaker2, speaker2_corp = generate_speaker_and_general_corpus_within_timeframe(df_n, sub_corpora_n, 'Rigmor Andersen Eide')\n",
        "general_corp_speaker3, speaker3_corp = generate_speaker_and_general_corpus_within_timeframe(df_n, sub_corpora_n, 'Rasmus Hansson')\n",
        "general_corp_speaker4, speaker4_corp = generate_speaker_and_general_corpus_within_timeframe(df_n, sub_corpora_n, 'Erna Solberg')"
      ],
      "metadata": {
        "colab": {
          "base_uri": "https://localhost:8080/"
        },
        "id": "brnqldbO05VA",
        "outputId": "a37c84de-d126-4253-cb19-31c4cfcd793a"
      },
      "execution_count": null,
      "outputs": [
        {
          "output_type": "stream",
          "name": "stdout",
          "text": [
            "speaker years [2013 2020 2019 2015 2012 2021 2010 2018 2014 2017 2009 2016 2011]\n",
            "speaker years [2013 2001 2003 2015 2002 2012 2010 2014 2017 2009 2016 2011 2004]\n",
            "speaker years [2013 2015 2021 2014 2017 2016 2022]\n",
            "speaker years [2013 1999 2020 1998 2000 2019 2001 2003 2015 2002 2012 2021 2010 2018\n",
            " 2014 2017 2009 2008 2016 2011 2022 2004 2007 2005 2006]\n"
          ]
        }
      ]
    },
    {
      "cell_type": "markdown",
      "source": [
        "# Main"
      ],
      "metadata": {
        "id": "FQHfYhwPL55j"
      }
    },
    {
      "cell_type": "code",
      "source": [
        "tw = 'bærekraft'"
      ],
      "metadata": {
        "id": "U6rS0gfY6GSz"
      },
      "execution_count": null,
      "outputs": []
    },
    {
      "cell_type": "code",
      "source": [
        "\"\"\"\n",
        "tg1_freq = calculate_target_word_frequency(tg1_df, tw)\n",
        "tg2_freq = calculate_target_word_frequency(tg2_df, tw)\n",
        "speaker1_freq = calculate_target_word_frequency(speaker1_corp, tw)\n",
        "speaker2_freq = calculate_target_word_frequency(speaker2_corp, tw)\n",
        "speaker3_freq = calculate_target_word_frequency(speaker3_corp, tw)\n",
        "speaker4_freq = calculate_target_word_frequency(speaker4_corp, tw)\n",
        "gs1_freq = calculate_target_word_frequency(general_corp_speaker1, tw)\n",
        "gs2_freq = calculate_target_word_frequency(general_corp_speaker2, tw)\n",
        "gs3_freq = calculate_target_word_frequency(general_corp_speaker3, tw)\n",
        "gs4_freq = calculate_target_word_frequency(general_corp_speaker4, tw)\n",
        "\"\"\""
      ],
      "metadata": {
        "id": "5PJEwByu1rlo",
        "colab": {
          "base_uri": "https://localhost:8080/",
          "height": 105
        },
        "outputId": "305f1e7e-11d7-4d20-abb5-e010a8757bba"
      },
      "execution_count": null,
      "outputs": [
        {
          "output_type": "execute_result",
          "data": {
            "text/plain": [
              "'\\ntg1_freq = calculate_target_word_frequency(tg1_df, tw)\\ntg2_freq = calculate_target_word_frequency(tg2_df, tw)\\nspeaker1_freq = calculate_target_word_frequency(speaker1_corp, tw)\\nspeaker2_freq = calculate_target_word_frequency(speaker2_corp, tw)\\nspeaker3_freq = calculate_target_word_frequency(speaker3_corp, tw)\\nspeaker4_freq = calculate_target_word_frequency(speaker4_corp, tw)\\ngs1_freq = calculate_target_word_frequency(general_corp_speaker1, tw)\\ngs2_freq = calculate_target_word_frequency(general_corp_speaker2, tw)\\ngs3_freq = calculate_target_word_frequency(general_corp_speaker3, tw)\\ngs4_freq = calculate_target_word_frequency(general_corp_speaker4, tw)\\n'"
            ],
            "application/vnd.google.colaboratory.intrinsic+json": {
              "type": "string"
            }
          },
          "metadata": {},
          "execution_count": 9
        }
      ]
    },
    {
      "cell_type": "code",
      "source": [
        "tg1_freq = 3182\n",
        "tg2_freq = 7783\n",
        "speaker1_freq = 224\n",
        "speaker2_freq = 142\n",
        "speaker3_freq = 217\n",
        "speaker4_freq = 227\n",
        "gs1_freq = 8049\n",
        "gs2_freq = 5828\n",
        "gs3_freq = 4361\n",
        "gs4_freq = 10738\n",
        "\n",
        "print('tg1_freq', tg1_freq)\n",
        "print('tg2_freq', tg2_freq)\n",
        "print('speaker1_freq', speaker1_freq)\n",
        "print('speaker2_freq', speaker2_freq)\n",
        "print('speaker3_freq', speaker3_freq)\n",
        "print('speaker4_freq', speaker4_freq)\n",
        "print('gs1_freq', gs1_freq)\n",
        "print('gs2_freq', gs2_freq)\n",
        "print('gs3_freq', gs3_freq)\n",
        "print('gs4_freq', gs4_freq)"
      ],
      "metadata": {
        "colab": {
          "base_uri": "https://localhost:8080/"
        },
        "id": "BLwktuSh2x4g",
        "outputId": "b0d8d023-3f58-4e13-af25-918b20c0380b"
      },
      "execution_count": null,
      "outputs": [
        {
          "output_type": "stream",
          "name": "stdout",
          "text": [
            "tg1_freq 3182\n",
            "tg2_freq 7783\n",
            "speaker1_freq 224\n",
            "speaker2_freq 142\n",
            "speaker3_freq 217\n",
            "speaker4_freq 227\n",
            "gs1_freq 8049\n",
            "gs2_freq 5828\n",
            "gs3_freq 4361\n",
            "gs4_freq 10738\n"
          ]
        }
      ]
    },
    {
      "cell_type": "code",
      "source": [
        "\"\"\"\n",
        "tg1_total = count_total_tokens(tg1_df)\n",
        "print('tg1_total', tg1_total)\n",
        "\n",
        "tg2_total = count_total_tokens(tg2_df)\n",
        "print('tg2_total', tg2_total)\n",
        "\n",
        "speaker1_total = count_total_tokens(speaker1_corp)\n",
        "print('speaker1_total', speaker1_total)\n",
        "\n",
        "speaker2_total = count_total_tokens(speaker2_corp)\n",
        "print('speaker2_total', speaker2_total)\n",
        "\n",
        "speaker3_total = count_total_tokens(speaker3_corp)\n",
        "print('speaker3_total', speaker3_total)\n",
        "\n",
        "speaker4_total = count_total_tokens(speaker4_corp)\n",
        "print('speaker4_total', speaker4_total)\n",
        "\n",
        "gs1_total = count_total_tokens(general_corp_speaker1)\n",
        "print('gs1_total', gs1_total)\n",
        "\n",
        "gs2_total = count_total_tokens(general_corp_speaker2)\n",
        "print('gs2_total', gs2_total)\n",
        "\n",
        "gs3_total = count_total_tokens(general_corp_speaker3)\n",
        "print('gs3_total', gs3_total)\n",
        "\n",
        "gs4_total = count_total_tokens(general_corp_speaker4)\n",
        "print('gs4_total', gs4_total)\n",
        "\"\"\""
      ],
      "metadata": {
        "colab": {
          "base_uri": "https://localhost:8080/",
          "height": 122
        },
        "id": "IJGMes4lUMlM",
        "outputId": "4a445fcc-4dea-4daa-be2e-2c96b02a154d"
      },
      "execution_count": null,
      "outputs": [
        {
          "output_type": "execute_result",
          "data": {
            "text/plain": [
              "\"\\ntg1_total = count_total_tokens(tg1_df)\\nprint('tg1_total', tg1_total)\\n\\ntg2_total = count_total_tokens(tg2_df)\\nprint('tg2_total', tg2_total)\\n\\nspeaker1_total = count_total_tokens(speaker1_corp)\\nprint('speaker1_total', speaker1_total)\\n\\nspeaker2_total = count_total_tokens(speaker2_corp)\\nprint('speaker2_total', speaker2_total)\\n\\nspeaker3_total = count_total_tokens(speaker3_corp)\\nprint('speaker3_total', speaker3_total)\\n\\nspeaker4_total = count_total_tokens(speaker4_corp)\\nprint('speaker4_total', speaker4_total)\\n\\ngs1_total = count_total_tokens(general_corp_speaker1)\\nprint('gs1_total', gs1_total)\\n\\ngs2_total = count_total_tokens(general_corp_speaker2)\\nprint('gs2_total', gs2_total)\\n\\ngs3_total = count_total_tokens(general_corp_speaker3)\\nprint('gs3_total', gs3_total)\\n\\ngs4_total = count_total_tokens(general_corp_speaker4)\\nprint('gs4_total', gs4_total)\\n\""
            ],
            "application/vnd.google.colaboratory.intrinsic+json": {
              "type": "string"
            }
          },
          "metadata": {},
          "execution_count": 11
        }
      ]
    },
    {
      "cell_type": "code",
      "source": [
        "tg1_total = 46012347\n",
        "tg2_total = 46855159\n",
        "speaker1_total = 296784\n",
        "speaker2_total = 153434\n",
        "speaker3_total = 259311\n",
        "speaker4_total = 1277214\n",
        "gs1_total = 53154807\n",
        "gs2_total = 50956027\n",
        "gs3_total = 25817539\n",
        "gs4_total = 91590292"
      ],
      "metadata": {
        "id": "5KHvNaPfSeOU"
      },
      "execution_count": null,
      "outputs": []
    },
    {
      "cell_type": "code",
      "source": [
        "\n",
        "print('--------General use---------')\n",
        "gs1_freq_norm = normalize_frequency(gs1_freq, gs1_total)\n",
        "print(gs1_freq_norm)\n",
        "\n",
        "gs2_freq_norm = normalize_frequency(gs2_freq, gs2_total)\n",
        "print(gs2_freq_norm)\n",
        "\n",
        "gs3_freq_norm = normalize_frequency(gs3_freq, gs3_total)\n",
        "print(gs3_freq_norm)\n",
        "\n",
        "gs4_freq_norm = normalize_frequency(gs4_freq, gs4_total)\n",
        "print(gs4_freq_norm)\n",
        "\n",
        "\n",
        "print('--------Speaker use---------')\n",
        "speaker1_freq_norm = normalize_frequency(speaker1_freq, speaker1_total)\n",
        "print(speaker1_freq_norm)\n",
        "\n",
        "speaker2_freq_norm = normalize_frequency(speaker2_freq, speaker2_total)\n",
        "print(speaker2_freq_norm)\n",
        "\n",
        "speaker3_freq_norm = normalize_frequency(speaker3_freq, speaker3_total)\n",
        "print(speaker3_freq_norm)\n",
        "\n",
        "speaker4_freq_norm = normalize_frequency(speaker4_freq, speaker4_total)\n",
        "print(speaker4_freq_norm)"
      ],
      "metadata": {
        "colab": {
          "base_uri": "https://localhost:8080/"
        },
        "id": "lOUkkprNkA9G",
        "outputId": "0e69dc5b-5217-48ae-bd8a-96da0596a0c7"
      },
      "execution_count": null,
      "outputs": [
        {
          "output_type": "stream",
          "name": "stdout",
          "text": [
            "--------General use---------\n",
            "0.15142562741315194\n",
            "0.11437312410561365\n",
            "0.16891617748694018\n",
            "0.11723949957491128\n",
            "--------Speaker use---------\n",
            "0.7547576688770284\n",
            "0.9254793592033057\n",
            "0.836832992044302\n",
            "0.17773059174108646\n"
          ]
        }
      ]
    },
    {
      "cell_type": "code",
      "source": [
        "import numpy as np\n",
        "log_speaker1_freq = np.log(speaker1_freq_norm)\n",
        "log_speaker2_freq = np.log(speaker2_freq_norm)\n",
        "log_speaker3_freq = np.log(speaker3_freq_norm)\n",
        "log_speaker4_freq = np.log(speaker4_freq_norm)\n",
        "\n",
        "log_gs1_freq = np.log(gs1_freq_norm)\n",
        "log_gs2_freq = np.log(gs2_freq_norm)\n",
        "log_gs3_freq = np.log(gs3_freq_norm)\n",
        "log_gs4_freq = np.log(gs4_freq_norm)\n",
        "\n",
        "print('log speaker1_freq' , log_speaker1_freq)\n",
        "print('log speaker2_freq' , log_speaker2_freq)\n",
        "print('log speaker3_freq' , log_speaker3_freq)\n",
        "print('log speaker4_freq' , log_speaker4_freq)\n",
        "\n",
        "print('log gs1_freq', log_gs1_freq)\n",
        "print('log gs2_freq', log_gs2_freq)\n",
        "print('log gs3_freq', log_gs3_freq)\n",
        "print('log gs4_freq', log_gs4_freq)"
      ],
      "metadata": {
        "colab": {
          "base_uri": "https://localhost:8080/"
        },
        "id": "6AtHVIgd5SGt",
        "outputId": "11e581a3-c6f4-4eee-82c3-92d725726f8b"
      },
      "execution_count": null,
      "outputs": [
        {
          "output_type": "stream",
          "name": "stdout",
          "text": [
            "log speaker1_freq -0.2813585496292827\n",
            "log speaker2_freq -0.07744344953678209\n",
            "log speaker3_freq -0.17813076000950484\n",
            "log speaker4_freq -1.7274864047773812\n",
            "log gs1_freq -1.887660682731589\n",
            "log gs2_freq -2.168289156783348\n",
            "log gs3_freq -1.7783526783049246\n",
            "log gs4_freq -2.14353643153041\n"
          ]
        }
      ]
    },
    {
      "cell_type": "code",
      "source": [
        "frq_d_speaker1 = compute_frq_d(gs1_freq_norm, speaker1_freq_norm)\n",
        "frq_m_speaker1 = compute_frq_m(gs1_freq_norm, speaker1_freq_norm)\n",
        "print('frq_d_speaker1', frq_d_speaker1)\n",
        "print('frq_m_speaker1', frq_m_speaker1)\n",
        "\n",
        "frq_d_speaker2 = compute_frq_d(gs2_freq_norm, speaker2_freq_norm)\n",
        "frq_m_speaker2 = compute_frq_m(gs2_freq_norm, speaker2_freq_norm)\n",
        "print('frq_d_speaker2', frq_d_speaker2)\n",
        "print('frq_m_speaker2', frq_m_speaker2)\n",
        "\n",
        "frq_d_speaker3 = compute_frq_d(gs3_freq_norm, speaker3_freq_norm)\n",
        "frq_m_speaker3 = compute_frq_m(gs3_freq_norm, speaker3_freq_norm)\n",
        "print('frq_d_speaker3', frq_d_speaker3)\n",
        "print('frq_m_speaker3', frq_m_speaker3)\n",
        "\n",
        "frq_d_speaker4 = compute_frq_d(gs4_freq_norm, speaker4_freq_norm)\n",
        "frq_m_speaker4 = compute_frq_m(gs4_freq_norm, speaker4_freq_norm)\n",
        "print('frq_d_speaker4', frq_d_speaker4)\n",
        "print('frq_m_speaker4', frq_m_speaker4)"
      ],
      "metadata": {
        "colab": {
          "base_uri": "https://localhost:8080/"
        },
        "id": "iwdoVa8ewbnH",
        "outputId": "9fc11410-6601-4c78-b8dd-c8cca034cfc5"
      },
      "execution_count": null,
      "outputs": [
        {
          "output_type": "stream",
          "name": "stdout",
          "text": [
            "frq_d_speaker1 1.6063021331023062\n",
            "frq_m_speaker1 -1.887660682731589\n",
            "frq_d_speaker2 2.090845707246566\n",
            "frq_m_speaker2 -2.168289156783348\n",
            "frq_d_speaker3 1.6002219182954198\n",
            "frq_m_speaker3 -1.7783526783049246\n",
            "frq_d_speaker4 0.41605002675302893\n",
            "frq_m_speaker4 -2.14353643153041\n"
          ]
        }
      ]
    },
    {
      "cell_type": "code",
      "source": [
        "frq_d = [\n",
        "    (1, frq_d_speaker1),\n",
        "    (2, frq_d_speaker2),\n",
        "    (3, frq_d_speaker3),\n",
        "    (4, frq_d_speaker4)\n",
        "]\n",
        "\n",
        "frq_m = [\n",
        "    (1, frq_m_speaker1),\n",
        "    (2, frq_m_speaker2),\n",
        "    (3, frq_m_speaker3),\n",
        "    (4, frq_m_speaker4)\n",
        "]"
      ],
      "metadata": {
        "id": "tMqWAvv10Hjx"
      },
      "execution_count": null,
      "outputs": []
    },
    {
      "cell_type": "code",
      "source": [
        "ft_jsd_values = [\n",
        "    (1, np.float64(0.44921871324465645)),\n",
        "    (2, np.float64(0.3616129244248057)),\n",
        "    (3, np.float64(0.3546079707822841)),\n",
        "    (4, np.float64(0.45164293828621116))\n",
        "]\n",
        "\n",
        "\n",
        "ft_corr_frq_d = spearman_systems(ft_jsd_values, frq_d)\n",
        "print('ft_corr_frq_d', ft_corr_frq_d)\n",
        "\n",
        "ft_corr_frq_m = spearman_systems(ft_jsd_values, frq_m)\n",
        "print('ft_corr_frq_m', ft_corr_frq_m)\n",
        "\n",
        "print_rank(ft_jsd_values)\n"
      ],
      "metadata": {
        "colab": {
          "base_uri": "https://localhost:8080/"
        },
        "id": "w2E5eCMP01Q-",
        "outputId": "4fcc22de-8d7e-40bb-e556-fc12fa308a45"
      },
      "execution_count": null,
      "outputs": [
        {
          "output_type": "stream",
          "name": "stdout",
          "text": [
            "ft_corr_frq_d -0.39999999999999997\n",
            "ft_corr_frq_m -0.39999999999999997\n",
            "[4, 1, 2, 3]\n"
          ]
        }
      ]
    },
    {
      "cell_type": "code",
      "source": [
        "pt_jsd_values = [\n",
        "    (1, np.float64(0.5024905442575683)),\n",
        "    (2, np.float64(0.29100035275770453)),\n",
        "    (3,  np.float64(0.31448108089053484)),\n",
        "    (4, np.float64(0.39782780640754384))\n",
        "]\n",
        "\n",
        "pt_corr_frq = spearman_systems(pt_jsd_values, frq_d)\n",
        "print('pt_corr_frq', pt_corr_frq)\n",
        "\n",
        "pt_corr_frq_m = spearman_systems(pt_jsd_values, frq_m)\n",
        "print('pt_corr_frq_m', pt_corr_frq_m)\n",
        "\n",
        "print_rank(pt_jsd_values)"
      ],
      "metadata": {
        "colab": {
          "base_uri": "https://localhost:8080/"
        },
        "id": "-cuVL3XN10WF",
        "outputId": "d5eda7a1-1bdf-4c8f-f614-104da6a878d6"
      },
      "execution_count": null,
      "outputs": [
        {
          "output_type": "stream",
          "name": "stdout",
          "text": [
            "pt_corr_frq -0.39999999999999997\n",
            "pt_corr_frq_m 0.39999999999999997\n",
            "[1, 4, 3, 2]\n"
          ]
        }
      ]
    },
    {
      "cell_type": "code",
      "source": [
        "tm_jsd_values = [\n",
        "    (1, np.float64(0.7631599710096147)),\n",
        "    (2, np.float64(0.784756097847314)),\n",
        "    (3, np.float64(0.8268549337358913)),\n",
        "    (4, np.float64(0.8152904133872028))\n",
        "\n",
        "]\n",
        "\n",
        "tm_jsd_corr_frq_d = spearman_systems(tm_jsd_values, frq_d)\n",
        "print('tm_jsd_corr_frq_d', tm_jsd_corr_frq_d)\n",
        "\n",
        "tm_jsd_corr_frq_m = spearman_systems(tm_jsd_values, frq_m)\n",
        "print('tm_jsd_corr_frq_m', tm_jsd_corr_frq_m)\n",
        "\n",
        "print_rank(tm_jsd_values)"
      ],
      "metadata": {
        "colab": {
          "base_uri": "https://localhost:8080/"
        },
        "id": "W6Sb5HO32HpU",
        "outputId": "e05b3963-8118-4c4f-8caa-09610250c42b"
      },
      "execution_count": null,
      "outputs": [
        {
          "output_type": "stream",
          "name": "stdout",
          "text": [
            "tm_jsd_corr_frq_d -0.6000000000000001\n",
            "tm_jsd_corr_frq_m 0.39999999999999997\n",
            "[3, 4, 2, 1]\n"
          ]
        }
      ]
    },
    {
      "cell_type": "code",
      "source": [
        "tm_novelty_values = [\n",
        "    (1, 120.0),\n",
        "    (2, 60.0),\n",
        "    (3, 130.0),\n",
        "    (4, 128,0)\n",
        "]\n",
        "\n",
        "tm_novelty_corr_frq_d = spearman_systems(tm_novelty_values, frq_d)\n",
        "print('tm_novelty_corr_frq_d', tm_novelty_corr_frq_d)\n",
        "\n",
        "tm_novelty_corr_frq_m = spearman_systems(tm_novelty_values, frq_m)\n",
        "print('tm_novelty_corr_frq_m', tm_novelty_corr_frq_m)\n",
        "\n",
        "print_rank(tm_novelty_values)"
      ],
      "metadata": {
        "colab": {
          "base_uri": "https://localhost:8080/"
        },
        "id": "S2yv1qPa2SnZ",
        "outputId": "4a07970a-959b-4921-a7f2-e40a388e271e"
      },
      "execution_count": null,
      "outputs": [
        {
          "output_type": "stream",
          "name": "stdout",
          "text": [
            "tm_novelty_corr_frq_d -0.7999999999999999\n",
            "tm_novelty_corr_frq_m 0.7999999999999999\n",
            "[3, 4, 1, 2]\n"
          ]
        }
      ]
    },
    {
      "cell_type": "code",
      "source": [
        "freq_basel_values = [\n",
        "    (1, 0.002238805970149256),\n",
        "    (2, 0.0006983240223463714),\n",
        "    (3, 0.0005882352941176464),\n",
        "    (4, 0.0006345177664974604)\n",
        "]\n",
        "\n",
        "freq_basel_corr_frq_d = spearman_systems(freq_basel_values, frq_d)\n",
        "print('freq_basel_corr_frq_d', freq_basel_corr_frq_d)\n",
        "\n",
        "freq_basel_corr_frq_m = spearman_systems(freq_basel_values, frq_m)\n",
        "print('freq_basel_corr_frq_m', freq_basel_corr_frq_m)\n",
        "\n",
        "print_rank(freq_basel_values)"
      ],
      "metadata": {
        "colab": {
          "base_uri": "https://localhost:8080/"
        },
        "id": "ltF9KQ8M2ZZQ",
        "outputId": "37731faf-6eae-4882-e71b-cd972df0f45c"
      },
      "execution_count": null,
      "outputs": [
        {
          "output_type": "stream",
          "name": "stdout",
          "text": [
            "freq_basel_corr_frq_d 0.6000000000000001\n",
            "freq_basel_corr_frq_m -0.39999999999999997\n",
            "[1, 2, 4, 3]\n"
          ]
        }
      ]
    },
    {
      "cell_type": "code",
      "source": [
        "count_basel_values = [\n",
        "    (1, np.float64(0.15392036905637763)),\n",
        "    (2, np.float64(0.08998417915975176)),\n",
        "    (3, np.float64(0.07253735996962529)),\n",
        "    (4, np.float64(0.08993271551999393))\n",
        "]\n",
        "\n",
        "count_basel_corr_frq_d = spearman_systems(count_basel_values, frq_d)\n",
        "print('count_basel_corr_frq_d', count_basel_corr_frq_d)\n",
        "\n",
        "count_basel_corr_frq_m = spearman_systems(count_basel_values, frq_m)\n",
        "print('count_basel_corr_frq_m', count_basel_corr_frq_m)\n",
        "\n",
        "print_rank(count_basel_values)"
      ],
      "metadata": {
        "colab": {
          "base_uri": "https://localhost:8080/"
        },
        "id": "hIkjfsSY3Hij",
        "outputId": "577cc742-4861-4c9d-bf8c-823ee4ef952b"
      },
      "execution_count": null,
      "outputs": [
        {
          "output_type": "stream",
          "name": "stdout",
          "text": [
            "count_basel_corr_frq_d 0.6000000000000001\n",
            "count_basel_corr_frq_m -0.39999999999999997\n",
            "[1, 2, 4, 3]\n"
          ]
        }
      ]
    },
    {
      "cell_type": "code",
      "source": [
        "pt_apd_values = [\n",
        "    (1, 0.21373258741378562),\n",
        "    (2, 0.21893470070994883),\n",
        "    (3, 0.20913882849119797),\n",
        "    (4, 0.2134432500436538)\n",
        "]\n",
        "\n",
        "pt_apd_corr_frq_d = spearman_systems(pt_apd_values, frq_d)\n",
        "print('pt_apd_corr_frq_d', pt_apd_corr_frq_d)\n",
        "\n",
        "pt_apd_corr_frq_m = spearman_systems(pt_apd_values, frq_m)\n",
        "print('pt_apd_corr_frq_m', pt_apd_corr_frq_m)\n",
        "\n",
        "print_rank(pt_apd_values)"
      ],
      "metadata": {
        "colab": {
          "base_uri": "https://localhost:8080/"
        },
        "id": "RBeyRJz2Kvst",
        "outputId": "9fe4a275-4e6e-4a15-9c83-53608a662421"
      },
      "execution_count": null,
      "outputs": [
        {
          "output_type": "stream",
          "name": "stdout",
          "text": [
            "pt_apd_corr_frq_d 0.7999999999999999\n",
            "pt_apd_corr_frq_m -0.7999999999999999\n",
            "[2, 1, 4, 3]\n"
          ]
        }
      ]
    },
    {
      "cell_type": "code",
      "source": [
        "ft_apd_values = [\n",
        "    (1, 0.2447261262153447),\n",
        "    (2, 0.2526628800535178),\n",
        "    (3, 0.24530404686352136),\n",
        "    (4, 0.25772409003511876)\n",
        "]\n",
        "\n",
        "ft_apd_corr_frq_d = spearman_systems(ft_apd_values, frq_d)\n",
        "print('ft_apd_corr_frq_d', ft_apd_corr_frq_d)\n",
        "\n",
        "ft_apd_corr_frq_m = spearman_systems(ft_apd_values, frq_m)\n",
        "print('ft_apd_corr_frq_m', ft_apd_corr_frq_m)\n",
        "\n",
        "print_rank(ft_apd_values)"
      ],
      "metadata": {
        "colab": {
          "base_uri": "https://localhost:8080/"
        },
        "id": "cKL_v2fcLaTG",
        "outputId": "3b368a1d-c11f-491b-fa6e-fdadccd13abb"
      },
      "execution_count": null,
      "outputs": [
        {
          "output_type": "stream",
          "name": "stdout",
          "text": [
            "ft_apd_corr_frq_d -0.39999999999999997\n",
            "ft_apd_corr_frq_m -0.6000000000000001\n",
            "[4, 2, 3, 1]\n"
          ]
        }
      ]
    },
    {
      "cell_type": "code",
      "source": [
        "ft_euc_jsd = [(1, np.float64(0.5334724658148204)),\n",
        " (2, np.float64(0.42281629268143334)),\n",
        " (3, np.float64(0.35989174640103705)),\n",
        " (4, np.float64(0.5013929425024878))]\n",
        "\n",
        "ft_euc_jsd_corr_frq_d = spearman_systems(ft_euc_jsd, frq_d)\n",
        "print('ft_euc_jsd_corr_frq_d', ft_euc_jsd_corr_frq_d)\n",
        "\n",
        "ft_euc_jsd_corr_frq_m = spearman_systems(ft_euc_jsd, frq_m)\n",
        "print('ft_euc_jsd_corr_frq_m', ft_euc_jsd_corr_frq_m)\n",
        "\n",
        "print_rank(ft_euc_jsd)"
      ],
      "metadata": {
        "colab": {
          "base_uri": "https://localhost:8080/"
        },
        "id": "GpbjwQzw1KCJ",
        "outputId": "9650bd1f-e880-4f82-a47e-ab5f74111f97"
      },
      "execution_count": null,
      "outputs": [
        {
          "output_type": "stream",
          "name": "stdout",
          "text": [
            "ft_euc_jsd_corr_frq_d 0.0\n",
            "ft_euc_jsd_corr_frq_m -0.19999999999999998\n",
            "[1, 4, 2, 3]\n"
          ]
        }
      ]
    },
    {
      "cell_type": "code",
      "source": [
        "pt_euc_jsd = [(1, np.float64(0.4846194546977877)),\n",
        " (2, np.float64(0.4205002209171005)),\n",
        " (3, np.float64(0.308471431429295)),\n",
        " (4, np.float64(0.49263754672399))]\n",
        "\n",
        "pt_euc_jsd_corr_frq_d = spearman_systems(pt_euc_jsd, frq_d)\n",
        "print('pt_euc_jsd_corr_frq_d', pt_euc_jsd_corr_frq_d)\n",
        "\n",
        "pt_euc_jsd_corr_frq_m = spearman_systems(pt_euc_jsd, frq_m)\n",
        "print('pt_euc_jsd_corr_frq_m', pt_euc_jsd_corr_frq_m)\n",
        "\n",
        "print_rank(pt_euc_jsd)"
      ],
      "metadata": {
        "colab": {
          "base_uri": "https://localhost:8080/"
        },
        "id": "_xPjGJAw1j3S",
        "outputId": "99db1547-8d3a-4c3b-e17c-f4a1a4dc2ad5"
      },
      "execution_count": null,
      "outputs": [
        {
          "output_type": "stream",
          "name": "stdout",
          "text": [
            "pt_euc_jsd_corr_frq_d -0.39999999999999997\n",
            "pt_euc_jsd_corr_frq_m -0.39999999999999997\n",
            "[4, 1, 2, 3]\n"
          ]
        }
      ]
    },
    {
      "cell_type": "code",
      "source": [
        "gold_rank = [\n",
        "    ('s1', np.float64(0.2648922456511161)),\n",
        "    ('s2', np.float64(0.3519419416573242)),\n",
        "    ('s3', np.float64(0.2734569376344687)),\n",
        "    ('s4', np.float64(0.17102009867888196))\n",
        "]\n",
        "\n",
        "print_rank(gold_rank)"
      ],
      "metadata": {
        "id": "PMNkTjf-Dyuq",
        "colab": {
          "base_uri": "https://localhost:8080/"
        },
        "outputId": "183af481-c1e6-40b2-8f32-5ebc01d73cb1"
      },
      "execution_count": null,
      "outputs": [
        {
          "output_type": "stream",
          "name": "stdout",
          "text": [
            "['s2', 's3', 's1', 's4']\n"
          ]
        }
      ]
    },
    {
      "cell_type": "code",
      "source": [
        "ft_performance = spearman_systems(gold_rank, ft_jsd_values)\n",
        "print('ft performance', ft_performance)\n",
        "\n",
        "pt_performance = spearman_systems(gold_rank, pt_jsd_values)\n",
        "print('pt performance', pt_performance)\n",
        "\n",
        "ft_euc_jsd_performance = spearman_systems(gold_rank, ft_euc_jsd)\n",
        "print('ft_euc_jsd_performance', ft_euc_jsd_performance)\n",
        "\n",
        "pt_euc_jsd_performance = spearman_systems(gold_rank, pt_euc_jsd)\n",
        "print('pt_euc_jsd_performance', pt_euc_jsd_performance)\n",
        "\n",
        "ft_apd_performance = spearman_systems(gold_rank, ft_apd_values)\n",
        "print('ft_apd_performance', ft_apd_performance)\n",
        "\n",
        "pt_apd_performance = spearman_systems(gold_rank, pt_apd_values)\n",
        "print('pt_apd_performance', pt_apd_performance)\n",
        "\n",
        "tm_jsd_performance = spearman_systems(gold_rank, tm_jsd_values)\n",
        "print('tm_jsd_performance', tm_jsd_performance)\n",
        "\n",
        "tm_novelty_performance = spearman_systems(gold_rank, tm_novelty_values)\n",
        "print('tm_novelty_performance', tm_novelty_performance)\n",
        "\n",
        "freq_basel_performance = spearman_systems(gold_rank, freq_basel_values)\n",
        "print('freq_basel_performance', freq_basel_performance)\n",
        "\n",
        "count_basel_performance = spearman_systems(gold_rank, count_basel_values)\n",
        "print('count_basel_performance', count_basel_performance)"
      ],
      "metadata": {
        "colab": {
          "base_uri": "https://localhost:8080/"
        },
        "id": "rNRbcHzWD1If",
        "outputId": "fb6433c7-7a20-4378-a286-3edf4256fcee"
      },
      "execution_count": null,
      "outputs": [
        {
          "output_type": "stream",
          "name": "stdout",
          "text": [
            "ft performance -0.7999999999999999\n",
            "pt performance -0.7999999999999999\n",
            "ft_euc_jsd_performance -0.6000000000000001\n",
            "pt_euc_jsd_performance -0.7999999999999999\n",
            "ft_apd_performance -0.19999999999999998\n",
            "pt_apd_performance 0.39999999999999997\n",
            "tm_jsd_performance 0.0\n",
            "tm_novelty_performance -0.39999999999999997\n",
            "freq_basel_performance 0.0\n",
            "count_basel_performance 0.0\n"
          ]
        }
      ]
    },
    {
      "cell_type": "code",
      "source": [
        "from scipy.stats import spearmanr\n",
        "import numpy as np\n",
        "\n",
        "gold_ranks_speaker_ordered = [np.float64(0.2648922456511161),\n",
        "                              np.float64(0.3519419416573242),\n",
        "                              np.float64(0.2734569376344687),\n",
        "                              np.float64(0.17102009867888196)]\n",
        "\n",
        "frq_d_values = [frq_d_speaker1, frq_d_speaker2, frq_d_speaker3, frq_d_speaker4]\n",
        "frq_m_values = [frq_m_speaker1, frq_m_speaker2, frq_m_speaker3, frq_m_speaker4]\n",
        "\n",
        "gold_vs_frqd, _ = spearmanr(gold_ranks_speaker_ordered, frq_d_values)\n",
        "gold_vs_frqm, _ = spearmanr(gold_ranks_speaker_ordered, frq_m_values)\n",
        "\n",
        "print('gold vs frq_d', gold_vs_frqd)\n",
        "print('gold vs frq_m', gold_vs_frqm)"
      ],
      "metadata": {
        "colab": {
          "base_uri": "https://localhost:8080/"
        },
        "id": "8KemNrHc489P",
        "outputId": "036fc788-f733-4f57-f62a-1f16104d4023"
      },
      "execution_count": null,
      "outputs": [
        {
          "output_type": "stream",
          "name": "stdout",
          "text": [
            "gold vs frq_d 0.7999999999999999\n",
            "gold vs frq_m -0.19999999999999998\n"
          ]
        }
      ]
    },
    {
      "cell_type": "code",
      "source": [
        "systems_corr = {\n",
        "    'AP+JSD(Fine-t.)' : {'frq_d': ft_corr_frq_d, 'frq_m': ft_corr_frq_m, 'gold_corr': ft_performance},\n",
        "    'AP+JSD(Pre-t.)' : {'frq_d': pt_corr_frq, 'frq_m': pt_corr_frq_m, 'gold_corr': pt_performance},\n",
        "    'APD(Fine-t.)' : {'frq_d': ft_apd_corr_frq_d, 'frq_m': ft_apd_corr_frq_m, 'gold_corr': ft_apd_performance},\n",
        "    'APD(Pre-t.)' : {'frq_d': pt_apd_corr_frq_d, 'frq_m': pt_apd_corr_frq_m, 'gold_corr': pt_apd_performance},\n",
        "    'HDP+JSD' : {'frq_d': tm_jsd_corr_frq_d, 'frq_m': tm_jsd_corr_frq_m, 'gold_corr': tm_jsd_performance},\n",
        "    'HDP+Novelty' : {'frq_d': tm_novelty_corr_frq_d, 'frq_m': tm_novelty_corr_frq_m, 'gold_corr': tm_novelty_performance},\n",
        "    'Freq. bas.' : {'frq_d': freq_basel_corr_frq_d, 'frq_m': freq_basel_corr_frq_m, 'gold_corr': freq_basel_performance},\n",
        "    'Count bas.' : {'frq_d': count_basel_corr_frq_d, 'frq_m': count_basel_corr_frq_m, 'gold_corr': count_basel_performance}\n",
        "}"
      ],
      "metadata": {
        "id": "zfSp0TF2EVJN"
      },
      "execution_count": null,
      "outputs": []
    },
    {
      "cell_type": "code",
      "source": [
        "print(systems_corr)"
      ],
      "metadata": {
        "colab": {
          "base_uri": "https://localhost:8080/"
        },
        "id": "v9J8Rp5Pp_7n",
        "outputId": "9f32d9c3-01ef-4992-f348-5cdcd80c81b2"
      },
      "execution_count": null,
      "outputs": [
        {
          "output_type": "stream",
          "name": "stdout",
          "text": [
            "{'AP+JSD(Fine-t.)': {'frq_d': np.float64(-0.39999999999999997), 'frq_m': np.float64(-0.39999999999999997), 'gold_corr': np.float64(-0.7999999999999999)}, 'AP+JSD(Pre-t.)': {'frq_d': np.float64(-0.39999999999999997), 'frq_m': np.float64(0.39999999999999997), 'gold_corr': np.float64(-0.7999999999999999)}, 'APD(Fine-t.)': {'frq_d': np.float64(-0.39999999999999997), 'frq_m': np.float64(-0.6000000000000001), 'gold_corr': np.float64(-0.19999999999999998)}, 'APD(Pre-t.)': {'frq_d': np.float64(0.7999999999999999), 'frq_m': np.float64(-0.7999999999999999), 'gold_corr': np.float64(0.39999999999999997)}, 'HDP+JSD': {'frq_d': np.float64(-0.6000000000000001), 'frq_m': np.float64(0.39999999999999997), 'gold_corr': np.float64(0.0)}, 'HDP+Novelty': {'frq_d': np.float64(-0.7999999999999999), 'frq_m': np.float64(0.7999999999999999), 'gold_corr': np.float64(-0.39999999999999997)}, 'Freq. bas.': {'frq_d': np.float64(0.6000000000000001), 'frq_m': np.float64(-0.39999999999999997), 'gold_corr': np.float64(0.0)}, 'Count bas.': {'frq_d': np.float64(0.6000000000000001), 'frq_m': np.float64(-0.39999999999999997), 'gold_corr': np.float64(0.0)}}\n"
          ]
        }
      ]
    },
    {
      "cell_type": "code",
      "source": [
        "systems = list(systems_corr.keys())\n",
        "frq_d_corrs = [systems_corr[s]['frq_d'] for s in systems]\n",
        "print(frq_d_corrs)\n",
        "\n",
        "frq_m_corrs = [systems_corr[s]['frq_m'] for s in systems]\n",
        "print(frq_m_corrs)\n",
        "\n",
        "gold_corrs  = [systems_corr[s]['gold_corr'] for s in systems]\n",
        "print(gold_corrs)"
      ],
      "metadata": {
        "colab": {
          "base_uri": "https://localhost:8080/"
        },
        "id": "kepCTUadJEzA",
        "outputId": "890ac92c-28dc-4a82-d1fd-7dd4c79e27d9"
      },
      "execution_count": null,
      "outputs": [
        {
          "output_type": "stream",
          "name": "stdout",
          "text": [
            "[np.float64(-0.39999999999999997), np.float64(-0.39999999999999997), np.float64(-0.39999999999999997), np.float64(0.7999999999999999), np.float64(-0.6000000000000001), np.float64(-0.7999999999999999), np.float64(0.6000000000000001), np.float64(0.6000000000000001)]\n",
            "[np.float64(-0.39999999999999997), np.float64(0.39999999999999997), np.float64(-0.6000000000000001), np.float64(-0.7999999999999999), np.float64(0.39999999999999997), np.float64(0.7999999999999999), np.float64(-0.39999999999999997), np.float64(-0.39999999999999997)]\n",
            "[np.float64(-0.7999999999999999), np.float64(-0.7999999999999999), np.float64(-0.19999999999999998), np.float64(0.39999999999999997), np.float64(0.0), np.float64(-0.39999999999999997), np.float64(0.0), np.float64(0.0)]\n"
          ]
        }
      ]
    },
    {
      "cell_type": "code",
      "source": [
        "import matplotlib.pyplot as plt\n",
        "import numpy as np\n",
        "from scipy.stats import spearmanr\n",
        "\n",
        "offsets = [(7, 5), (7, -7), (-10, -15), (-17.5, -15), (-10, -15), (-15, -15), (-15,10), (-15,20)]\n",
        "fig, axes = plt.subplots(1, 2, figsize=(12, 5), sharey=True)\n",
        "\n",
        "axes[0].scatter(frq_d_corrs, gold_corrs)\n",
        "axes[0].axvline(gold_vs_frqd, color='grey', linestyle='dotted', linewidth=1.2,\n",
        "                 label=f'freq. correlation gold rank ({gold_vs_frqd:.2f})')\n",
        "axes[0].set_xlabel(\"Predicted rank vs. log freq diff\")\n",
        "axes[0].set_ylabel(\"Performance on gold\")\n",
        "axes[0].set_title(\"Log freq. diff vs. systems' performance\")\n",
        "\n",
        "axes[1].scatter(frq_m_corrs, gold_corrs)\n",
        "axes[1].axvline(gold_vs_frqm, color='grey', linestyle='dotted', linewidth=1.2,\n",
        "                 label=f'freq. correlation gold rank ({gold_vs_frqm:.2f})')\n",
        "axes[1].set_xlabel(\"Predicted rank vs. log freq min\")\n",
        "axes[1].set_title(\"Min log freq. vs. systems' performance \")\n",
        "\n",
        "for i, system in enumerate(systems):\n",
        "    dx, dy = offsets[i % len(offsets)]\n",
        "    axes[0].annotate(system,\n",
        "                     (frq_d_corrs[i], gold_corrs[i]),\n",
        "                     xytext=(dx, dy), textcoords='offset points',\n",
        "                     fontsize=9, clip_on=True)\n",
        "    axes[1].annotate(system,\n",
        "                     (frq_m_corrs[i], gold_corrs[i]),\n",
        "                     xytext=(dx, dy), textcoords='offset points',\n",
        "                     fontsize=9, clip_on=True)\n",
        "\n",
        "plt.tight_layout()\n",
        "plt.show()\n"
      ],
      "metadata": {
        "colab": {
          "base_uri": "https://localhost:8080/",
          "height": 507
        },
        "id": "C6XOcuc6GgnF",
        "outputId": "fc3abc98-2915-4cd3-be77-fb1ea0494a53"
      },
      "execution_count": null,
      "outputs": [
        {
          "output_type": "display_data",
          "data": {
            "text/plain": [
              "<Figure size 1200x500 with 2 Axes>"
            ],
            "image/png": "[encoded data removed]"
          },
          "metadata": {}
        }
      ]
    }
  ]
}